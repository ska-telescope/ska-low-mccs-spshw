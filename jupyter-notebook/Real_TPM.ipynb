{
 "cells": [
  {
   "cell_type": "code",
   "execution_count": 1,
   "id": "c1f8f960-7583-4849-aa57-405f2d663a2e",
   "metadata": {},
   "outputs": [],
   "source": [
    "import tango\n"
   ]
  },
  {
   "cell_type": "code",
   "execution_count": 2,
   "id": "850ff01b-23ed-46d4-9460-48887f5be273",
   "metadata": {},
   "outputs": [],
   "source": [
    "import time"
   ]
  },
  {
   "cell_type": "code",
   "execution_count": 4,
   "id": "19cdf631-aeae-4e1b-9a2f-51231ca058c5",
   "metadata": {},
   "outputs": [],
   "source": [
    "import json"
   ]
  },
  {
   "cell_type": "code",
   "execution_count": 5,
   "id": "caf0ecb8-8b51-4ea9-b3f7-42fe9bccdd43",
   "metadata": {},
   "outputs": [],
   "source": [
    "tpm1=tango.DeviceProxy('low-mccs/tile/0001');\n",
    "tpm2=tango.DeviceProxy('low-mccs/tile/0002');\n",
    "tpm3=tango.DeviceProxy('low-mccs/tile/0003');\n",
    "tpm4=tango.DeviceProxy('low-mccs/tile/0004')"
   ]
  },
  {
   "cell_type": "code",
   "execution_count": 7,
   "id": "44b903e4-7827-414f-b283-f3b6fba74335",
   "metadata": {},
   "outputs": [
    {
     "data": {
      "text/plain": [
       "[array([5], dtype=int32), ['Device is already in ON state.']]"
      ]
     },
     "execution_count": 7,
     "metadata": {},
     "output_type": "execute_result"
    }
   ],
   "source": [
    "sr=tango.DeviceProxy('low-mccs/subrack/01');\n",
    "sr.simulationMode=0;\n",
    "tpm1.simulationMode=0;\n",
    "tpm2.simulationMode=0;\n",
    "tpm3.simulationmode=0;\n",
    "tpm4.simulationMode=0;\n",
    "sr.adminMode=0 ;\n",
    "tpm1.adminMode=0;\n",
    "tpm2.adminMode=0;\n",
    "tpm3.adminmode=0;\n",
    "tpm4.adminmode=0;\n",
    "sr.On()"
   ]
  },
  {
   "cell_type": "code",
   "execution_count": 8,
   "id": "b5de4873-9df1-4f67-8fe7-56fcdccb4706",
   "metadata": {},
   "outputs": [
    {
     "data": {
      "text/plain": [
       "['buildState', 'versionId', 'loggingLevel', 'loggingTargets', 'healthState', 'adminMode', 'controlMode', 'simulationMode', 'testMode', 'longRunningCommandsInQueue', 'longRunningCommandIDsInQueue', 'longRunningCommandStatus', 'longRunningCommandProgress', 'longRunningCommandResult', 'backplaneTemperatures', 'boardTemperatures', 'boardCurrent', 'subrackFanSpeeds', 'subrackFanSpeedsPercent', 'subrackFanMode', 'tpmPresent', 'tpmSupplyFault', 'tpmTemperatures', 'tpmPowers', 'tpmVoltages', 'tpmCurrents', 'tpmCount', 'tpm1PowerState', 'tpm2PowerState', 'tpm3PowerState', 'tpm4PowerState', 'tpm5PowerState', 'tpm6PowerState', 'tpm7PowerState', 'tpm8PowerState', 'powerSupplyFanSpeeds', 'powerSupplyCurrents', 'powerSupplyPowers', 'powerSupplyVoltages', 'State', 'Status']"
      ]
     },
     "execution_count": 8,
     "metadata": {},
     "output_type": "execute_result"
    }
   ],
   "source": [
    "sr.get_attribute_list()"
   ]
  },
  {
   "cell_type": "code",
   "execution_count": 9,
   "id": "450fd1cc-a9e7-4b4b-889b-33fcc00b0e87",
   "metadata": {},
   "outputs": [
    {
     "data": {
      "text/plain": [
       "[array([5], dtype=int32), ['Device is already in ON state.']]"
      ]
     },
     "execution_count": 9,
     "metadata": {},
     "output_type": "execute_result"
    }
   ],
   "source": [
    "tpm1.On()"
   ]
  },
  {
   "cell_type": "code",
   "execution_count": 10,
   "id": "f1a7734c-88ad-4cab-9716-8d909dd16944",
   "metadata": {},
   "outputs": [
    {
     "data": {
      "text/plain": [
       "[array([5], dtype=int32), ['Device is already in ON state.']]"
      ]
     },
     "execution_count": 10,
     "metadata": {},
     "output_type": "execute_result"
    }
   ],
   "source": [
    "tpm2.On()"
   ]
  },
  {
   "cell_type": "code",
   "execution_count": 11,
   "id": "1ebfb96b-4d92-44e9-87f7-fddb33ba5f4e",
   "metadata": {},
   "outputs": [
    {
     "data": {
      "text/plain": [
       "tango._tango.DevState.ON"
      ]
     },
     "execution_count": 11,
     "metadata": {},
     "output_type": "execute_result"
    }
   ],
   "source": [
    "tpm2.state()"
   ]
  },
  {
   "cell_type": "code",
   "execution_count": 12,
   "id": "d6cb08ac-4ec5-4d72-8d12-88105b51bcbc",
   "metadata": {},
   "outputs": [
    {
     "data": {
      "text/plain": [
       "tango._tango.DevState.ON"
      ]
     },
     "execution_count": 12,
     "metadata": {},
     "output_type": "execute_result"
    }
   ],
   "source": [
    "tpm1.state()"
   ]
  },
  {
   "cell_type": "code",
   "execution_count": 13,
   "id": "f1117c08-ab95-4599-8fd7-d78dc34a36fe",
   "metadata": {},
   "outputs": [
    {
     "data": {
      "text/plain": [
       "'Initialised'"
      ]
     },
     "execution_count": 13,
     "metadata": {},
     "output_type": "execute_result"
    }
   ],
   "source": [
    "tpm1.tileprogrammingstate"
   ]
  },
  {
   "cell_type": "code",
   "execution_count": 14,
   "id": "fd01b6d5-dd4d-4ff2-b408-a5e1a6cd8896",
   "metadata": {},
   "outputs": [
    {
     "data": {
      "text/plain": [
       "True"
      ]
     },
     "execution_count": 14,
     "metadata": {},
     "output_type": "execute_result"
    }
   ],
   "source": [
    "tpm1.isprogrammed"
   ]
  },
  {
   "cell_type": "code",
   "execution_count": 16,
   "id": "d280fa35-7a43-431f-827b-b2d551b6ac2b",
   "metadata": {},
   "outputs": [
    {
     "data": {
      "text/plain": [
       "33.0865531414795"
      ]
     },
     "execution_count": 16,
     "metadata": {},
     "output_type": "execute_result"
    }
   ],
   "source": [
    "tpm1.fpga1temperature"
   ]
  },
  {
   "cell_type": "code",
   "execution_count": 17,
   "id": "4f9e17c7-55d9-4eb6-9048-cffd71c65fde",
   "metadata": {},
   "outputs": [
    {
     "data": {
      "text/plain": [
       "34.44831805541992"
      ]
     },
     "execution_count": 17,
     "metadata": {},
     "output_type": "execute_result"
    }
   ],
   "source": [
    "tpm2.fpga1temperature"
   ]
  },
  {
   "cell_type": "code",
   "execution_count": 18,
   "id": "87eee063-8128-4364-972b-6b053c27a7e5",
   "metadata": {},
   "outputs": [
    {
     "data": {
      "text/plain": [
       "34.64722753723146"
      ]
     },
     "execution_count": 18,
     "metadata": {},
     "output_type": "execute_result"
    }
   ],
   "source": [
    "tpm1.fpga2temperature"
   ]
  },
  {
   "cell_type": "code",
   "execution_count": 19,
   "id": "fb4d1da9-eb0b-4ee9-8808-da2a582e3f46",
   "metadata": {},
   "outputs": [
    {
     "data": {
      "text/plain": [
       "35.12155014770508"
      ]
     },
     "execution_count": 19,
     "metadata": {},
     "output_type": "execute_result"
    }
   ],
   "source": [
    "tpm2.fpga2temperature"
   ]
  },
  {
   "cell_type": "code",
   "execution_count": 20,
   "id": "518deb35-4e63-4cb8-a42d-e01aeaf82844",
   "metadata": {},
   "outputs": [
    {
     "data": {
      "text/plain": [
       "37.49316320007324"
      ]
     },
     "execution_count": 20,
     "metadata": {},
     "output_type": "execute_result"
    }
   ],
   "source": [
    "tpm1.fpga2temperature"
   ]
  },
  {
   "cell_type": "code",
   "execution_count": 21,
   "id": "3860c705-cedd-4a2d-8c5f-c055bb2601a1",
   "metadata": {},
   "outputs": [
    {
     "data": {
      "text/plain": [
       "40.017783546142596"
      ]
     },
     "execution_count": 21,
     "metadata": {},
     "output_type": "execute_result"
    }
   ],
   "source": [
    "tpm2.fpga2temperature"
   ]
  },
  {
   "cell_type": "code",
   "execution_count": 22,
   "id": "d6ded6ef-0742-457e-8f98-8a1b933ef9f9",
   "metadata": {},
   "outputs": [
    {
     "data": {
      "text/plain": [
       "tango._tango.DevState.ON"
      ]
     },
     "execution_count": 22,
     "metadata": {},
     "output_type": "execute_result"
    }
   ],
   "source": [
    "tpm1.state()\n"
   ]
  },
  {
   "cell_type": "code",
   "execution_count": 23,
   "id": "2ada4294-b1db-4039-8a0d-1d940d72dc42",
   "metadata": {},
   "outputs": [
    {
     "data": {
      "text/plain": [
       "tango._tango.DevState.ON"
      ]
     },
     "execution_count": 23,
     "metadata": {},
     "output_type": "execute_result"
    }
   ],
   "source": [
    "tpm2.state()"
   ]
  },
  {
   "cell_type": "code",
   "execution_count": 24,
   "id": "4f43ddb4-2672-4f9a-b0cd-2fd67d16880a",
   "metadata": {},
   "outputs": [
    {
     "data": {
      "text/plain": [
       "'The device is in ON state.'"
      ]
     },
     "execution_count": 24,
     "metadata": {},
     "output_type": "execute_result"
    }
   ],
   "source": [
    "tpm1.status()"
   ]
  },
  {
   "cell_type": "code",
   "execution_count": 25,
   "id": "0597e864-b0a4-49b1-a594-c3c3f7370c50",
   "metadata": {},
   "outputs": [
    {
     "data": {
      "text/plain": [
       "'The device is in ON state.'"
      ]
     },
     "execution_count": 25,
     "metadata": {},
     "output_type": "execute_result"
    }
   ],
   "source": [
    "tpm2.status()"
   ]
  },
  {
   "cell_type": "code",
   "execution_count": 27,
   "id": "018bdaa9-ee59-4ee5-b627-2608ca6f9a16",
   "metadata": {},
   "outputs": [
    {
     "data": {
      "text/plain": [
       "array([4999., 5000., 5001., 5002.], dtype=float32)"
      ]
     },
     "execution_count": 27,
     "metadata": {},
     "output_type": "execute_result"
    }
   ],
   "source": [
    "sr.subrackfanspeeds"
   ]
  },
  {
   "cell_type": "code",
   "execution_count": 28,
   "id": "370e473f-4572-47b6-8468-97386f4fbb77",
   "metadata": {},
   "outputs": [
    {
     "data": {
      "text/plain": [
       "array([19.69, 20.44], dtype=float32)"
      ]
     },
     "execution_count": 28,
     "metadata": {},
     "output_type": "execute_result"
    }
   ],
   "source": [
    "sr.backplanetemperatures"
   ]
  },
  {
   "cell_type": "code",
   "execution_count": 30,
   "id": "8e42bd78-6cf2-4092-b045-35f9dd146372",
   "metadata": {},
   "outputs": [
    {
     "data": {
      "text/plain": [
       "42.38"
      ]
     },
     "execution_count": 30,
     "metadata": {},
     "output_type": "execute_result"
    }
   ],
   "source": [
    "tpm1.boardtemperature\n"
   ]
  },
  {
   "cell_type": "code",
   "execution_count": 31,
   "id": "62660f75-7fd5-467f-9bec-70cbecf6a943",
   "metadata": {},
   "outputs": [
    {
     "data": {
      "text/plain": [
       "43.62"
      ]
     },
     "execution_count": 31,
     "metadata": {},
     "output_type": "execute_result"
    }
   ],
   "source": [
    "tpm2.boardtemperature"
   ]
  },
  {
   "cell_type": "code",
   "execution_count": 34,
   "id": "575b274a-b9e0-4b5c-a6e6-2d3aa1d28aa3",
   "metadata": {},
   "outputs": [
    {
     "data": {
      "text/plain": [
       "'itpm_v1_6.bit'"
      ]
     },
     "execution_count": 34,
     "metadata": {},
     "output_type": "execute_result"
    }
   ],
   "source": [
    "tpm1.firmwarename"
   ]
  },
  {
   "cell_type": "code",
   "execution_count": 35,
   "id": "40d98fc2-db41-4dca-bed0-eb56788f6c38",
   "metadata": {},
   "outputs": [
    {
     "data": {
      "text/plain": [
       "'Ver.1.2 build 1835:2022-10-04 11:31:21.125773'"
      ]
     },
     "execution_count": 35,
     "metadata": {},
     "output_type": "execute_result"
    }
   ],
   "source": [
    "tpm2.firmwareversion"
   ]
  },
  {
   "cell_type": "code",
   "execution_count": 36,
   "id": "b33a9f23-da10-4828-a325-0b2b2d689ad6",
   "metadata": {},
   "outputs": [
    {
     "data": {
      "text/plain": [
       "'itpm_v1_6.bit'"
      ]
     },
     "execution_count": 36,
     "metadata": {},
     "output_type": "execute_result"
    }
   ],
   "source": [
    "tpm2.firmwarename"
   ]
  },
  {
   "cell_type": "code",
   "execution_count": null,
   "id": "4816b9d3-a325-4eb9-8a86-f5a0e2d84fca",
   "metadata": {},
   "outputs": [],
   "source": []
  }
 ],
 "metadata": {
  "kernelspec": {
   "display_name": "jupyTango",
   "language": "python",
   "name": "jupytango"
  },
  "language_info": {
   "codemirror_mode": {
    "name": "ipython",
    "version": 3
   },
   "file_extension": ".py",
   "mimetype": "text/x-python",
   "name": "python",
   "nbconvert_exporter": "python",
   "pygments_lexer": "ipython3",
   "version": "3.10.6"
  }
 },
 "nbformat": 4,
 "nbformat_minor": 5
}
