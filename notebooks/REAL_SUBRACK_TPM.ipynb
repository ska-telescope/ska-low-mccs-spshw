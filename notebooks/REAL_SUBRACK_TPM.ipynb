{
 "cells": [
  {
   "cell_type": "code",
   "execution_count": 1,
   "id": "6d068432-d9cb-4020-8863-d324fddd23de",
   "metadata": {},
   "outputs": [],
   "source": [
    "import tango"
   ]
  },
  {
   "cell_type": "code",
   "execution_count": 2,
   "id": "eeb883e4-c6ca-44ea-b23e-7bf935ebd0eb",
   "metadata": {},
   "outputs": [],
   "source": [
    "import json"
   ]
  },
  {
   "cell_type": "code",
   "execution_count": 3,
   "id": "7f039663-8ef0-48e5-93a3-66ec34347b10",
   "metadata": {},
   "outputs": [],
   "source": [
    "import time"
   ]
  },
  {
   "cell_type": "code",
   "execution_count": 4,
   "id": "8b515a8b-cc6a-4406-98c4-4a9a2f7b6fe5",
   "metadata": {},
   "outputs": [],
   "source": [
    "tpm1=tango.DeviceProxy('low-mccs/tile/0001');\n",
    "tpm2=tango.DeviceProxy('low-mccs/tile/0002');\n",
    "tpm3=tango.DeviceProxy('low-mccs/tile/0003');\n",
    "tpm4=tango.DeviceProxy('low-mccs/tile/0004')"
   ]
  },
  {
   "cell_type": "code",
   "execution_count": 5,
   "id": "e68fff64-7d9c-426e-afad-5f2e2d370637",
   "metadata": {},
   "outputs": [
    {
     "data": {
      "text/plain": [
       "[array([2], dtype=int32), ['1673262575.1967955_46134097571694_On']]"
      ]
     },
     "execution_count": 5,
     "metadata": {},
     "output_type": "execute_result"
    }
   ],
   "source": [
    "sr=tango.DeviceProxy('low-mccs/subrack/01');\n",
    "sr.simulationMode=0;\n",
    "tpm1.simulationMode=0;\n",
    "tpm2.simulationMode=0;\n",
    "tpm3.simulationmode=0;\n",
    "tpm4.simulationMode=0;\n",
    "sr.adminMode=0 ;\n",
    "tpm1.adminMode=0;\n",
    "tpm2.adminMode=0;\n",
    "tpm3.adminmode=0;\n",
    "tpm4.adminmode=0;\n",
    "sr.On()"
   ]
  },
  {
   "cell_type": "code",
   "execution_count": 6,
   "id": "56e332b9-c1d5-4549-92ee-55d0a4a231c9",
   "metadata": {},
   "outputs": [
    {
     "data": {
      "text/plain": [
       "[array([5], dtype=int32), ['Device is already in ON state.']]"
      ]
     },
     "execution_count": 6,
     "metadata": {},
     "output_type": "execute_result"
    }
   ],
   "source": [
    "tpm1.On()"
   ]
  },
  {
   "cell_type": "code",
   "execution_count": 7,
   "id": "65d6d0ef-3c4f-48b2-ade1-555be0990cc3",
   "metadata": {},
   "outputs": [
    {
     "data": {
      "text/plain": [
       "[array([5], dtype=int32), ['Device is already in ON state.']]"
      ]
     },
     "execution_count": 7,
     "metadata": {},
     "output_type": "execute_result"
    }
   ],
   "source": [
    "tpm2.On()"
   ]
  },
  {
   "cell_type": "code",
   "execution_count": 8,
   "id": "d783da6a-c340-4db8-8cdf-8846a525fed0",
   "metadata": {},
   "outputs": [
    {
     "data": {
      "text/plain": [
       "tango._tango.DevState.ON"
      ]
     },
     "execution_count": 8,
     "metadata": {},
     "output_type": "execute_result"
    }
   ],
   "source": [
    "tpm1.state()"
   ]
  },
  {
   "cell_type": "code",
   "execution_count": 9,
   "id": "470e77c3-c9cf-43d3-9e45-f2a4ea31e759",
   "metadata": {},
   "outputs": [
    {
     "data": {
      "text/plain": [
       "tango._tango.DevState.ON"
      ]
     },
     "execution_count": 9,
     "metadata": {},
     "output_type": "execute_result"
    }
   ],
   "source": [
    "tpm2.state()\n"
   ]
  },
  {
   "cell_type": "code",
   "execution_count": 10,
   "id": "a58517a0-461b-480b-8309-2770ce2edb23",
   "metadata": {},
   "outputs": [
    {
     "data": {
      "text/plain": [
       "'Initialised'"
      ]
     },
     "execution_count": 10,
     "metadata": {},
     "output_type": "execute_result"
    }
   ],
   "source": [
    "tpm1.tileprogrammingstate"
   ]
  },
  {
   "cell_type": "code",
   "execution_count": 11,
   "id": "f1e38111-d641-4134-9d0f-79ceeae70a37",
   "metadata": {},
   "outputs": [
    {
     "data": {
      "text/plain": [
       "30.25"
      ]
     },
     "execution_count": 11,
     "metadata": {},
     "output_type": "execute_result"
    }
   ],
   "source": [
    "tpm1.boardtemperature"
   ]
  },
  {
   "cell_type": "code",
   "execution_count": 12,
   "id": "01023004-d5d0-48b6-890d-8ba8f0abb273",
   "metadata": {},
   "outputs": [
    {
     "data": {
      "text/plain": [
       "30.88"
      ]
     },
     "execution_count": 12,
     "metadata": {},
     "output_type": "execute_result"
    }
   ],
   "source": [
    "tpm2.boardtemperature"
   ]
  },
  {
   "cell_type": "code",
   "execution_count": 13,
   "id": "4aa762b5-89ea-4a0f-8637-50cfa0220459",
   "metadata": {},
   "outputs": [
    {
     "data": {
      "text/plain": [
       "31.984900626831063"
      ]
     },
     "execution_count": 13,
     "metadata": {},
     "output_type": "execute_result"
    }
   ],
   "source": [
    "tpm1.fpga1temperature"
   ]
  },
  {
   "cell_type": "code",
   "execution_count": 14,
   "id": "ca324ead-8624-4be8-bb44-57652b32bdfd",
   "metadata": {},
   "outputs": [
    {
     "data": {
      "text/plain": [
       "31.785991145019523"
      ]
     },
     "execution_count": 14,
     "metadata": {},
     "output_type": "execute_result"
    }
   ],
   "source": [
    "tpm1.fpga2temperature"
   ]
  },
  {
   "cell_type": "code",
   "execution_count": 15,
   "id": "61aff283-e3dc-4016-a4c7-6d705be857bc",
   "metadata": {},
   "outputs": [
    {
     "data": {
      "text/plain": [
       "33.8974917980957"
      ]
     },
     "execution_count": 15,
     "metadata": {},
     "output_type": "execute_result"
    }
   ],
   "source": [
    "tpm2.fpga1temperature"
   ]
  },
  {
   "cell_type": "code",
   "execution_count": 16,
   "id": "2ede0511-e5da-414c-9b27-aca239ac1de0",
   "metadata": {},
   "outputs": [
    {
     "data": {
      "text/plain": [
       "32.24501302612305"
      ]
     },
     "execution_count": 16,
     "metadata": {},
     "output_type": "execute_result"
    }
   ],
   "source": [
    "tpm2.fpga2temperature"
   ]
  },
  {
   "cell_type": "code",
   "execution_count": 17,
   "id": "8791e37e-805f-478d-9231-c9ffdb267572",
   "metadata": {},
   "outputs": [
    {
     "data": {
      "text/plain": [
       "True"
      ]
     },
     "execution_count": 17,
     "metadata": {},
     "output_type": "execute_result"
    }
   ],
   "source": [
    "tpm2.isprogrammed"
   ]
  },
  {
   "cell_type": "code",
   "execution_count": 18,
   "id": "773fb67d-062e-4be0-8b3c-3368501e8825",
   "metadata": {},
   "outputs": [
    {
     "data": {
      "text/plain": [
       "True"
      ]
     },
     "execution_count": 18,
     "metadata": {},
     "output_type": "execute_result"
    }
   ],
   "source": [
    "tpm1.isprogrammed\n"
   ]
  },
  {
   "cell_type": "code",
   "execution_count": 19,
   "id": "ab810a76-43cc-4a12-8432-46aabf60ba94",
   "metadata": {},
   "outputs": [
    {
     "data": {
      "text/plain": [
       "array([20. , 20.5], dtype=float32)"
      ]
     },
     "execution_count": 19,
     "metadata": {},
     "output_type": "execute_result"
    }
   ],
   "source": [
    "sr.backplanetemperatures"
   ]
  },
  {
   "cell_type": "code",
   "execution_count": 20,
   "id": "3f460272-3b5b-43c1-aa53-4451e03a06e6",
   "metadata": {},
   "outputs": [
    {
     "data": {
      "text/plain": [
       "array([4999., 5000., 5001., 5002.], dtype=float32)"
      ]
     },
     "execution_count": 20,
     "metadata": {},
     "output_type": "execute_result"
    }
   ],
   "source": [
    "sr.subrackfanspeeds"
   ]
  },
  {
   "cell_type": "code",
   "execution_count": 21,
   "id": "0d34e311-15ce-4092-8f92-3fa92eb13524",
   "metadata": {},
   "outputs": [
    {
     "name": "stdout",
     "output_type": "stream",
     "text": [
      "API_CommandNotAllowed: Command Off not allowed when the device is in FAULT state\n",
      "(For more detailed information type: tango_error)\n"
     ]
    }
   ],
   "source": [
    "tpm1.Off()"
   ]
  },
  {
   "cell_type": "code",
   "execution_count": 22,
   "id": "9005bf6f-3bd9-4a28-b3ab-cdc9de7850d7",
   "metadata": {},
   "outputs": [
    {
     "name": "stdout",
     "output_type": "stream",
     "text": [
      "API_CommandNotAllowed: Command Off not allowed when the device is in FAULT state\n",
      "(For more detailed information type: tango_error)\n"
     ]
    }
   ],
   "source": [
    "tpm2.Off()"
   ]
  },
  {
   "cell_type": "code",
   "execution_count": 23,
   "id": "42291815-2c5f-4208-8a98-8b95fe95d958",
   "metadata": {},
   "outputs": [
    {
     "data": {
      "text/plain": [
       "[array([2], dtype=int32), ['1673263068.2644875_199858785510567_On']]"
      ]
     },
     "execution_count": 23,
     "metadata": {},
     "output_type": "execute_result"
    }
   ],
   "source": [
    "tpm1.On()"
   ]
  },
  {
   "cell_type": "code",
   "execution_count": 24,
   "id": "015566fb-4bc8-45fe-a29b-ff5dc941d94a",
   "metadata": {},
   "outputs": [
    {
     "data": {
      "text/plain": [
       "[array([2], dtype=int32), ['1673263073.3906405_244727110553484_On']]"
      ]
     },
     "execution_count": 24,
     "metadata": {},
     "output_type": "execute_result"
    }
   ],
   "source": [
    "tpm2.On()"
   ]
  },
  {
   "cell_type": "code",
   "execution_count": 25,
   "id": "85b2d981-8a00-4afd-ab8d-ee2bc2e10fee",
   "metadata": {},
   "outputs": [
    {
     "data": {
      "text/plain": [
       "tango._tango.DevState.FAULT"
      ]
     },
     "execution_count": 25,
     "metadata": {},
     "output_type": "execute_result"
    }
   ],
   "source": [
    "tpm1.state()"
   ]
  },
  {
   "cell_type": "code",
   "execution_count": 26,
   "id": "dd17e073-cfcd-49a9-b66b-c7ef4e493c27",
   "metadata": {},
   "outputs": [
    {
     "data": {
      "text/plain": [
       "tango._tango.DevState.FAULT"
      ]
     },
     "execution_count": 26,
     "metadata": {},
     "output_type": "execute_result"
    }
   ],
   "source": [
    "tpm2.state()"
   ]
  },
  {
   "cell_type": "code",
   "execution_count": null,
   "id": "748aca4c-0cf6-4599-8331-3a9d7c22a408",
   "metadata": {},
   "outputs": [],
   "source": []
  }
 ],
 "metadata": {
  "kernelspec": {
   "display_name": "ITango",
   "language": "python",
   "name": "tango"
  },
  "language_info": {
   "codemirror_mode": {
    "name": "ipython",
    "version": 3
   },
   "file_extension": ".py",
   "mimetype": "text/x-python",
   "name": "python",
   "nbconvert_exporter": "python",
   "pygments_lexer": "ipython3",
   "version": "3.10.6"
  }
 },
 "nbformat": 4,
 "nbformat_minor": 5
}
