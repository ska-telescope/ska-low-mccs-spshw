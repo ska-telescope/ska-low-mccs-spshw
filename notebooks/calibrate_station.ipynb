{
 "cells": [
  {
   "cell_type": "markdown",
   "metadata": {},
   "source": [
    "<b>Station calibration</b>\n",
    "\n",
    "This script pushes a temperature change from the field station to the station calibrator then gets a calibration solution from the calibration store.\n",
    "\n",
    "At present the GetSolution command on the stub calibration store returns a list of numbers with the temperature and channel prepended to it.\n"
   ]
  },
  {
   "cell_type": "markdown",
   "metadata": {},
   "source": [
    "Setup"
   ]
  },
  {
   "cell_type": "code",
   "execution_count": null,
   "metadata": {},
   "outputs": [],
   "source": [
    "import tango\n",
    "import json\n",
    "\n",
    "field_station = tango.DeviceProxy(\"low-mccs/fieldstation/001\")\n",
    "station_calibrator = tango.DeviceProxy(\"low-mccs/stationcalibrator/001\")\n",
    "calibration_store = tango.DeviceProxy(\"low-mccs/calibrationstore/001\")\n",
    "for device in [field_station, calibration_store, station_calibrator]:\n",
    "    device.adminMode = 0"
   ]
  },
  {
   "cell_type": "markdown",
   "metadata": {},
   "source": [
    "Push change in temperature"
   ]
  },
  {
   "cell_type": "code",
   "execution_count": null,
   "metadata": {},
   "outputs": [],
   "source": [
    "field_station.MockOutsideTemperatureChange(25)"
   ]
  },
  {
   "cell_type": "markdown",
   "metadata": {},
   "source": [
    "Get calibration solution using Station Calibrator"
   ]
  },
  {
   "cell_type": "code",
   "execution_count": null,
   "metadata": {},
   "outputs": [],
   "source": [
    "station_calibrator.GetCalibration(json.dumps({\"frequency_channel\": 1}))"
   ]
  },
  {
   "cell_type": "markdown",
   "metadata": {},
   "source": [
    "Push another change in temperature"
   ]
  },
  {
   "cell_type": "code",
   "execution_count": null,
   "metadata": {},
   "outputs": [],
   "source": [
    "field_station.MockOutsideTemperatureChange(42)"
   ]
  },
  {
   "cell_type": "markdown",
   "metadata": {},
   "source": [
    "Get new calibration solution using Station Calibrator"
   ]
  },
  {
   "cell_type": "code",
   "execution_count": null,
   "metadata": {},
   "outputs": [],
   "source": [
    "station_calibrator.GetCalibration(json.dumps({\"frequency_channel\": 4}))"
   ]
  }
 ],
 "metadata": {
  "kernelspec": {
   "display_name": "Python 3.8.10 64-bit",
   "language": "python",
   "name": "python3"
  },
  "language_info": {
   "name": "python",
   "version": "3.8.10"
  },
  "orig_nbformat": 4,
  "vscode": {
   "interpreter": {
    "hash": "916dbcbb3f70747c44a77c7bcd40155683ae19c65e1c03b4aa3499c5328201f1"
   }
  }
 },
 "nbformat": 4,
 "nbformat_minor": 2
}
