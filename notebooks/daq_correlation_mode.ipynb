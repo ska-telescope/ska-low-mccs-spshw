{
 "cells": [
  {
   "cell_type": "markdown",
   "id": "74048e9a",
   "metadata": {},
   "source": [
    "This notebook captures efforts to get the DAQ acquiring data in CORRELATOR_DATA mode, on the AAVS3 backup server in the Low ITF."
   ]
  },
  {
   "cell_type": "markdown",
   "id": "e9f117ea",
   "metadata": {},
   "source": [
    "# Preliminary stuff to make sure everything is on:"
   ]
  },
  {
   "cell_type": "code",
   "execution_count": 1,
   "id": "6d7b2e52",
   "metadata": {},
   "outputs": [],
   "source": [
    "import os\n",
    "import json\n",
    "import tango\n",
    "\n",
    "os.environ[\"TANGO_HOST\"] = \"databaseds-tango-base-test.ska-low-mccs:10000\""
   ]
  },
  {
   "cell_type": "code",
   "execution_count": 2,
   "id": "16dbd249",
   "metadata": {},
   "outputs": [],
   "source": [
    "subrack = tango.DeviceProxy(\"low-mccs/subrack/aavs3-1\")"
   ]
  },
  {
   "cell_type": "code",
   "execution_count": 3,
   "id": "bf3710d6",
   "metadata": {},
   "outputs": [
    {
     "data": {
      "text/plain": [
       "<adminMode.OFFLINE: 1>"
      ]
     },
     "execution_count": 3,
     "metadata": {},
     "output_type": "execute_result"
    }
   ],
   "source": [
    "subrack.adminMode"
   ]
  },
  {
   "cell_type": "code",
   "execution_count": 4,
   "id": "993f3eea",
   "metadata": {},
   "outputs": [],
   "source": [
    "subrack.adminMode = 0"
   ]
  },
  {
   "cell_type": "code",
   "execution_count": 5,
   "id": "5eac5f6d",
   "metadata": {},
   "outputs": [
    {
     "data": {
      "text/plain": [
       "tango._tango.DevState.ON"
      ]
     },
     "execution_count": 5,
     "metadata": {},
     "output_type": "execute_result"
    }
   ],
   "source": [
    "subrack.state()"
   ]
  },
  {
   "cell_type": "code",
   "execution_count": 7,
   "id": "714a88cb",
   "metadata": {},
   "outputs": [
    {
     "data": {
      "text/plain": [
       "array([False, False,  True, False, False, False,  True, False])"
      ]
     },
     "execution_count": 7,
     "metadata": {},
     "output_type": "execute_result"
    }
   ],
   "source": [
    "subrack.tpmPresent"
   ]
  },
  {
   "cell_type": "code",
   "execution_count": 8,
   "id": "7a4de2af",
   "metadata": {},
   "outputs": [
    {
     "data": {
      "text/plain": [
       "<tpm3PowerState.ON: 4>"
      ]
     },
     "execution_count": 8,
     "metadata": {},
     "output_type": "execute_result"
    }
   ],
   "source": [
    "subrack.tpm3powerstate"
   ]
  },
  {
   "cell_type": "code",
   "execution_count": 9,
   "id": "b88d30a8",
   "metadata": {},
   "outputs": [
    {
     "data": {
      "text/plain": [
       "<tpm7PowerState.ON: 4>"
      ]
     },
     "execution_count": 9,
     "metadata": {},
     "output_type": "execute_result"
    }
   ],
   "source": [
    "subrack.tpm7PowerState"
   ]
  },
  {
   "cell_type": "code",
   "execution_count": 10,
   "id": "444782e6",
   "metadata": {},
   "outputs": [],
   "source": [
    "tile = tango.DeviceProxy(\"low-mccs/tile/aavs3-01\")"
   ]
  },
  {
   "cell_type": "code",
   "execution_count": 11,
   "id": "e67bb5d8",
   "metadata": {},
   "outputs": [
    {
     "data": {
      "text/plain": [
       "<adminMode.OFFLINE: 1>"
      ]
     },
     "execution_count": 11,
     "metadata": {},
     "output_type": "execute_result"
    }
   ],
   "source": [
    "tile.adminMode"
   ]
  },
  {
   "cell_type": "code",
   "execution_count": 12,
   "id": "4443a44d",
   "metadata": {},
   "outputs": [],
   "source": [
    "tile.adminMode = 0"
   ]
  },
  {
   "cell_type": "code",
   "execution_count": 13,
   "id": "4e8adc87",
   "metadata": {},
   "outputs": [
    {
     "data": {
      "text/plain": [
       "tango._tango.DevState.ON"
      ]
     },
     "execution_count": 13,
     "metadata": {},
     "output_type": "execute_result"
    }
   ],
   "source": [
    "tile.state()"
   ]
  },
  {
   "cell_type": "code",
   "execution_count": 14,
   "id": "2d44403f",
   "metadata": {},
   "outputs": [],
   "source": [
    "daq = tango.DeviceProxy(\"low-mccs/daqreceiver/aavs3\")"
   ]
  },
  {
   "cell_type": "code",
   "execution_count": 15,
   "id": "e6d7b235",
   "metadata": {},
   "outputs": [
    {
     "data": {
      "text/plain": [
       "<adminMode.OFFLINE: 1>"
      ]
     },
     "execution_count": 15,
     "metadata": {},
     "output_type": "execute_result"
    }
   ],
   "source": [
    "daq.adminMode"
   ]
  },
  {
   "cell_type": "code",
   "execution_count": 16,
   "id": "f88df8f7",
   "metadata": {},
   "outputs": [],
   "source": [
    "daq.adminMode = 0"
   ]
  },
  {
   "cell_type": "code",
   "execution_count": 17,
   "id": "f9873cf3",
   "metadata": {},
   "outputs": [
    {
     "data": {
      "text/plain": [
       "tango._tango.DevState.ON"
      ]
     },
     "execution_count": 17,
     "metadata": {},
     "output_type": "execute_result"
    }
   ],
   "source": [
    "daq.state()"
   ]
  },
  {
   "cell_type": "code",
   "execution_count": 19,
   "id": "1296d5bd",
   "metadata": {},
   "outputs": [
    {
     "data": {
      "text/plain": [
       "'Initialised'"
      ]
     },
     "execution_count": 19,
     "metadata": {},
     "output_type": "execute_result"
    }
   ],
   "source": [
    "tile.tileprogrammingstate"
   ]
  },
  {
   "cell_type": "markdown",
   "id": "0adfa662",
   "metadata": {},
   "source": [
    "# Tell TPM to start acquiring data from the antennas"
   ]
  },
  {
   "cell_type": "code",
   "execution_count": 20,
   "id": "85c984be",
   "metadata": {},
   "outputs": [
    {
     "data": {
      "text/plain": [
       "[array([2], dtype=int32),\n",
       " ['1692956023.0753045_186332062180875_StartAcquisition']]"
      ]
     },
     "execution_count": 20,
     "metadata": {},
     "output_type": "execute_result"
    }
   ],
   "source": [
    "tile.startacquisition('{}')"
   ]
  },
  {
   "cell_type": "code",
   "execution_count": 21,
   "id": "5ac5c57e",
   "metadata": {},
   "outputs": [
    {
     "data": {
      "text/plain": [
       "'Synchronised'"
      ]
     },
     "execution_count": 21,
     "metadata": {},
     "output_type": "execute_result"
    }
   ],
   "source": [
    "tile.tileprogrammingstate"
   ]
  },
  {
   "cell_type": "markdown",
   "id": "15612e14",
   "metadata": {},
   "source": [
    "# Configure the TPM's LMC data spigot"
   ]
  },
  {
   "cell_type": "code",
   "execution_count": 26,
   "id": "b2acedf9",
   "metadata": {},
   "outputs": [
    {
     "data": {
      "text/plain": [
       "[array([0], dtype=int32), ['SetLmcDownload command completed OK']]"
      ]
     },
     "execution_count": 26,
     "metadata": {},
     "output_type": "execute_result"
    }
   ],
   "source": [
    "dst_tpm_port = 4660\n",
    "dst_tpm_ip = \"data-receiver-aavs3-data\"\n",
    "lmc_download_dict = {\"mode\": \"10g\", \"destination_ip\": dst_tpm_ip, \"destination_port\": dst_tpm_port}\n",
    "tile.SetLmcDownload(json.dumps(lmc_download_dict))"
   ]
  },
  {
   "cell_type": "markdown",
   "id": "b37af644",
   "metadata": {},
   "source": [
    "# Configure the DAQ"
   ]
  },
  {
   "cell_type": "code",
   "execution_count": 32,
   "id": "90287f37",
   "metadata": {},
   "outputs": [
    {
     "data": {
      "text/plain": [
       "[array([0], dtype=int32), ['Configure command completed OK']]"
      ]
     },
     "execution_count": 32,
     "metadata": {},
     "output_type": "execute_result"
    }
   ],
   "source": [
    "daq_config = {\n",
    "    \"nof_antennas\": 256,\n",
    "    \"nof_tiles\": 1,\n",
    "    \"acquisition_duration\": 30,\n",
    "    \"receiver_frame_size\": 9000,\n",
    "}\n",
    "daq.Configure(json.dumps(daq_config))"
   ]
  },
  {
   "cell_type": "markdown",
   "id": "a95abbcb",
   "metadata": {},
   "source": [
    "# Start the DAQ acquiring data in CORRELATOR_DATA mode"
   ]
  },
  {
   "cell_type": "code",
   "execution_count": 33,
   "id": "6da4445a",
   "metadata": {},
   "outputs": [
    {
     "data": {
      "text/plain": [
       "[array([2], dtype=int32), ['1692956407.3771927_171148796922609_Start']]"
      ]
     },
     "execution_count": 33,
     "metadata": {},
     "output_type": "execute_result"
    }
   ],
   "source": [
    "daq.Start('{\"modes_to_start\": \"DaqModes.CORRELATOR_DATA\"}')"
   ]
  },
  {
   "cell_type": "code",
   "execution_count": 34,
   "id": "bcee28da",
   "metadata": {},
   "outputs": [
    {
     "data": {
      "text/plain": [
       "'{\"Running Consumers\": [[\"CORRELATOR_DATA\", 7]], \"Receiver Interface\": \"eth0\", \"Receiver Ports\": [4660], \"Receiver IP\": [\"10.10.164.7\"], \"Daq Health\": [\"OK\", 0]}'"
      ]
     },
     "execution_count": 34,
     "metadata": {},
     "output_type": "execute_result"
    }
   ],
   "source": [
    "daq.daqStatus()"
   ]
  },
  {
   "cell_type": "markdown",
   "id": "28c6bfea",
   "metadata": {},
   "source": [
    "# Tell the TPM to send channel data on its LMC spigot"
   ]
  },
  {
   "cell_type": "code",
   "execution_count": 36,
   "id": "2e4c3538",
   "metadata": {},
   "outputs": [
    {
     "data": {
      "text/plain": [
       "[array([0], dtype=int32), ['SendDataSamples command completed OK']]"
      ]
     },
     "execution_count": 36,
     "metadata": {},
     "output_type": "execute_result"
    }
   ],
   "source": [
    "tile.SendDataSamples(\n",
    "    json.dumps(\n",
    "        {\n",
    "            \"channel_id\": 100,\n",
    "            \"data_type\": \"channel_continuous\",\n",
    "        }\n",
    "    )\n",
    ")"
   ]
  },
  {
   "cell_type": "markdown",
   "id": "243e50dc",
   "metadata": {},
   "source": [
    "# Weep\n",
    "At this point we were expecting the DAQ to receive data; but it didn't.\n",
    "We think the problem is that the TPM and DAQ are on different subnets, and we were sending data over the 1Gb link, which does not have gateway support."
   ]
  },
  {
   "cell_type": "markdown",
   "id": "9af34cc2",
   "metadata": {},
   "source": [
    "# Clean up"
   ]
  },
  {
   "cell_type": "code",
   "execution_count": 31,
   "id": "e0dd326a",
   "metadata": {},
   "outputs": [
    {
     "data": {
      "text/plain": [
       "[array([0], dtype=int32), ['Daq stopped']]"
      ]
     },
     "execution_count": 31,
     "metadata": {},
     "output_type": "execute_result"
    }
   ],
   "source": [
    "daq.Stop()"
   ]
  },
  {
   "cell_type": "code",
   "execution_count": null,
   "id": "399b3821",
   "metadata": {},
   "outputs": [],
   "source": []
  },
  {
   "cell_type": "code",
   "execution_count": null,
   "id": "a4b1a034",
   "metadata": {},
   "outputs": [],
   "source": []
  },
  {
   "cell_type": "code",
   "execution_count": null,
   "id": "373c32e1",
   "metadata": {},
   "outputs": [],
   "source": []
  },
  {
   "cell_type": "code",
   "execution_count": null,
   "id": "4788f1cc",
   "metadata": {},
   "outputs": [],
   "source": []
  },
  {
   "cell_type": "code",
   "execution_count": null,
   "id": "04622959",
   "metadata": {},
   "outputs": [],
   "source": []
  },
  {
   "cell_type": "code",
   "execution_count": null,
   "id": "41871b63",
   "metadata": {},
   "outputs": [],
   "source": []
  },
  {
   "cell_type": "code",
   "execution_count": null,
   "id": "29f35da1",
   "metadata": {},
   "outputs": [],
   "source": []
  },
  {
   "cell_type": "code",
   "execution_count": 7,
   "id": "7d7c7039",
   "metadata": {},
   "outputs": [],
   "source": []
  },
  {
   "cell_type": "code",
   "execution_count": null,
   "id": "49ff7fac",
   "metadata": {},
   "outputs": [],
   "source": []
  },
  {
   "cell_type": "code",
   "execution_count": null,
   "id": "04c70230",
   "metadata": {},
   "outputs": [],
   "source": []
  },
  {
   "cell_type": "code",
   "execution_count": null,
   "id": "3c7bb0de",
   "metadata": {},
   "outputs": [],
   "source": []
  }
 ],
 "metadata": {
  "kernelspec": {
   "display_name": "Python 3 (ipykernel)",
   "language": "python",
   "name": "python3"
  },
  "language_info": {
   "codemirror_mode": {
    "name": "ipython",
    "version": 3
   },
   "file_extension": ".py",
   "mimetype": "text/x-python",
   "name": "python",
   "nbconvert_exporter": "python",
   "pygments_lexer": "ipython3",
   "version": "3.10.6"
  }
 },
 "nbformat": 4,
 "nbformat_minor": 5
}
