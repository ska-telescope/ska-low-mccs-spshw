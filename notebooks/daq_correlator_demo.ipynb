{
 "cells": [
  {
   "cell_type": "markdown",
   "metadata": {},
   "source": [
    "Daq Correlator Demo"
   ]
  },
  {
   "attachments": {},
   "cell_type": "markdown",
   "metadata": {},
   "source": [
    "Start by importing all the modules to be used and setting the TANGO_HOST environment variable."
   ]
  },
  {
   "cell_type": "code",
   "execution_count": null,
   "metadata": {},
   "outputs": [],
   "source": [
    "import tango\n",
    "import time\n",
    "import json\n",
    "import os\n",
    "\n",
    "os.environ[\"TANGO_HOST\"] = \"tango-databaseds-test.ska-low-mccs-spshw:10000\""
   ]
  },
  {
   "cell_type": "markdown",
   "metadata": {},
   "source": [
    "Add a helper method to poll devices"
   ]
  },
  {
   "cell_type": "code",
   "execution_count": null,
   "metadata": {},
   "outputs": [],
   "source": [
    "def poll_until_state(device: tango.DeviceProxy, state: tango._tango.DevState) -> None:\n",
    "    \"\"\"Function to poll device until in wanted state.\"\"\"\n",
    "    while device.state() != state:\n",
    "        time.sleep(1)"
   ]
  },
  {
   "attachments": {},
   "cell_type": "markdown",
   "metadata": {},
   "source": [
    "Set up device proxies for our tango devices and put them into `adminMode.ONLINE` (allowing them to be used)"
   ]
  },
  {
   "cell_type": "code",
   "execution_count": null,
   "metadata": {},
   "outputs": [],
   "source": [
    "# create device proxies and put devices in Online, not simulated mode\n",
    "subrack=tango.DeviceProxy(\"low-mccs/subrack/0001\")\n",
    "subrack.adminMode=0\n",
    "\n",
    "tile=tango.DeviceProxy(\"low-mccs/tile/0002\")\n",
    "tile.adminMode = 0\n",
    "\n",
    "daq = tango.DeviceProxy(\"low-mccs/daqreceiver/001\")\n",
    "daq.adminMode = 0\n",
    "poll_until_state(daq, tango._tango.DevState.ON) # Daq is an always-on device.\n",
    "\n",
    "# turn on subrack and wait for ON status\n",
    "subrack.On()\n",
    "poll_until_state(subrack, tango._tango.DevState.ON)\n",
    "\n",
    "# turn on TPM and wait for initialization. \n",
    "tile.On()\n",
    "while tile.tileprogrammingstate != \"Initialised\" and \\\n",
    "\ttile.tileprogrammingstate != \"Synchronised\":\n",
    "\ttime.sleep(1)"
   ]
  },
  {
   "cell_type": "markdown",
   "metadata": {},
   "source": [
    "Configure the DaqReceiver to receive data."
   ]
  },
  {
   "cell_type": "code",
   "execution_count": null,
   "metadata": {},
   "outputs": [],
   "source": [
    "daq.SetConsumers(\"CORRELATOR_DATA\")\n",
    "daq_config = {\n",
    "    \"nof_antennas\": 16,\n",
    "    \"nof_tiles\": 1,\n",
    "    \"acquisition_duration\": 30,\n",
    "    \"receiver_frame_size\": 9000,\n",
    "}\n",
    "daq.Configure(json.dumps(daq_config))"
   ]
  },
  {
   "attachments": {},
   "cell_type": "markdown",
   "metadata": {},
   "source": [
    "Set up the data stream on the tile and daq"
   ]
  },
  {
   "cell_type": "code",
   "execution_count": null,
   "metadata": {},
   "outputs": [],
   "source": [
    "# Start TPM acquisition and wait for ADC stream to start\n",
    "tile.startacquisition('{}')\n",
    "while tile.tileprogrammingstate != \"Synchronised\":\n",
    "\ttime.sleep(1)\n",
    "\n",
    "#configure networking between TPM and DAQ.\n",
    "dst_tpm_port = 4660\n",
    "dst_tpm_ip = \"10.0.10.210\" # TODO: Get DAQ IP address.\n",
    "lmc_download_dict = {\"mode\": \"10g\", \"destination_ip\": dst_tpm_ip, \"destination_port\": dst_tpm_port}\n",
    "tile.SetLmcDownload(json.dumps(lmc_download_dict))"
   ]
  },
  {
   "attachments": {},
   "cell_type": "markdown",
   "metadata": {},
   "source": [
    "Start the daq"
   ]
  },
  {
   "cell_type": "code",
   "execution_count": null,
   "metadata": {},
   "outputs": [],
   "source": [
    "daq.Start(\"\") # Start DAQ with currently configured \"default\" consumer(s).\n",
    "\n",
    "data_to_send = {\"data_type\": \"channel_continuous\", \"channel_id\": 1}\n",
    "tile.SendDataSamples(json.dumps(data_to_send))\n",
    "# Daq receives data here?\n",
    "# Files appear?\n",
    "# How do we \"prove\" that we have correlated data? Just that?"
   ]
  }
 ],
 "metadata": {
  "kernelspec": {
   "display_name": "Python 3.8.10 64-bit",
   "language": "python",
   "name": "python3"
  },
  "language_info": {
   "name": "python",
   "version": "3.8.10"
  },
  "orig_nbformat": 4,
  "vscode": {
   "interpreter": {
    "hash": "916dbcbb3f70747c44a77c7bcd40155683ae19c65e1c03b4aa3499c5328201f1"
   }
  }
 },
 "nbformat": 4,
 "nbformat_minor": 2
}
