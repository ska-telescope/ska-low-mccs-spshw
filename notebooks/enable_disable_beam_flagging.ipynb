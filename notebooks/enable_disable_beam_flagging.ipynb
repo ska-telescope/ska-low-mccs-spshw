{
 "cells": [
  {
   "cell_type": "markdown",
   "id": "e8b08339",
   "metadata": {},
   "source": [
    "# Enable/Disable Beam flagging on a tpm\n",
    "\n",
    "This page was written to test the enable/disable beam flagging methods on a tile in a real environment\n",
    "\n",
    "## Step 1: Make a tile device proxy\n",
    "\n",
    "Start all devices and then select the tpms:"
   ]
  },
  {
   "cell_type": "code",
   "execution_count": null,
   "id": "0a2fef84",
   "metadata": {},
   "outputs": [
    {
     "name": "stdout",
     "output_type": "stream",
     "text": [
      "low-mccs/daqreceiver/stfc-ral-software is in ON state\n",
      "low-mccs/daqreceiver/stfc-ral-software-bandpass is in ON state\n",
      "low-mccs/spsstation/stfc-ral-software is in ON state\n",
      "low-mccs/subrack/stfc-ral-software-sr2 is in ON state\n",
      "low-mccs/tile/stfc-ral-software-tpm09 is in ON state\n",
      "low-mccs/tile/stfc-ral-software-tpm10 is in ALARM state, turning it ON\n",
      "low-mccs/tile/stfc-ral-software-tpm11 is in ON state\n",
      "low-mccs/tile/stfc-ral-software-tpm12 is in ON state\n",
      "low-mccs/tile/stfc-ral-software-tpm13 is in ON state\n",
      "low-mccs/tile/stfc-ral-software-tpm14 is in ON state\n",
      "low-mccs/tile/stfc-ral-software-tpm15 is in ON state\n",
      "low-mccs/tile/stfc-ral-software-tpm16 is in ON state\n"
     ]
    }
   ],
   "source": [
    "import tango\n",
    "import os\n",
    "import time\n",
    "os.environ['TANGO_HOST']='databaseds.skaffold.svc.stfc-ral-k8s.skao.int:10000'\n",
    "db = tango.Database()\n",
    "all_devices_strings = db.get_device_exported(\"low-mccs/*\")\n",
    "recheck = False\n",
    "real_device_strings = []\n",
    "innactive_device_strings = []\n",
    "\n",
    "def filter_devices(group_name: str):\n",
    "    \"\"\"get rid of the device strings that represent old devices\"\"\"\n",
    "    all_devices_strings = db.get_device_exported(group_name)\n",
    "    real_strings = []\n",
    "    old_string = []\n",
    "\n",
    "    for device_str in all_devices_strings:\n",
    "        device = tango.DeviceProxy(device_str)\n",
    "        try:\n",
    "            device.state()\n",
    "            real_strings.append(device_str)\n",
    "        except Exception:\n",
    "            old_string.append(device_str)\n",
    "\n",
    "    return real_strings\n",
    "\n",
    "def start_everything():\n",
    "    for device_str in filter_devices(all_devices_strings):\n",
    "        device = tango.DeviceProxy(device_str)\n",
    "        if device.state() != tango.DevState.ON:\n",
    "            device.adminMode = 0\n",
    "            device.ON()\n",
    "    time.sleep(30) # wait for everything to start\n",
    "\n",
    "start_everything()\n",
    "tpms = [tango.DeviceProxy(tpm_str) for tpm_str in filter_devices(\"low-mccs/tile/*\")]"
   ]
  },
  {
   "cell_type": "markdown",
   "id": "f3e54a07",
   "metadata": {},
   "source": [
    "## Choose one of the tiles and read its beam flag state:"
   ]
  },
  {
   "cell_type": "code",
   "execution_count": 3,
   "id": "ed9a3481",
   "metadata": {},
   "outputs": [
    {
     "data": {
      "text/plain": [
       "array([False, False])"
      ]
     },
     "execution_count": 3,
     "metadata": {},
     "output_type": "execute_result"
    }
   ],
   "source": [
    "tpm = tpms[0]\n",
    "tpm.stationBeamFlagEnabled"
   ]
  },
  {
   "cell_type": "code",
   "execution_count": 4,
   "id": "6c895bae",
   "metadata": {},
   "outputs": [
    {
     "data": {
      "text/plain": [
       "array([ True,  True])"
      ]
     },
     "execution_count": 4,
     "metadata": {},
     "output_type": "execute_result"
    }
   ],
   "source": [
    "tpm.enablestationbeamflagging()\n",
    "tpm.stationBeamFlagEnabled"
   ]
  },
  {
   "cell_type": "code",
   "execution_count": 5,
   "id": "07837e0e",
   "metadata": {},
   "outputs": [
    {
     "data": {
      "text/plain": [
       "array([False, False])"
      ]
     },
     "execution_count": 5,
     "metadata": {},
     "output_type": "execute_result"
    }
   ],
   "source": [
    "tpm.disablestationbeamflagging()\n",
    "tpm.stationBeamFlagEnabled"
   ]
  }
 ],
 "metadata": {
  "kernelspec": {
   "display_name": "Python 3 (ipykernel)",
   "language": "python",
   "name": "python3"
  },
  "language_info": {
   "codemirror_mode": {
    "name": "ipython",
    "version": 3
   },
   "file_extension": ".py",
   "mimetype": "text/x-python",
   "name": "python",
   "nbconvert_exporter": "python",
   "pygments_lexer": "ipython3",
   "version": "3.11.9"
  }
 },
 "nbformat": 4,
 "nbformat_minor": 5
}
