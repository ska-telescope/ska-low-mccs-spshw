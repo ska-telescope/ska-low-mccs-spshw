{
 "cells": [
  {
   "cell_type": "markdown",
   "id": "c91009cf-82d3-4acd-bc74-c650694c1f25",
   "metadata": {},
   "source": [
    "## AAVS3 station initialisation and equalisation"
   ]
  },
  {
   "cell_type": "code",
   "execution_count": 1,
   "id": "2cee02ef-7da8-44d6-9849-582e83f625f5",
   "metadata": {
    "tags": []
   },
   "outputs": [],
   "source": [
    "import numpy as np\n",
    "import statistics\n",
    "import tango\n",
    "import time\n",
    "from datetime import datetime, timedelta\n",
    "import json\n",
    "from pandas import DataFrame"
   ]
  },
  {
   "cell_type": "markdown",
   "id": "f9127337-2cf5-4e69-9c63-79cd10d0861b",
   "metadata": {},
   "source": [
    "Get a handle on our TPMs and make sure we are getting live data, not data cached by Tango's polling system."
   ]
  },
  {
   "cell_type": "code",
   "execution_count": 8,
   "id": "1bed2bd1-4686-48a6-b5ec-b8530f21ef35",
   "metadata": {
    "tags": []
   },
   "outputs": [],
   "source": [
    "tpms = [Device(f\"low-mccs/tile/aavs3-{i:02}\") for i in range(1, 17)]\n",
    "subracks = [Device(f\"low-mccs/subrack/aavs3-{i}\") for i in range(1, 3)]\n",
    "station = Device(f\"low-mccs/spsstation/aavs3\")\n",
    "daq = Device(f\"low-mccs/daqreceiver/aavs3\")\n",
    "for dev in tpms + subracks + [station, daq]:\n",
    "    dev.set_source(tango.DevSource.DEV)\n",
    "AdminMode = type(station.adminMode)"
   ]
  },
  {
   "cell_type": "code",
   "execution_count": 3,
   "id": "61eea05b-090f-4345-b831-6a43189a28bc",
   "metadata": {
    "tags": []
   },
   "outputs": [],
   "source": [
    "for tpm in tpms:\n",
    "    tpm.adminMode = AdminMode.ONLINE"
   ]
  },
  {
   "cell_type": "markdown",
   "id": "cc8ea46d-b8b9-45c9-a6dd-97cc1a173586",
   "metadata": {},
   "source": [
    "**FIXME** the stationId and logicalTileId attributes of MccsTile are not always correctly set by SpsStation - disabling and re-enabling it forces them to be re-set.\n",
    "\n",
    "This is tracked in [SKB-273](https://jira.skatelescope.org/browse/SKB-273)."
   ]
  },
  {
   "cell_type": "code",
   "execution_count": 4,
   "id": "d1fc8795-c7c9-4025-a912-8064797e291f",
   "metadata": {
    "tags": []
   },
   "outputs": [],
   "source": [
    "station.adminMode = AdminMode.OFFLINE\n",
    "time.sleep(2)\n",
    "station.adminMode = AdminMode.ONLINE"
   ]
  },
  {
   "cell_type": "code",
   "execution_count": 39,
   "id": "8175d48c-3512-468a-9466-43e0c5578a15",
   "metadata": {
    "tags": []
   },
   "outputs": [
    {
     "data": {
      "text/html": [
       "<div>\n",
       "<style scoped>\n",
       "    .dataframe tbody tr th:only-of-type {\n",
       "        vertical-align: middle;\n",
       "    }\n",
       "\n",
       "    .dataframe tbody tr th {\n",
       "        vertical-align: top;\n",
       "    }\n",
       "\n",
       "    .dataframe thead th {\n",
       "        text-align: right;\n",
       "    }\n",
       "</style>\n",
       "<table border=\"1\" class=\"dataframe\">\n",
       "  <thead>\n",
       "    <tr style=\"text-align: right;\">\n",
       "      <th></th>\n",
       "      <th>state</th>\n",
       "      <th>stationId</th>\n",
       "      <th>logicalTileId</th>\n",
       "      <th>tileProgrammingState</th>\n",
       "      <th>fpgaTime</th>\n",
       "      <th>fpgaReferenceTime</th>\n",
       "      <th>fpgaFrameTime</th>\n",
       "      <th>clockPresent</th>\n",
       "      <th>pllLocked</th>\n",
       "      <th>ppsPresent</th>\n",
       "      <th>ppsDelay</th>\n",
       "    </tr>\n",
       "  </thead>\n",
       "  <tbody>\n",
       "    <tr>\n",
       "      <th>0</th>\n",
       "      <td>ON</td>\n",
       "      <td>1</td>\n",
       "      <td>0</td>\n",
       "      <td>Synchronised</td>\n",
       "      <td>2024-01-24T06:13:36.000000Z</td>\n",
       "      <td>2024-01-24T06:13:32.000000Z</td>\n",
       "      <td>2024-01-24T06:13:36.195860Z</td>\n",
       "      <td>True</td>\n",
       "      <td>True</td>\n",
       "      <td>True</td>\n",
       "      <td>18</td>\n",
       "    </tr>\n",
       "    <tr>\n",
       "      <th>1</th>\n",
       "      <td>ON</td>\n",
       "      <td>1</td>\n",
       "      <td>1</td>\n",
       "      <td>Synchronised</td>\n",
       "      <td>2024-01-24T06:13:36.000000Z</td>\n",
       "      <td>2024-01-24T06:13:32.000000Z</td>\n",
       "      <td>2024-01-24T06:13:36.199731Z</td>\n",
       "      <td>True</td>\n",
       "      <td>True</td>\n",
       "      <td>True</td>\n",
       "      <td>18</td>\n",
       "    </tr>\n",
       "    <tr>\n",
       "      <th>2</th>\n",
       "      <td>ON</td>\n",
       "      <td>1</td>\n",
       "      <td>2</td>\n",
       "      <td>Synchronised</td>\n",
       "      <td>2024-01-24T06:13:36.000000Z</td>\n",
       "      <td>2024-01-24T06:13:32.000000Z</td>\n",
       "      <td>2024-01-24T06:13:36.203602Z</td>\n",
       "      <td>True</td>\n",
       "      <td>True</td>\n",
       "      <td>True</td>\n",
       "      <td>18</td>\n",
       "    </tr>\n",
       "    <tr>\n",
       "      <th>3</th>\n",
       "      <td>ON</td>\n",
       "      <td>1</td>\n",
       "      <td>3</td>\n",
       "      <td>Synchronised</td>\n",
       "      <td>2024-01-24T06:13:36.000000Z</td>\n",
       "      <td>2024-01-24T06:13:32.000000Z</td>\n",
       "      <td>2024-01-24T06:13:36.207473Z</td>\n",
       "      <td>True</td>\n",
       "      <td>True</td>\n",
       "      <td>True</td>\n",
       "      <td>18</td>\n",
       "    </tr>\n",
       "    <tr>\n",
       "      <th>4</th>\n",
       "      <td>ON</td>\n",
       "      <td>1</td>\n",
       "      <td>4</td>\n",
       "      <td>Synchronised</td>\n",
       "      <td>2024-01-24T06:13:36.000000Z</td>\n",
       "      <td>2024-01-24T06:13:32.000000Z</td>\n",
       "      <td>2024-01-24T06:13:36.211896Z</td>\n",
       "      <td>True</td>\n",
       "      <td>True</td>\n",
       "      <td>True</td>\n",
       "      <td>18</td>\n",
       "    </tr>\n",
       "    <tr>\n",
       "      <th>5</th>\n",
       "      <td>ON</td>\n",
       "      <td>1</td>\n",
       "      <td>5</td>\n",
       "      <td>Synchronised</td>\n",
       "      <td>2024-01-24T06:13:36.000000Z</td>\n",
       "      <td>2024-01-24T06:13:32.000000Z</td>\n",
       "      <td>2024-01-24T06:13:36.217149Z</td>\n",
       "      <td>True</td>\n",
       "      <td>True</td>\n",
       "      <td>True</td>\n",
       "      <td>18</td>\n",
       "    </tr>\n",
       "    <tr>\n",
       "      <th>6</th>\n",
       "      <td>ON</td>\n",
       "      <td>1</td>\n",
       "      <td>6</td>\n",
       "      <td>Synchronised</td>\n",
       "      <td>2024-01-24T06:13:36.000000Z</td>\n",
       "      <td>2024-01-24T06:13:32.000000Z</td>\n",
       "      <td>2024-01-24T06:13:36.221020Z</td>\n",
       "      <td>True</td>\n",
       "      <td>True</td>\n",
       "      <td>True</td>\n",
       "      <td>18</td>\n",
       "    </tr>\n",
       "    <tr>\n",
       "      <th>7</th>\n",
       "      <td>ON</td>\n",
       "      <td>1</td>\n",
       "      <td>7</td>\n",
       "      <td>Synchronised</td>\n",
       "      <td>2024-01-24T06:13:36.000000Z</td>\n",
       "      <td>2024-01-24T06:13:32.000000Z</td>\n",
       "      <td>2024-01-24T06:13:36.224891Z</td>\n",
       "      <td>True</td>\n",
       "      <td>True</td>\n",
       "      <td>True</td>\n",
       "      <td>18</td>\n",
       "    </tr>\n",
       "    <tr>\n",
       "      <th>8</th>\n",
       "      <td>ON</td>\n",
       "      <td>1</td>\n",
       "      <td>8</td>\n",
       "      <td>Synchronised</td>\n",
       "      <td>2024-01-24T06:13:36.000000Z</td>\n",
       "      <td>2024-01-24T06:13:32.000000Z</td>\n",
       "      <td>2024-01-24T06:13:36.229038Z</td>\n",
       "      <td>True</td>\n",
       "      <td>True</td>\n",
       "      <td>True</td>\n",
       "      <td>18</td>\n",
       "    </tr>\n",
       "    <tr>\n",
       "      <th>9</th>\n",
       "      <td>ON</td>\n",
       "      <td>1</td>\n",
       "      <td>9</td>\n",
       "      <td>Synchronised</td>\n",
       "      <td>2024-01-24T06:13:36.000000Z</td>\n",
       "      <td>2024-01-24T06:13:32.000000Z</td>\n",
       "      <td>2024-01-24T06:13:36.232909Z</td>\n",
       "      <td>True</td>\n",
       "      <td>True</td>\n",
       "      <td>True</td>\n",
       "      <td>17</td>\n",
       "    </tr>\n",
       "    <tr>\n",
       "      <th>10</th>\n",
       "      <td>ON</td>\n",
       "      <td>1</td>\n",
       "      <td>10</td>\n",
       "      <td>Synchronised</td>\n",
       "      <td>2024-01-24T06:13:36.000000Z</td>\n",
       "      <td>2024-01-24T06:13:32.000000Z</td>\n",
       "      <td>2024-01-24T06:13:36.237056Z</td>\n",
       "      <td>True</td>\n",
       "      <td>True</td>\n",
       "      <td>True</td>\n",
       "      <td>18</td>\n",
       "    </tr>\n",
       "    <tr>\n",
       "      <th>11</th>\n",
       "      <td>ON</td>\n",
       "      <td>1</td>\n",
       "      <td>11</td>\n",
       "      <td>Synchronised</td>\n",
       "      <td>2024-01-24T06:13:36.000000Z</td>\n",
       "      <td>2024-01-24T06:13:32.000000Z</td>\n",
       "      <td>2024-01-24T06:13:36.240927Z</td>\n",
       "      <td>True</td>\n",
       "      <td>True</td>\n",
       "      <td>True</td>\n",
       "      <td>18</td>\n",
       "    </tr>\n",
       "    <tr>\n",
       "      <th>12</th>\n",
       "      <td>ON</td>\n",
       "      <td>1</td>\n",
       "      <td>12</td>\n",
       "      <td>Synchronised</td>\n",
       "      <td>2024-01-24T06:13:36.000000Z</td>\n",
       "      <td>2024-01-24T06:13:32.000000Z</td>\n",
       "      <td>2024-01-24T06:13:36.245074Z</td>\n",
       "      <td>True</td>\n",
       "      <td>True</td>\n",
       "      <td>True</td>\n",
       "      <td>18</td>\n",
       "    </tr>\n",
       "    <tr>\n",
       "      <th>13</th>\n",
       "      <td>ON</td>\n",
       "      <td>1</td>\n",
       "      <td>13</td>\n",
       "      <td>Synchronised</td>\n",
       "      <td>2024-01-24T06:13:36.000000Z</td>\n",
       "      <td>2024-01-24T06:13:32.000000Z</td>\n",
       "      <td>2024-01-24T06:13:36.249221Z</td>\n",
       "      <td>True</td>\n",
       "      <td>True</td>\n",
       "      <td>True</td>\n",
       "      <td>18</td>\n",
       "    </tr>\n",
       "    <tr>\n",
       "      <th>14</th>\n",
       "      <td>ON</td>\n",
       "      <td>1</td>\n",
       "      <td>14</td>\n",
       "      <td>Synchronised</td>\n",
       "      <td>2024-01-24T06:13:36.000000Z</td>\n",
       "      <td>2024-01-24T06:13:32.000000Z</td>\n",
       "      <td>2024-01-24T06:13:36.253645Z</td>\n",
       "      <td>True</td>\n",
       "      <td>True</td>\n",
       "      <td>True</td>\n",
       "      <td>18</td>\n",
       "    </tr>\n",
       "    <tr>\n",
       "      <th>15</th>\n",
       "      <td>ON</td>\n",
       "      <td>1</td>\n",
       "      <td>15</td>\n",
       "      <td>Synchronised</td>\n",
       "      <td>2024-01-24T06:13:36.000000Z</td>\n",
       "      <td>2024-01-24T06:13:32.000000Z</td>\n",
       "      <td>2024-01-24T06:13:36.258069Z</td>\n",
       "      <td>True</td>\n",
       "      <td>True</td>\n",
       "      <td>True</td>\n",
       "      <td>18</td>\n",
       "    </tr>\n",
       "  </tbody>\n",
       "</table>\n",
       "</div>"
      ],
      "text/plain": [
       "   state  stationId  logicalTileId tileProgrammingState  \\\n",
       "0     ON          1              0         Synchronised   \n",
       "1     ON          1              1         Synchronised   \n",
       "2     ON          1              2         Synchronised   \n",
       "3     ON          1              3         Synchronised   \n",
       "4     ON          1              4         Synchronised   \n",
       "5     ON          1              5         Synchronised   \n",
       "6     ON          1              6         Synchronised   \n",
       "7     ON          1              7         Synchronised   \n",
       "8     ON          1              8         Synchronised   \n",
       "9     ON          1              9         Synchronised   \n",
       "10    ON          1             10         Synchronised   \n",
       "11    ON          1             11         Synchronised   \n",
       "12    ON          1             12         Synchronised   \n",
       "13    ON          1             13         Synchronised   \n",
       "14    ON          1             14         Synchronised   \n",
       "15    ON          1             15         Synchronised   \n",
       "\n",
       "                       fpgaTime            fpgaReferenceTime  \\\n",
       "0   2024-01-24T06:13:36.000000Z  2024-01-24T06:13:32.000000Z   \n",
       "1   2024-01-24T06:13:36.000000Z  2024-01-24T06:13:32.000000Z   \n",
       "2   2024-01-24T06:13:36.000000Z  2024-01-24T06:13:32.000000Z   \n",
       "3   2024-01-24T06:13:36.000000Z  2024-01-24T06:13:32.000000Z   \n",
       "4   2024-01-24T06:13:36.000000Z  2024-01-24T06:13:32.000000Z   \n",
       "5   2024-01-24T06:13:36.000000Z  2024-01-24T06:13:32.000000Z   \n",
       "6   2024-01-24T06:13:36.000000Z  2024-01-24T06:13:32.000000Z   \n",
       "7   2024-01-24T06:13:36.000000Z  2024-01-24T06:13:32.000000Z   \n",
       "8   2024-01-24T06:13:36.000000Z  2024-01-24T06:13:32.000000Z   \n",
       "9   2024-01-24T06:13:36.000000Z  2024-01-24T06:13:32.000000Z   \n",
       "10  2024-01-24T06:13:36.000000Z  2024-01-24T06:13:32.000000Z   \n",
       "11  2024-01-24T06:13:36.000000Z  2024-01-24T06:13:32.000000Z   \n",
       "12  2024-01-24T06:13:36.000000Z  2024-01-24T06:13:32.000000Z   \n",
       "13  2024-01-24T06:13:36.000000Z  2024-01-24T06:13:32.000000Z   \n",
       "14  2024-01-24T06:13:36.000000Z  2024-01-24T06:13:32.000000Z   \n",
       "15  2024-01-24T06:13:36.000000Z  2024-01-24T06:13:32.000000Z   \n",
       "\n",
       "                  fpgaFrameTime  clockPresent  pllLocked  ppsPresent  ppsDelay  \n",
       "0   2024-01-24T06:13:36.195860Z          True       True        True        18  \n",
       "1   2024-01-24T06:13:36.199731Z          True       True        True        18  \n",
       "2   2024-01-24T06:13:36.203602Z          True       True        True        18  \n",
       "3   2024-01-24T06:13:36.207473Z          True       True        True        18  \n",
       "4   2024-01-24T06:13:36.211896Z          True       True        True        18  \n",
       "5   2024-01-24T06:13:36.217149Z          True       True        True        18  \n",
       "6   2024-01-24T06:13:36.221020Z          True       True        True        18  \n",
       "7   2024-01-24T06:13:36.224891Z          True       True        True        18  \n",
       "8   2024-01-24T06:13:36.229038Z          True       True        True        18  \n",
       "9   2024-01-24T06:13:36.232909Z          True       True        True        17  \n",
       "10  2024-01-24T06:13:36.237056Z          True       True        True        18  \n",
       "11  2024-01-24T06:13:36.240927Z          True       True        True        18  \n",
       "12  2024-01-24T06:13:36.245074Z          True       True        True        18  \n",
       "13  2024-01-24T06:13:36.249221Z          True       True        True        18  \n",
       "14  2024-01-24T06:13:36.253645Z          True       True        True        18  \n",
       "15  2024-01-24T06:13:36.258069Z          True       True        True        18  "
      ]
     },
     "execution_count": 39,
     "metadata": {},
     "output_type": "execute_result"
    }
   ],
   "source": [
    "def tangoattr(dev, k):\n",
    "    try:\n",
    "        v = dev[k].value\n",
    "        return str(v) if isinstance(v, tango.DevState) else v\n",
    "    except Exception as e:\n",
    "        return repr(e)\n",
    "\n",
    "DataFrame({k: tangoattr(tpm, k) for k in [\n",
    "    'state', 'stationId', 'logicalTileId', 'tileProgrammingState', 'fpgaTime', 'fpgaReferenceTime', 'fpgaFrameTime', 'clockPresent', 'pllLocked', 'ppsPresent', 'ppsDelay'\n",
    "]} for tpm in tpms)"
   ]
  },
  {
   "cell_type": "code",
   "execution_count": 9,
   "id": "73c75c8a-e532-4caa-b034-4596d4b64c37",
   "metadata": {},
   "outputs": [
    {
     "name": "stdout",
     "output_type": "stream",
     "text": [
      "{'mode': '10G', 'destination_ip': '10.137.0.111', 'destination_port': 4660, 'channel_payload_length': 8192}\n"
     ]
    }
   ],
   "source": [
    "import json\n",
    "daq_status = json.loads(daq.DaqStatus())\n",
    "tpm_config = {\n",
    "    \"mode\": \"10G\",\n",
    "    \"destination_ip\": daq_status[\"Receiver IP\"][0],\n",
    "    \"destination_port\": daq_status[\"Receiver Ports\"][0],\n",
    "    \"channel_payload_length\": 8192,\n",
    "}\n",
    "print(tpm_config)"
   ]
  },
  {
   "cell_type": "markdown",
   "id": "687b9942-4072-4f60-a121-211a27a4bb0f",
   "metadata": {},
   "source": [
    "Destination addresses need to be set before calling StartAcquisition. MccsTile will wait for the TPM's ARP tables to be populated before starting acquisition."
   ]
  },
  {
   "cell_type": "code",
   "execution_count": 10,
   "id": "3b72a172-d6c9-4c40-ae23-2eb08a1b6c60",
   "metadata": {},
   "outputs": [
    {
     "data": {
      "text/plain": [
       "[array([0], dtype=int32), ['SetCspIngest command completed OK']]"
      ]
     },
     "execution_count": 10,
     "metadata": {},
     "output_type": "execute_result"
    }
   ],
   "source": [
    "station.SetLmcDownload(json.dumps(tpm_config))\n",
    "station.SetCspIngest(json.dumps(tpm_config))"
   ]
  },
  {
   "cell_type": "markdown",
   "id": "9fef5a31-7674-4394-84d4-b0c56a1f1324",
   "metadata": {},
   "source": [
    "Initialise the station. This erases the FPGAs on each TPM, re-programs, and re-initialises them, including setting up the daisy-chaining between TPMs."
   ]
  },
  {
   "cell_type": "code",
   "execution_count": 11,
   "id": "01951b74-75ec-4202-943d-7ac3a6d6a5ed",
   "metadata": {},
   "outputs": [
    {
     "data": {
      "text/plain": [
       "[array([2], dtype=int32), ['1706076699.8599222_260491772728805_Initialise']]"
      ]
     },
     "execution_count": 11,
     "metadata": {},
     "output_type": "execute_result"
    }
   ],
   "source": [
    "station.Initialise()"
   ]
  },
  {
   "cell_type": "markdown",
   "id": "d975f242-e51e-438b-a858-8fc646ec489a",
   "metadata": {},
   "source": [
    "Set an initial flat attenuation across all ADCs before starting acquisition."
   ]
  },
  {
   "cell_type": "code",
   "execution_count": 36,
   "id": "ac0110dd-3efc-4bd4-b66f-2fe182ac7b95",
   "metadata": {
    "tags": []
   },
   "outputs": [],
   "source": [
    "station.preaduLevels = [24.0] * 512"
   ]
  },
  {
   "cell_type": "markdown",
   "id": "daa5e228-202d-4c54-8058-b7168a34be4a",
   "metadata": {},
   "source": [
    "Start acquisition! Five seconds after executing this, re-execute the dataframe cell above - all TPMs should be in tileProgrammingState `Sychronised`."
   ]
  },
  {
   "cell_type": "code",
   "execution_count": 37,
   "id": "df7322fb-8e7a-4b60-94a6-36b57ab0c501",
   "metadata": {
    "tags": []
   },
   "outputs": [
    {
     "data": {
      "text/plain": [
       "[array([2], dtype=int32),\n",
       " ['1706076810.600363_124304954648635_StartAcquisition']]"
      ]
     },
     "execution_count": 37,
     "metadata": {},
     "output_type": "execute_result"
    }
   ],
   "source": [
    "start_time = (datetime.now().replace(microsecond=0) + timedelta(seconds=2)).strftime(\"%Y-%m-%dT%H:%M:%S.%fZ\")\n",
    "station.StartAcquisition(json.dumps({\"start_time\": start_time}))"
   ]
  },
  {
   "cell_type": "markdown",
   "id": "0dc5cf87-469d-4d73-9f4b-f842085f0ef5",
   "metadata": {},
   "source": [
    "First we spend a little while collecting ADC powers over time so that we aren't equalising based on an RFI spike or other transient."
   ]
  },
  {
   "cell_type": "code",
   "execution_count": 42,
   "id": "af920b12-5dbe-4be1-b462-e788112dcfe3",
   "metadata": {
    "tags": []
   },
   "outputs": [],
   "source": [
    "N_SAMPLES = 20\n",
    "TARGET_ADC = 17\n",
    "\n",
    "adc_data = np.empty([N_SAMPLES, 512])\n",
    "for i in range(len(adc_data)):\n",
    "    time.sleep(1)\n",
    "    adc_data[i] = station.adcPower\n",
    "\n",
    "# calculate difference in dB between current and target values\n",
    "adc_medians = np.median(adc_data, axis=0)\n",
    "adc_deltas = 20 * np.log10(adc_medians / TARGET_ADC)\n",
    "\n",
    "# calculate ideal attenuation\n",
    "preadu_levels = np.concatenate([t.preaduLevels for t in tpms])\n",
    "desired_levels = preadu_levels + adc_deltas\n",
    "\n",
    "# quantise and clip to valid range\n",
    "sanitised_levels = (desired_levels * 4).round().clip(0, 127) / 4\n",
    "\n",
    "# apply new preADU levels to the station\n",
    "station.preaduLevels = sanitised_levels"
   ]
  },
  {
   "cell_type": "code",
   "execution_count": null,
   "id": "87be8c19-98e7-4317-a6c0-863d90c4d9eb",
   "metadata": {
    "jupyter": {
     "source_hidden": true
    },
    "tags": []
   },
   "outputs": [],
   "source": [
    "adcPowers = [[list() for _ in range(32)] for _ in range(16)]\n",
    "for i in range(10):\n",
    "    for j, tpm in enumerate(tpms):\n",
    "        for k, p in enumerate(list(tpm.adcPower)):\n",
    "            adcPowers[j][k].append(p)\n",
    "    time.sleep(1)\n",
    "\n",
    "adcPowers = np.array([[statistics.mode(ch) for ch in t] for t in adcPowers])\n",
    "dbmPowers = 10 * np.log10(np.power((adcPowers * (1.7 / 256.)), 2) / 400.) + 30 + 12\n",
    "\n",
    "TARGET = -3\n",
    "\n",
    "for i, tpm in enumerate(tpms):\n",
    "    print(f\"TPM {i+1}\")\n",
    "    # print(f\"{tpm.adcPower=}\")\n",
    "    # dbmPower = 10 * np.log10(np.power((tpm.adcPower * (1.7 / 256.)), 2) / 400.) + 30 + 12\n",
    "    dbmPower=dbmPowers[i]\n",
    "    print(f\"{dbmPower=}\")\n",
    "    newAttens = ((dbmPower + tpm.preaduLevels - TARGET) * 4).round().clip(0, 127) / 4\n",
    "    attenDiff = newAttens - tpm.preaduLevels\n",
    "    print(f\"{attenDiff=}\")\n",
    "    tpm.preaduLevels = newAttens\n",
    "\n",
    "time.sleep(2)\n",
    "for i, tpm in enumerate(tpms):\n",
    "    print(f\"TPM {i+1}\")\n",
    "    print(f\"{tpm.preaduLevels=}\")\n",
    "    dbmPower = 10 * np.log10(np.power((tpm.adcPower * (1.7 / 256.)), 2) / 400.) + 30 + 12\n",
    "    print(f\"{dbmPower=}\\n\")\n",
    "\n",
    "    # print(tpm.adcPower)\n",
    "    # print(dbmPowers[i])\n",
    "    # print(10 * np.log10(np.power((tpm.adcPower * (1.7 / 256.)), 2) / 400.) + 30 + 12)"
   ]
  }
 ],
 "metadata": {
  "kernelspec": {
   "display_name": "ITango",
   "language": "python",
   "name": "tango"
  },
  "language_info": {
   "codemirror_mode": {
    "name": "ipython",
    "version": 3
   },
   "file_extension": ".py",
   "mimetype": "text/x-python",
   "name": "python",
   "nbconvert_exporter": "python",
   "pygments_lexer": "ipython3",
   "version": "3.11.7"
  }
 },
 "nbformat": 4,
 "nbformat_minor": 5
}
