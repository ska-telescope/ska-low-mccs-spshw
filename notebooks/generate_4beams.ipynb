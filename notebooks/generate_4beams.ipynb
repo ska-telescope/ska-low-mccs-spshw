{
 "cells": [
  {
   "cell_type": "markdown",
   "id": "2f8b1dcc-60df-44bf-960b-4651bc4c095c",
   "metadata": {},
   "source": [
    "##### <b>Multiple beam generation</b>\n",
    "\n",
    "This script generates multiple beams from individual input channels in a single TPM. \n",
    "\n",
    "Signals are defined by their ADC input port, numbered from 0 to 31. \n",
    "<ul>\n",
    "    <li> Only one signal from each ADC pairs (one antenna) can be used</li>\n",
    "    <li> If two signals from one antenna are both specified, their sum is used for both.</li>\n",
    "    <li> the used signal is copied to both polarizations</li>\n",
    "    <li> Each signal can be delayed using the <it>staticTimeDelays</it> attribute</li>\n",
    "</ul>\n",
    "\n",
    "Up to 8 beams can be defined with the current firmware. All beams have the same bandwidth and sky frequency. \n",
    "\n",
    "In the example below 4 beams are defined, for Y polarization in antennas 5-8. They are delayed by [0,1,2,3] samples. Each beam starts at 229.30 MHz and ends at 235.55 MHz (channels 294-301).\n",
    "\n",
    " Local parameters\n",
    " <ul>\n",
    "    <li> csp_ingest_ip: IP address of the CSP ingest port</li>\n",
    "    <li> lmc_ip: IP address of the LMC DAQ system</li>\n",
    "    <li> input ADCs: ADC input channel (0-31, 0-1 for antenna 1, 30-31 for antenna 16)</li>\n",
    "    <li> delays: in nanoseconds, rounded to ADC samples (1.25 ns), for each signal. One for each ADC input.\n",
    "    <li> csp_rounding: Depending on actual signal level, adjust signal level at channelizer output. Nominal value (4) is appropriate for a sinewave with RMS input amplitude, as measured by adcPower, in the range 5.5 to 11. Value is ceil(log2(adcPower/2.8))</li>\n",
    "    <li> input_frequency: frequency of the input signal. Used to compute the beamformed channel. The beamformer beamforms N channels starting at the first even channel equal or lower to this one </li>\n",
    "    <li> nof_channels: number of beamformed channels per beam. Must be a multiple of 8\n",
    "    </ul>\n"
   ]
  },
  {
   "cell_type": "code",
   "execution_count": 1,
   "id": "c3803c89-b486-4178-a48c-0a155673d8e1",
   "metadata": {},
   "outputs": [
    {
     "name": "stdout",
     "output_type": "stream",
     "text": [
      "Signal is on beamformed channel 0, corresponding to TPM channel 294\n"
     ]
    }
   ],
   "source": [
    "csp_ingest_ip = \"10.0.0.99\"\n",
    "lmc_ip = \"10.0.0.99\"\n",
    "input_adcs = [9, 11, 13, 15]\n",
    "delays = [0, 1.25, 2.5, 3.75]\n",
    "input_frequency = 230e6  # use actual tone frequency\n",
    "nof_channels = 8\n",
    "csp_rounding = 4    # adequate for -2:+5 dBm, adcLevel=11:22\n",
    "start_channel = int(round(input_frequency/800e6*1024))\n",
    "if start_channel % 2 == 0:\n",
    "    print(f\"Signal is on beamformed channel 0, corresponding to TPM channel {start_channel}\")\n",
    "else: \n",
    "    print(f\"Signal is on beamformed channel 1, corresponding to TPM channel {start_channel}\")\n",
    "    start_channel = start_channel -1"
   ]
  },
  {
   "cell_type": "markdown",
   "id": "c61d2bd8-ef63-461d-acd5-b0a8f5f835e4",
   "metadata": {},
   "source": [
    "<b>Definitions</b>\n",
    "\n",
    "Define the used TANGO devices and constants.\n",
    "Change list of device proxies and \"devices\" and \"tiles\" to actually present and used tiles\n",
    "\n",
    "Put all devices Online. "
   ]
  },
  {
   "cell_type": "code",
   "execution_count": 2,
   "id": "417fae9e-5454-4414-922f-17ef9905c0d8",
   "metadata": {},
   "outputs": [],
   "source": [
    "import tango\n",
    "import time\n",
    "import json\n",
    "import numpy as np\n",
    "\n",
    "from ska_control_model import (\n",
    "    AdminMode,\n",
    "    CommunicationStatus,\n",
    "    HealthState,\n",
    "    PowerState,\n",
    "    ResultCode,\n",
    "    SimulationMode,\n",
    "    TestMode,\n",
    ")\n",
    "# for time conversion\n",
    "from datetime import datetime,timezone\n",
    "RFC_FORMAT = \"%Y-%m-%dT%H:%M:%S.%fZ\"\n",
    "\n",
    "# define devices\n",
    "station = tango.DeviceProxy('low-mccs/station/001')\n",
    "subrack = tango.DeviceProxy('low-mccs/subrack/0001')\n",
    "t1 = tango.DeviceProxy('low-mccs/tile/0001')\n",
    "#t2 = tango.DeviceProxy('low-mccs/tile/0002')\n",
    "#t3 = tango.DeviceProxy('low-mccs/tile/0003')\n",
    "#t4 = tango.DeviceProxy('low-mccs/tile/0004')\n",
    "#t5 = tango.DeviceProxy('low-mccs/tile/0005')\n",
    "#t6 = tango.DeviceProxy('low-mccs/tile/0006')\n",
    "#t7 = tango.DeviceProxy('low-mccs/tile/0007')\n",
    "#t8 = tango.DeviceProxy('low-mccs/tile/0008')\n",
    "\n",
    "#station.logginglevel=5\n",
    "devices = [station, subrack, t1,] # t2, t3, t4, t5, t6, t7, t8]\n",
    "tiles = [t1, ] # t4]\n",
    "\n",
    "# Put everything online\n",
    "for d in devices:\n",
    "    d.adminmode = AdminMode.ONLINE\n",
    "time.sleep(0.2)\n",
    "# \n",
    "# Tiles must be in Maintenance mode to allow test signal generator\n",
    "for t in tiles:\n",
    "    t.adminMode = AdminMode.MAINTENANCE"
   ]
  },
  {
   "cell_type": "markdown",
   "id": "ddc5ca78-a124-45b7-8e26-3b8834c4ac23",
   "metadata": {},
   "source": [
    "<b>Turn TPM on</b>\n",
    "<ul>\n",
    "    <li>Turn TPM on if not already on.</li>\n",
    "    <li>Wait for intialization if not already initialised</li> \n",
    "    <li>If initialisation succeeds <ul>\n",
    "        <li>perform initial setup</li>\n",
    "        <li>start the acquisition.</li></ul>\n",
    "    <li>Set destination IP addresses</li>\n",
    "    <li>At the end, print signal level on input ADCs</li></ul>"
   ]
  },
  {
   "cell_type": "code",
   "execution_count": 14,
   "id": "8be3dd74-9b2f-411b-97d0-3360fdfb1b92",
   "metadata": {},
   "outputs": [
    {
     "name": "stdout",
     "output_type": "stream",
     "text": [
      "0: Initialised\n",
      "2023-05-29T15:00:21.356411Z: Tile is in state Synchronised\n",
      "Input levels: [0. 0. 0. 0. 0. 0. 0. 0. 0. 0. 0. 0. 0. 0. 0. 0. 0. 0. 0. 0. 0. 0. 0. 0.\n",
      " 0. 0. 0. 0. 0. 0. 0. 0.]\n"
     ]
    }
   ],
   "source": [
    "# CHeck that TPM os on, initialised and synchronised. If not, initialises it\n",
    "if t1.tileprogrammingstate != 'Synchronised':\n",
    "    t1.on()\n",
    "    time.sleep(2)\n",
    "    t1.initialise()\n",
    "    \n",
    "t = 0\n",
    "while not t1.tileprogrammingstate in ['Initialised', 'Synchronised']:\n",
    "    print(f\"{t}: {t1.tileprogrammingstate}\")\n",
    "    time.sleep(2)\n",
    "    t = t + 2\n",
    "    if t > 60:\n",
    "        break\n",
    "if t > 60:\n",
    "    print(\"Initialisation failed\")\n",
    "elif t1.tileprogrammingstate == 'Initialised':\n",
    "    print(f\"{t}: {t1.tileprogrammingstate}\")\n",
    "    t1.ConfigureStationBeamformer(json.dumps({\n",
    "        \"start_channel\": 192,\n",
    "        \"n_channels\": 8,\n",
    "        \"is_first\": True,\n",
    "        \"is_last\": True,\n",
    "    }))\n",
    "    start_time = datetime.strftime(datetime.fromtimestamp(int(time.time())+2), RFC_FORMAT)\n",
    "    t1.StartAcquisition(json.dumps({\"start_time\": start_time}))\n",
    "    time.sleep(3)\n",
    "if t1.tileprogrammingstate == \"Synchronised\":\n",
    "    t1.statictimedelays=np.zeros([32],dtype=int)\n",
    "    t1.channeliserRounding=[csp_rounding]*512\n",
    "    t1.cspRounding=[0]*384\n",
    "    t1.SetLmcDownload(json.dumps({\"destination_ip\": lmc_ip, \"mode\": \"10g\"}))\n",
    "    t1.SetLmcIntegratedDownload(json.dumps({\"destination_ip\": lmc_ip, \"mode\": \"10g\"}))\n",
    "    t1.Configure40GCore(json.dumps({\"core_id\": 0, \"arp_table_entry\": 0, \"destination_ip\": csp_ingest_ip}))\n",
    "    t1.Configure40GCore(json.dumps({\"core_id\": 1, \"arp_table_entry\": 0, \"destination_ip\": csp_ingest_ip}))\n",
    "print(f\"{t1.fpgaframetime}: Tile is in state {t1.tileprogrammingstate}\")\n",
    "time.sleep(0.5) # to allow for the total power detector to compute the total power\n",
    "print(f\"Input levels: {t1.adcPower}\")"
   ]
  },
  {
   "cell_type": "markdown",
   "id": "b537452d-8b30-4a6f-ad1b-ec484a2a56a6",
   "metadata": {},
   "source": [
    "Program te test generator to produce null samples except for selected input.\n",
    "Input ADC can be identified from adcPower attribute above.\n",
    "Then start the generator.\n",
    "\n",
    "If adc_inputs or delays are changed, this cell can be re-run"
   ]
  },
  {
   "cell_type": "code",
   "execution_count": 15,
   "id": "400fe37e-1ea7-467d-ad8d-e7d745e4b7f7",
   "metadata": {},
   "outputs": [
    {
     "name": "stdout",
     "output_type": "stream",
     "text": [
      "2023-05-29T15:00:28.547379Z\n",
      "Beamformer running: True\n",
      "Adjust channeliser rounding to 3\n",
      "Input level: 5.762208750591321\n"
     ]
    }
   ],
   "source": [
    "t1.StopBeamformer()\n",
    "time.sleep(0.1)\n",
    "\n",
    "static_delays = t1.staticTimeDelays # modify the delays as specified\n",
    "\n",
    "beamformer_table = []  # Definition of beamformer regions. Flat array\n",
    "                       # hw_channel, nof_chans, hw_beam, subarray, log_channel, subarray_beam, substation, aperture\n",
    "beam_channels = []     # logical channels in each region. 2d array\n",
    "beam = 0\n",
    "logical_channel = 0\n",
    "for adc in input_adcs:\n",
    "    beamformer_table += [start_channel,nof_channels,beam,1,0,1,beam+1,101+beam]\n",
    "    beam_channels += [[logical_channel, (logical_channel+nof_channels)]]\n",
    "    logical_channel += nof_channels\n",
    "    static_delays[adc] = delays[beam]\n",
    "    beam += 1\n",
    "\n",
    "# Program beamformer and delays0\n",
    "t1.SetBeamformerRegions(beamformer_table)\n",
    "t1.staticTimeDelays = static_delays\n",
    "\n",
    "# Program beam calibration matrix to send a single antenna signal to each beam\n",
    "\n",
    "cal_gain = 4.0  # we are using just one antenna, raise the gain\n",
    "cal_matrix_even = [cal_gain, 0.0, cal_gain, 0.0, 0.0, 0.0, 0.0, 0.0]  # send Xpol to both\n",
    "cal_matrix_odd  = [0.0, 0.0, 0.0, 0.0, cal_gain, 0.0, cal_gain, 0.0]  # send Ypol to both\n",
    "\n",
    "# for each antenna the calibration coefficients are zero except for corresponding beam\n",
    "for antenna in range(16):\n",
    "    \n",
    "    cal_coefs = [antenna*1.0] + [0.0, 0.0, 0.0, 0.0, 0.0, 0.0, 0.0, 0.0] * 384\n",
    "    beam = 0\n",
    "    for adc in input_adcs:\n",
    "        if adc // 2 == antenna:\n",
    "            if adc & 1 == 0:\n",
    "                antenna_coefs = cal_matrix_even\n",
    "            else:\n",
    "                antenna_coefs = cal_matrix_odd\n",
    "            \n",
    "            for logical_channel in range(beam_channels[beam][0], beam_channels[beam][1]):\n",
    "                cal_element = logical_channel*8+1\n",
    "                cal_coefs[cal_element:cal_element+8] = antenna_coefs\n",
    "        t1.LoadCalibrationCoefficients(cal_coefs)\n",
    "        beam += 1\n",
    "        \n",
    "t1.ApplyCalibration(\"\")\n",
    "\n",
    "print(t1.fpgaframetime)\n",
    "start_time = datetime.strftime(datetime.fromtimestamp(time.time()+2), RFC_FORMAT)\n",
    "t1.StartBeamformer(json.dumps({\"start_time\": start_time}))\n",
    "time.sleep(2)\n",
    "print(f\"Beamformer running: {t1.isBeamformerRunning}\")\n",
    "current_rounding = t1.channeliserRounding[0] & 0x7\n",
    "level = t1.adcPower[input_adcs[0]]\n",
    "chan_level = level * 1.45 * 2**current_rounding\n",
    "if chan_level > 110 or chan_level < 50:\n",
    "    rounding = int(np.ceil(np.log2(level/1.4)))\n",
    "    if rounding <0:\n",
    "        rounding = 0\n",
    "    if rounding > 7: \n",
    "        rounding = 7\n",
    "    t1.channeliserRounding = [rounding]*512\n",
    "    print(f\"Adjust channeliser rounding to {rounding}\")\n",
    "else:\n",
    "    print(f\"Keeping old channeliser rounding {current_rounding}\")\n",
    "print(f\"Input level: {t1.adcPower[input_adcs[0]]}\")"
   ]
  },
  {
   "cell_type": "code",
   "execution_count": 6,
   "id": "2136954f-fcb4-40ec-a4d2-d868b3f1ee64",
   "metadata": {
    "tags": []
   },
   "outputs": [
    {
     "data": {
      "text/plain": [
       "[array([0], dtype=int32), ['SendDataSamples command completed OK']]"
      ]
     },
     "execution_count": 6,
     "metadata": {},
     "output_type": "execute_result"
    }
   ],
   "source": [
    "t1.senddatasamples(json.dumps({\"data_type\": \"beam\"}))"
   ]
  },
  {
   "cell_type": "code",
   "execution_count": 16,
   "id": "70d4c959-36e6-4081-b50f-4fabf141295d",
   "metadata": {},
   "outputs": [
    {
     "data": {
      "text/plain": [
       "[array([0], dtype=int32), ['StopBeamformer command completed OK']]"
      ]
     },
     "execution_count": 16,
     "metadata": {},
     "output_type": "execute_result"
    }
   ],
   "source": [
    "t1.stopbeamformer()"
   ]
  }
 ],
 "metadata": {
  "kernelspec": {
   "display_name": "jupyTango",
   "language": "python",
   "name": "jupytango"
  },
  "language_info": {
   "codemirror_mode": {
    "name": "ipython",
    "version": 3
   },
   "file_extension": ".py",
   "mimetype": "text/x-python",
   "name": "python",
   "nbconvert_exporter": "python",
   "pygments_lexer": "ipython3",
   "version": "3.10.6"
  }
 },
 "nbformat": 4,
 "nbformat_minor": 5
}
