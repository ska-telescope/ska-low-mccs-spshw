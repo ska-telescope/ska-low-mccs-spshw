{
 "cells": [
  {
   "cell_type": "markdown",
   "id": "2f8b1dcc-60df-44bf-960b-4651bc4c095c",
   "metadata": {},
   "source": [
    "##### <b>Multiple beam generation</b>\n",
    "\n",
    "This script generates multiple beams from individual input channels in a single TPM. \n",
    "\n",
    "Signals are defined by their ADC input port, numbered from 0 to 31. \n",
    "<ul>\n",
    "    <li> Only one signal from each ADC pairs (one antenna) can be used</li>\n",
    "    <li> If two signals from one antenna are both specified, their sum is used for both.</li>\n",
    "    <li> the used signal is copied to both polarizations</li>\n",
    "    <li> Each signal can be delayed using the <it>staticTimeDelays</it> attribute</li>\n",
    "</ul>\n",
    "\n",
    "Up to 8 beams can be defined with the current firmware. All beams have the same bandwidth and sky frequency. \n",
    "\n",
    "In the example below 8 beams are defined, for Y polarization in antennas 5-8 and 13-16. They are delayed by [0,1,2,3,4,2,0,0] samples. Each beam starts at 229.30 MHz and ends at 235.55 MHz (channels 294-301).\n",
    "\n",
    " Local parameters\n",
    " <ul>\n",
    "    <li> csp_ingest_ip: IP address of the CSP ingest port</li>\n",
    "    <li> lmc_ip: IP address of the LMC DAQ system</li>\n",
    "    <li> input ADCs: ADC input channel (0-31, 0-1 for antenna 1, 30-31 for antenna 16)</li>\n",
    "    <li> delays: in nanoseconds, rounded to ADC samples (1.25 ns), for each signal. One for each ADC input.\n",
    "    <li> csp_rounding: Depending on actual signal level, adjust signal level at channelizer output. Nominal value (4) is appropriate for a sinewave with RMS input amplitude, as measured by adcPower, in the range 5.5 to 11. Value is ceil(log2(adcPower/2.8))</li>\n",
    "    <li> input_frequency: frequency of the input signal. Used to compute the beamformed channel. The beamformer beamforms 8 channels starting at the first even channel equal or lower to this one </li>\n",
    "    </ul>\n"
   ]
  },
  {
   "cell_type": "code",
   "execution_count": 1,
   "id": "c3803c89-b486-4178-a48c-0a155673d8e1",
   "metadata": {},
   "outputs": [
    {
     "name": "stdout",
     "output_type": "stream",
     "text": [
      "Signal is on beamformed channel 0, corresponding to TPM channel 294\n"
     ]
    }
   ],
   "source": [
    "csp_ingest_ip = \"10.0.0.99\"\n",
    "lmc_ip = \"10.0.0.99\"\n",
    "input_adcs = [9, 11, 13, 15, 25, 27, 29, 31]\n",
    "delays = [0, 1.25, 2.5, 3.75, 5.0, 2.5, 0, 0]\n",
    "input_frequency = 230e6  # use actual tone frequency\n",
    "nof_channels = 8\n",
    "csp_rounding = 4    # adequate for -2:+5 dBm, adcLevel=11:22\n",
    "start_channel = int(round(input_frequency/800e6*1024))\n",
    "if start_channel % 2 == 0:\n",
    "    print(f\"Signal is on beamformed channel 0, corresponding to TPM channel {start_channel}\")\n",
    "else: \n",
    "    print(f\"Signal is on beamformed channel 1, corresponding to TPM channel {start_channel}\")\n",
    "    start_channel = start_channel -1"
   ]
  },
  {
   "cell_type": "markdown",
   "id": "c61d2bd8-ef63-461d-acd5-b0a8f5f835e4",
   "metadata": {},
   "source": [
    "<b>Definitions</b>\n",
    "\n",
    "Define the used TANGO devices and constants.\n",
    "Change list of device proxies and \"devices\" and \"tiles\" to actually present and used tiles\n",
    "\n",
    "Put all devices Online. "
   ]
  },
  {
   "cell_type": "code",
   "execution_count": 2,
   "id": "417fae9e-5454-4414-922f-17ef9905c0d8",
   "metadata": {},
   "outputs": [],
   "source": [
    "import tango\n",
    "import time\n",
    "import json\n",
    "import numpy as np\n",
    "\n",
    "from ska_control_model import (\n",
    "    AdminMode,\n",
    "    CommunicationStatus,\n",
    "    HealthState,\n",
    "    PowerState,\n",
    "    ResultCode,\n",
    "    SimulationMode,\n",
    "    TestMode,\n",
    ")\n",
    "# for time conversion\n",
    "from datetime import datetime,timezone\n",
    "RFC_FORMAT = \"%Y-%m-%dT%H:%M:%S.%fZ\"\n",
    "MAX_BEAMFORMED_CHANNELS =384\n",
    "ANTENNAS_PER_TPM = 16\n",
    "\n",
    "# define devices\n",
    "station = tango.DeviceProxy('low-mccs/station/001')\n",
    "subrack = tango.DeviceProxy('low-mccs/subrack/0001')\n",
    "t1 = tango.DeviceProxy('low-mccs/tile/0001')\n",
    "#station.logginglevel=5\n",
    "devices = [station, subrack, t1]\n",
    "tiles = [t1, ] \n",
    "\n",
    "# Put everything online\n",
    "for d in devices:\n",
    "    d.adminmode = AdminMode.ONLINE\n",
    "time.sleep(0.2)\n",
    "# \n",
    "# Tiles must be in Engineering mode to allow test signal generator\n",
    "for t in tiles:\n",
    "    t.adminMode = AdminMode.ENGINEERING"
   ]
  },
  {
   "cell_type": "markdown",
   "id": "ddc5ca78-a124-45b7-8e26-3b8834c4ac23",
   "metadata": {},
   "source": [
    "<b>Turn TPM on</b>\n",
    "<ul>\n",
    "    <li>Turn TPM on if not already on.</li>\n",
    "    <li>Wait for intialization if not already initialised</li> \n",
    "    <li>If initialisation succeeds <ul>\n",
    "        <li>perform initial setup</li>\n",
    "        <li>start the acquisition.</li></ul>\n",
    "    <li>Set destination IP addresses</li>\n",
    "    <li>At the end, print signal level on input ADCs</li></ul>"
   ]
  },
  {
   "cell_type": "code",
   "execution_count": 4,
   "id": "8be3dd74-9b2f-411b-97d0-3360fdfb1b92",
   "metadata": {},
   "outputs": [
    {
     "name": "stdout",
     "output_type": "stream",
     "text": [
      "0: NotProgrammed\n",
      "2: NotProgrammed\n",
      "4: NotProgrammed\n",
      "6: NotProgrammed\n",
      "8: Programmed\n",
      "10: Programmed\n",
      "12: Programmed\n",
      "14: Programmed\n",
      "16: Programmed\n",
      "18: Programmed\n",
      "20: Programmed\n",
      "22: Programmed\n",
      "24: Programmed\n",
      "26: Programmed\n",
      "28: Initialised\n",
      "2023-05-31T13:51:18.540270Z: Tile is in state Synchronised\n",
      "Input levels: [0.79428563 0.999998   0.86351194 0.99990599 0.99410446 0.99918965\n",
      " 0.92530642 0.999974   0.03655185 5.78040548 0.94356819 5.67963724\n",
      " 0.34076862 4.59715039 0.9448222  4.63749439 0.99559216 0.99959391\n",
      " 0.48548388 0.97659956 0.89918554 0.99993    0.99865706 0.9923727\n",
      " 0.20155678 4.60190841 0.49267311 4.6552627  0.9892479  4.60328506\n",
      " 0.63050704 4.63742797]\n"
     ]
    }
   ],
   "source": [
    "# Check that TPM os on, initialised and synchronised. If not, initialises it\n",
    "if t1.tileprogrammingstate != 'Synchronised':\n",
    "    if t1.tileprogrammingstate in ['NotProgrammed', 'Programmed', 'Initialised']: \n",
    "        t1.initialise()\n",
    "        time.sleep(1)\n",
    "    else:        \n",
    "        t1.on()\n",
    "# wait for initialisation. Skip if synchronised    \n",
    "t = 0\n",
    "while not t1.tileprogrammingstate in ['Initialised', 'Synchronised']:\n",
    "    print(f\"{t}: {t1.tileprogrammingstate}\")\n",
    "    time.sleep(2)\n",
    "    t = t + 2\n",
    "    if t > 60:\n",
    "        break\n",
    "if t > 60: # timed out\n",
    "    raise Exception(\"Initialisation failed\")\n",
    "elif t1.tileprogrammingstate == 'Initialised':\n",
    "    print(f\"{t}: {t1.tileprogrammingstate}\")\n",
    "    t1.ConfigureStationBeamformer(json.dumps({\n",
    "        \"start_channel\": 192,   #initial value, will be overwritten\n",
    "        \"n_channels\": 8,\n",
    "        \"is_first\": True,\n",
    "        \"is_last\": True,\n",
    "    }))\n",
    "    start_time = datetime.strftime(datetime.fromtimestamp(int(time.time())+2), RFC_FORMAT)\n",
    "    t1.StartAcquisition(json.dumps({\"start_time\": start_time}))\n",
    "    time.sleep(3)\n",
    "# if synchronization was successful, initialise 40G interfaces and signal chain rounding\n",
    "if t1.tileprogrammingstate == \"Synchronised\":\n",
    "    t1.statictimedelays=np.zeros([32],dtype=int)\n",
    "    t1.channeliserRounding=[csp_rounding]*512\n",
    "    t1.cspRounding=[0]*384\n",
    "    t1.SetLmcDownload(json.dumps({\"destination_ip\": lmc_ip, \"mode\": \"10g\"}))\n",
    "    t1.SetLmcIntegratedDownload(json.dumps({\"destination_ip\": lmc_ip, \"mode\": \"10g\"}))\n",
    "    t1.Configure40GCore(json.dumps({\"core_id\": 0, \"arp_table_entry\": 0, \"destination_ip\": csp_ingest_ip}))\n",
    "    t1.Configure40GCore(json.dumps({\"core_id\": 1, \"arp_table_entry\": 0, \"destination_ip\": csp_ingest_ip}))\n",
    "else:\n",
    "    raise Exception(\"Synchronization failed\")\n",
    "    \n",
    "print(f\"{t1.fpgaframetime}: Tile is in state {t1.tileprogrammingstate}\")\n",
    "time.sleep(0.5) # to allow for the total power detector to compute the total power\n",
    "print(f\"Input levels: {t1.adcPower}\")"
   ]
  },
  {
   "cell_type": "markdown",
   "id": "b537452d-8b30-4a6f-ad1b-ec484a2a56a6",
   "metadata": {},
   "source": [
    "Program te test generator to produce null samples except for selected input.\n",
    "Input ADC can be identified from adcPower attribute above.\n",
    "Then start the generator.\n",
    "\n",
    "If adc_inputs or delays are changed, this cell can be re-run"
   ]
  },
  {
   "cell_type": "code",
   "execution_count": 41,
   "id": "400fe37e-1ea7-467d-ad8d-e7d745e4b7f7",
   "metadata": {},
   "outputs": [
    {
     "name": "stdout",
     "output_type": "stream",
     "text": [
      "2023-05-31T15:37:10.867059Z\n",
      "Beamformer running: True\n",
      "Keeping old channeliser rounding 4\n",
      "Expected signal peak: 55.15082379415765\n"
     ]
    }
   ],
   "source": [
    "t1.StopBeamformer()\n",
    "time.sleep(0.1)\n",
    "\n",
    "static_delays = t1.staticTimeDelays # modify the delays as specified\n",
    "\n",
    "beamformer_table = []  # Definition of beamformer regions. Flat array\n",
    "                       # hw_channel, nof_chans, hw_beam, subarray, log_channel, subarray_beam, substation, aperture\n",
    "beam_channels = []     # logical channels in each region. 2d array\n",
    "beam = 0\n",
    "logical_channel = 0\n",
    "for adc in input_adcs:\n",
    "    beamformer_table += [start_channel,nof_channels,beam,1,0,1,beam+1,101+beam]\n",
    "    beam_channels += [[logical_channel, (logical_channel+nof_channels)]]\n",
    "    logical_channel += nof_channels\n",
    "    static_delays[adc] = delays[beam]\n",
    "    beam += 1\n",
    "\n",
    "# Program beamformer and delays0\n",
    "t1.SetBeamformerRegions(beamformer_table)\n",
    "t1.staticTimeDelays = static_delays\n",
    "\n",
    "# Program beam calibration matrix to send a single antenna signal to each beam\n",
    "\n",
    "cal_gain = 2.0  # we are using just one antenna, raise the gain\n",
    "cal_matrix_even = [cal_gain, 0.0, cal_gain, 0.0, 0.0, 0.0, 0.0, 0.0]  # send Xpol to both\n",
    "cal_matrix_odd  = [0.0, 0.0, 0.0, 0.0, cal_gain, 0.0, cal_gain, 0.0]  # send Ypol to both\n",
    "\n",
    "# for each antenna the calibration coefficients are zero except for corresponding beam\n",
    "for antenna in range(ANTENNAS_PER_TPM):\n",
    "    # default: the antenna has zero weight in all beams if not used    \n",
    "    cal_coefs = [antenna*1.0] + [0.0, 0.0, 0.0, 0.0, 0.0, 0.0, 0.0, 0.0] * MAX_BEAMFORMED_CHANNELS\n",
    "    beam = 0\n",
    "    # loop over substations. Check whether the antenna is used in one of the beams/substations\n",
    "    for adc in input_adcs:\n",
    "        if adc // 2 == antenna:  # antenna is used. Check which polarization (odd/even ADC)\n",
    "            if adc & 1 == 0:\n",
    "                antenna_coefs = cal_matrix_even\n",
    "            else:\n",
    "                antenna_coefs = cal_matrix_odd\n",
    "                \n",
    "            # set weights (cal. matrix) for channels in this beam/substation        \n",
    "            for logical_channel in range(beam_channels[beam][0], beam_channels[beam][1]):\n",
    "                cal_element = logical_channel*8+1\n",
    "                cal_coefs[cal_element:cal_element+8] = antenna_coefs\n",
    "        beam += 1\n",
    "    # After all beams are checked, send resulting coefficients for this antenna     \n",
    "    t1.LoadCalibrationCoefficients(cal_coefs)\n",
    "        \n",
    "t1.ApplyCalibration(\"\")\n",
    "\n",
    "print(t1.fpgaframetime)\n",
    "start_time = datetime.strftime(datetime.fromtimestamp(time.time()+2), RFC_FORMAT)\n",
    "t1.StartBeamformer(json.dumps({\"start_time\": start_time}))\n",
    "time.sleep(2)\n",
    "print(f\"Beamformer running: {t1.isBeamformerRunning}\")\n",
    "#\n",
    "# Adjust channel rounding in order to have an expected peak value in the range \n",
    "# 50 to 110 units, for all the input power in a single channel.\n",
    "# chan_level is expected peak channel value for a sinusoidal tone with given ADC RMS \n",
    "# Use maximum measured broadband in specified ADCs. \n",
    "# Change rounding only if outside range.\n",
    "#\n",
    "PFB_GAIN = 80.5    # approx peak sinewave amplitude for a sinewave 1 ADU RMS\n",
    "REF_AMPL = 105.    # Safe value for max sinewave amplitude\n",
    "MAX_AMPL = 110.    # Max. and min. value for sinewave amplitude\n",
    "MIN_AMPL = 50.\n",
    "\n",
    "current_rounding = t1.channeliserRounding[0] & 0x7\n",
    "levels = t1.adcPower\n",
    "max_level = 0.0\n",
    "for adc in input_adcs:\n",
    "    if levels[adc] > max_level:\n",
    "        max_level = levels[adc]\n",
    "        \n",
    "chan_level = max_level * PFB_GAIN / 2**current_rounding\n",
    "if chan_level > MAX_AMPL or chan_level < MIN_AMPL:\n",
    "    rounding = int(np.ceil(np.log2(max_level*PFB_GAIN/REF_AMPL)))\n",
    "    if rounding <0:\n",
    "        rounding = 0\n",
    "    if rounding > 7: \n",
    "        rounding = 7\n",
    "    t1.channeliserRounding = [rounding]*512\n",
    "    print(f\"Adjust channeliser rounding to {rounding}\")\n",
    "else:\n",
    "    rounding = current_rounding\n",
    "    print(f\"Keeping old channeliser rounding {current_rounding}\")\n",
    "chan_level = max_level * 80. / 2**rounding\n",
    "print(f\"Expected signal peak: {chan_level}\")"
   ]
  },
  {
   "cell_type": "code",
   "execution_count": 40,
   "id": "2136954f-fcb4-40ec-a4d2-d868b3f1ee64",
   "metadata": {
    "tags": []
   },
   "outputs": [
    {
     "data": {
      "text/plain": [
       "[array([0], dtype=int32), ['SendDataSamples command completed OK']]"
      ]
     },
     "execution_count": 40,
     "metadata": {},
     "output_type": "execute_result"
    }
   ],
   "source": [
    "t1.senddatasamples(json.dumps({\"data_type\": \"beam\"}))"
   ]
  }
 ],
 "metadata": {
  "kernelspec": {
   "display_name": "jupyTango",
   "language": "python",
   "name": "jupytango"
  },
  "language_info": {
   "codemirror_mode": {
    "name": "ipython",
    "version": 3
   },
   "file_extension": ".py",
   "mimetype": "text/x-python",
   "name": "python",
   "nbconvert_exporter": "python",
   "pygments_lexer": "ipython3",
   "version": "3.10.6"
  }
 },
 "nbformat": 4,
 "nbformat_minor": 5
}
