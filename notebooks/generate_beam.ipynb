{
 "cells": [
  {
   "cell_type": "markdown",
   "id": "c61d2bd8-ef63-461d-acd5-b0a8f5f835e4",
   "metadata": {},
   "source": [
    "<b>Definitions</b>\n",
    "\n",
    "Define the used TANGO devices and constants.\n",
    "Change list of device proxies and \"devices\" and \"tiles\" to actually present and used tiles\n",
    "\n",
    "Put all devices Online. Tiles must be in Maintenance mode in order to use the test signal generator."
   ]
  },
  {
   "cell_type": "code",
   "execution_count": 1,
   "id": "417fae9e-5454-4414-922f-17ef9905c0d8",
   "metadata": {},
   "outputs": [],
   "source": [
    "import tango\n",
    "import time\n",
    "import json\n",
    "import numpy as np\n",
    "\n",
    "from ska_tango_base.commands import ResultCode\n",
    "from ska_tango_base.control_model import (\n",
    "    AdminMode,\n",
    "    CommunicationStatus,\n",
    "    HealthState,\n",
    "    PowerState,\n",
    "    SimulationMode,\n",
    "    TestMode,\n",
    ")\n",
    "# for time conversion\n",
    "from datetime import datetime,timezone\n",
    "RFC_FORMAT = \"%Y-%m-%dT%H:%M:%S.%fZ\"\n",
    "\n",
    "# define devices\n",
    "station = tango.DeviceProxy('low-mccs/station/001')\n",
    "subrack = tango.DeviceProxy('low-mccs/subrack/0001')\n",
    "t1 = tango.DeviceProxy('low-mccs/tile/0001')\n",
    "t2 = tango.DeviceProxy('low-mccs/tile/0002')\n",
    "t3 = tango.DeviceProxy('low-mccs/tile/0003')\n",
    "t4 = tango.DeviceProxy('low-mccs/tile/0004')\n",
    "t5 = tango.DeviceProxy('low-mccs/tile/0005')\n",
    "t6 = tango.DeviceProxy('low-mccs/tile/0006')\n",
    "t7 = tango.DeviceProxy('low-mccs/tile/0007')\n",
    "t8 = tango.DeviceProxy('low-mccs/tile/0008')\n",
    "\n",
    "station.logginglevel=5\n",
    "devices = [station, subrack, t1, t2, t3, t4, t5, t6, t7, t8]\n",
    "tiles = [t1, t4]\n",
    "\n",
    "# Put everything online\n",
    "for d in devices:\n",
    "    d.adminmode = AdminMode.ONLINE\n",
    "time.sleep(0.2)\n",
    "# \n",
    "# Tiles must be in Maintenance mode to allow test signal generator\n",
    "for t in tiles:\n",
    "    t.adminMode = AdminMode.MAINTENANCE"
   ]
  },
  {
   "cell_type": "markdown",
   "id": "436cc72d-de86-413a-bb59-443022b21afd",
   "metadata": {},
   "source": [
    "<b> Local parameters </b>\n",
    "<ul><li> csp_ingest_ip: IP address of the CSP ingest port</li>\n",
    "    <li> lmc_ip: IP address of the LMC DAQ system</li>\n",
    "    <li> input ADC: ADC input channel (0-31, 0-1 for antenna 1, 30-31 for antenna 16)</li>\n",
    "    <li> input_frequency: frequency of the input signal. Used to compute the beamformed channel</li></ul>\n",
    "The beamformer beamforms 8 channels starting at the first even channel equal or lower to this one"
   ]
  },
  {
   "cell_type": "code",
   "execution_count": 49,
   "id": "3f122fc7-496a-4e6d-bd78-cac339034194",
   "metadata": {},
   "outputs": [
    {
     "name": "stdout",
     "output_type": "stream",
     "text": [
      "Signal is on beamformed channel 0, corresponding to TPM channel 294\n"
     ]
    }
   ],
   "source": [
    "csp_ingest_ip = \"10.0.0.98\"\n",
    "lmc_ip = \"10.0.0.98\"\n",
    "input_adc = 8\n",
    "input_frequency = 230e6\n",
    "nof_channels = 8\n",
    "start_channel = int(round(input_frequency/800e6*1024))\n",
    "if start_channel % 2 == 0:\n",
    "    print(f\"Signal is on beamformed channel 0, corresponding to TPM channel {start_channel}\")\n",
    "else: \n",
    "    print(f\"Signal is on beamformed channel 1, corresponding to TPM channel {start_channel}\")\n",
    "    start_channel = start_channel -1"
   ]
  },
  {
   "cell_type": "markdown",
   "id": "ddc5ca78-a124-45b7-8e26-3b8834c4ac23",
   "metadata": {},
   "source": [
    "<b>Turn TPM on</b>\n",
    "<ul>\n",
    "    <li>Turn TPM on if not already on.</li>\n",
    "    <li>Wait for intialization if not already initialised</li> \n",
    "    <li>If initialisation succeeds <ul>\n",
    "        <li>perform initial setup</li>\n",
    "        <li>start the acquisition.</li></ul>\n",
    "    <li>Set destination IP addresses</li>\n",
    "    <li>At the end, print signal level on input ADCs</li></ul>"
   ]
  },
  {
   "cell_type": "code",
   "execution_count": 51,
   "id": "8be3dd74-9b2f-411b-97d0-3360fdfb1b92",
   "metadata": {},
   "outputs": [
    {
     "name": "stdout",
     "output_type": "stream",
     "text": [
      "0: Off\n",
      "2: Off\n",
      "4: Off\n",
      "6: Off\n",
      "8: Off\n",
      "10: Off\n",
      "12: Off\n",
      "14: Off\n",
      "16: Off\n",
      "18: Off\n",
      "20: Off\n",
      "22: NotProgrammed\n",
      "24: NotProgrammed\n",
      "26: NotProgrammed\n",
      "28: NotProgrammed\n",
      "30: Programmed\n",
      "32: Programmed\n",
      "34: Programmed\n",
      "36: Programmed\n",
      "38: Programmed\n",
      "40: Programmed\n",
      "42: Programmed\n",
      "44: Programmed\n",
      "46: Programmed\n",
      "48: Programmed\n",
      "2023-03-27T20:12:58.353093Z: Tile is in state Synchronised\n",
      "Input levels: [0.86762496 0.999998   0.91489422 0.999962   0.99534705 0.99889736\n",
      " 0.98399345 0.999998   2.77278187 0.99175175 2.79982062 0.999998\n",
      " 2.68401522 0.9987652  2.76492858 0.99984998 0.99545555 0.99952187\n",
      " 0.5679657  0.97687395 0.93411371 0.99987799 0.99915762 0.99856092\n",
      " 2.73375369 0.98354618 2.72180959 0.99986199 2.68047331 0.99989799\n",
      " 2.78843212 0.999998  ]\n"
     ]
    }
   ],
   "source": [
    "t1.on()\n",
    "t = 0\n",
    "while not t1.tileprogrammingstate in ['Initialised', 'Synchronised']:\n",
    "    print(f\"{t}: {t1.tileprogrammingstate}\")\n",
    "    time.sleep(2)\n",
    "    t = t + 2\n",
    "    if t > 60:\n",
    "        break\n",
    "if t > 60:\n",
    "    print(\"Initialisation failed\")\n",
    "elif t1.tileprogrammingstate == 'Initialised':\n",
    "    t1.ConfigureStationBeamformer(json.dumps({\n",
    "        \"start_channel\": 192,\n",
    "        \"n_channels\": 8,\n",
    "        \"is_first\": True,\n",
    "        \"is_last\": True,\n",
    "    }))\n",
    "    t1.statictimedelays=np.zeros([32],dtype=int)\n",
    "    t1.channeliserRounding=[4]*512\n",
    "    t1.cspRounding=[0]*384\n",
    "    start_time = datetime.strftime(datetime.fromtimestamp(int(time.time())+3), RFC_FORMAT)\n",
    "    t1.StartAcquisition(json.dumps({\"start_time\": start_time}))\n",
    "    time.sleep(3)\n",
    "t1.SetLmcDownload(json.dumps({\"destination_ip\": lmc_ip, \"mode\": \"10g\"}))\n",
    "t1.SetLmcIntegratedDownload(json.dumps({\"destination_ip\": lmc_ip, \"mode\": \"10g\"}))\n",
    "t1.Configure40GCore(json.dumps({\"core_id\": 0, \"arp_table_entry\": 0, \"destination_ip\": csp_ingest_ip}))\n",
    "t1.Configure40GCore(json.dumps({\"core_id\": 1, \"arp_table_entry\": 0, \"destination_ip\": csp_ingest_ip}))\n",
    "print(f\"{t1.fpgaframetime}: Tile is in state {t1.tileprogrammingstate}\")\n",
    "print(f\"Input levels: {t1.adcPower}\")"
   ]
  },
  {
   "cell_type": "markdown",
   "id": "b537452d-8b30-4a6f-ad1b-ec484a2a56a6",
   "metadata": {},
   "source": [
    "Program te test generator to produce null samples except for selected input.\n",
    "Input ADC can be identified from adcPower attribute above.\n",
    "Then start the generator."
   ]
  },
  {
   "cell_type": "code",
   "execution_count": 52,
   "id": "400fe37e-1ea7-467d-ad8d-e7d745e4b7f7",
   "metadata": {},
   "outputs": [
    {
     "name": "stdout",
     "output_type": "stream",
     "text": [
      "2023-03-27T20:13:17.864840Z\n",
      "Beamformer running: True\n"
     ]
    }
   ],
   "source": [
    "print(t1.fpgaframetime)\n",
    "channels = list(range(32))\n",
    "channels.remove(input_adc)\n",
    "start_time = datetime.strftime(datetime.fromtimestamp(time.time()+2), RFC_FORMAT)\n",
    "arguments = json.dumps({\n",
    "    'tone_frequency': 100.06e6, \n",
    "    'tone_amplitude': 0.0, \n",
    "    'adc_channels': channels,\n",
    "    'set_time': start_time})\n",
    "t1.ConfigureTestGenerator(arguments)\n",
    "t1.SetBeamformerRegions([start_channel,nof_channels,0,1,0,0,0,0])\n",
    "t1.StartBeamformer(json.dumps({\"start_time\": start_time}))\n",
    "time.sleep(2)\n",
    "print(f\"Beamformer running: {t1.isBeamformerRunning}\")"
   ]
  },
  {
   "cell_type": "code",
   "execution_count": 53,
   "id": "4b2d39a8-94e8-4eb0-add4-3d43fa25b1e5",
   "metadata": {},
   "outputs": [
    {
     "data": {
      "text/plain": [
       "[array([0], dtype=int32), ['SendDataSamples command completed OK']]"
      ]
     },
     "execution_count": 53,
     "metadata": {},
     "output_type": "execute_result"
    }
   ],
   "source": [
    "t1.senddatasamples(json.dumps({\"data_type\": \"beam\"}))"
   ]
  },
  {
   "cell_type": "code",
   "execution_count": 48,
   "id": "0b118e73-b20c-4de2-b194-a6f3dd55fe0c",
   "metadata": {},
   "outputs": [
    {
     "data": {
      "text/plain": [
       "[array([2], dtype=int32), ['1679947863.7298675_270892651940524_Off']]"
      ]
     },
     "execution_count": 48,
     "metadata": {},
     "output_type": "execute_result"
    }
   ],
   "source": [
    "t1.off()\n"
   ]
  }
 ],
 "metadata": {
  "kernelspec": {
   "display_name": "jupyTango",
   "language": "python",
   "name": "jupytango"
  },
  "language_info": {
   "codemirror_mode": {
    "name": "ipython",
    "version": 3
   },
   "file_extension": ".py",
   "mimetype": "text/x-python",
   "name": "python",
   "nbconvert_exporter": "python",
   "pygments_lexer": "ipython3",
   "version": "3.10.6"
  }
 },
 "nbformat": 4,
 "nbformat_minor": 5
}
