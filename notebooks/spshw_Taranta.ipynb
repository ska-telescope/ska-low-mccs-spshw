{
 "cells": [
  {
   "cell_type": "code",
   "execution_count": 1,
   "id": "a1cbf3ae-ab69-453f-b35f-963917b8d223",
   "metadata": {},
   "outputs": [],
   "source": [
    "import tango;import json;import time"
   ]
  },
  {
   "cell_type": "code",
   "execution_count": 2,
   "id": "d8320837-9b88-4f24-b75f-a37d5373cb81",
   "metadata": {},
   "outputs": [],
   "source": [
    "tpm1=tango.DeviceProxy('low-mccs-spshw/tile/0010');\n",
    "tpm2=tango.DeviceProxy('low-mccs-spshw/tile/0013');\n",
    "tpm3=tango.DeviceProxy('low-mccs-spshw/tile/0001');"
   ]
  },
  {
   "cell_type": "code",
   "execution_count": 6,
   "id": "04346bc9-bcd7-46a7-9e3d-a763f9b2a5f1",
   "metadata": {},
   "outputs": [],
   "source": [
    "sr=tango.DeviceProxy('low-mccs-spshw/subrack/0001');"
   ]
  },
  {
   "cell_type": "code",
   "execution_count": 8,
   "id": "13469fbe-cf38-41f3-acaf-291bff229d2e",
   "metadata": {},
   "outputs": [
    {
     "data": {
      "text/plain": [
       "[array([2], dtype=int32), ['1674114515.3253214_28259935135866_On']]"
      ]
     },
     "execution_count": 8,
     "metadata": {},
     "output_type": "execute_result"
    }
   ],
   "source": [
    "sr.simulationMode=1;\n",
    "tpm1.simulationMode=1;\n",
    "tpm2.simulationMode=1;\n",
    "tpm3.simulationmode=1;\n",
    "sr.adminMode=0 ;\n",
    "tpm1.adminMode=0;\n",
    "tpm2.adminMode=0;\n",
    "tpm3.adminmode=0;\n",
    "sr.On()"
   ]
  },
  {
   "cell_type": "code",
   "execution_count": 9,
   "id": "b63decf8-962e-4f2e-9bbb-b430bee067e5",
   "metadata": {},
   "outputs": [
    {
     "data": {
      "text/plain": [
       "['buildState', 'versionId', 'loggingLevel', 'loggingTargets', 'healthState', 'adminMode', 'controlMode', 'simulationMode', 'testMode', 'longRunningCommandsInQueue', 'longRunningCommandIDsInQueue', 'longRunningCommandStatus', 'longRunningCommandProgress', 'longRunningCommandResult', 'backplaneTemperatures', 'boardTemperatures', 'boardCurrent', 'subrackFanSpeeds', 'subrackFanSpeedsPercent', 'subrackFanMode', 'tpmPresent', 'tpmSupplyFault', 'tpmTemperatures', 'tpmPowers', 'tpmVoltages', 'tpmCurrents', 'tpmCount', 'tpm1PowerState', 'tpm2PowerState', 'tpm3PowerState', 'tpm4PowerState', 'tpm5PowerState', 'tpm6PowerState', 'tpm7PowerState', 'tpm8PowerState', 'powerSupplyFanSpeeds', 'powerSupplyCurrents', 'powerSupplyPowers', 'powerSupplyVoltages', 'State', 'Status']"
      ]
     },
     "execution_count": 9,
     "metadata": {},
     "output_type": "execute_result"
    }
   ],
   "source": [
    "sr.get_attribute_list()"
   ]
  },
  {
   "cell_type": "code",
   "execution_count": 10,
   "id": "d78d1023-b748-4298-81f2-e42bab97471a",
   "metadata": {},
   "outputs": [
    {
     "data": {
      "text/plain": [
       "[array([2], dtype=int32), ['1674114555.4573176_147649150168998_On']]"
      ]
     },
     "execution_count": 10,
     "metadata": {},
     "output_type": "execute_result"
    }
   ],
   "source": [
    "tpm1.On();tpm2.On()"
   ]
  },
  {
   "cell_type": "code",
   "execution_count": 11,
   "id": "f4e8c56c-d600-413f-bbf6-fceba96ff62a",
   "metadata": {},
   "outputs": [
    {
     "data": {
      "text/plain": [
       "tango._tango.DevState.ON"
      ]
     },
     "execution_count": 11,
     "metadata": {},
     "output_type": "execute_result"
    }
   ],
   "source": [
    "tpm2.state()"
   ]
  },
  {
   "cell_type": "code",
   "execution_count": 12,
   "id": "30532a94-4693-48f1-9d3a-d20182905da2",
   "metadata": {},
   "outputs": [
    {
     "data": {
      "text/plain": [
       "tango._tango.DevState.ON"
      ]
     },
     "execution_count": 12,
     "metadata": {},
     "output_type": "execute_result"
    }
   ],
   "source": [
    "tpm1.state()"
   ]
  },
  {
   "cell_type": "code",
   "execution_count": 13,
   "id": "73fdd9e5-aa5b-4b39-af41-b63124fe1268",
   "metadata": {},
   "outputs": [
    {
     "data": {
      "text/plain": [
       "['buildState', 'versionId', 'loggingLevel', 'loggingTargets', 'healthState', 'adminMode', 'controlMode', 'simulationMode', 'testMode', 'longRunningCommandsInQueue', 'longRunningCommandIDsInQueue', 'longRunningCommandStatus', 'longRunningCommandProgress', 'longRunningCommandResult', 'cspDestinationIp', 'cspDestinationMac', 'cspDestinationPort', 'logicalTileId', 'tileProgrammingState', 'stationId', 'firmwareName', 'firmwareVersion', 'voltage', 'isProgrammed', 'boardTemperature', 'fpga1Temperature', 'fpga2Temperature', 'fpgasUnixTime', 'fpgaTime', 'fpgaReferenceTime', 'fpgaFrameTime', 'antennaIds', 'fortyGbDestinationIps', 'fortyGbDestinationPorts', 'adcPower', 'currentTileBeamformerFrame', 'currentFrame', 'pendingDataRequests', 'isBeamformerRunning', 'phaseTerminalCount', 'ppsDelay', 'testGeneratorActive', 'ppsPresent', 'clockPresent', 'sysrefPresent', 'pllLocked', 'channeliserRounding', 'staticTimeDelays', 'cspRounding', 'preaduLevels', 'beamformerTable', 'State', 'Status']"
      ]
     },
     "execution_count": 13,
     "metadata": {},
     "output_type": "execute_result"
    }
   ],
   "source": [
    "tpm1.get_attribute_list()"
   ]
  },
  {
   "cell_type": "code",
   "execution_count": 14,
   "id": "fcc983f5-af69-4ba4-8216-bf3fa4ced967",
   "metadata": {},
   "outputs": [
    {
     "data": {
      "text/plain": [
       "'Initialised'"
      ]
     },
     "execution_count": 14,
     "metadata": {},
     "output_type": "execute_result"
    }
   ],
   "source": [
    "tpm1.tileprogrammingstate"
   ]
  },
  {
   "cell_type": "code",
   "execution_count": 15,
   "id": "7d8bee59-2ec8-474b-a204-5e92ba150366",
   "metadata": {},
   "outputs": [
    {
     "data": {
      "text/plain": [
       "True"
      ]
     },
     "execution_count": 15,
     "metadata": {},
     "output_type": "execute_result"
    }
   ],
   "source": [
    "tpm1.isprogrammed"
   ]
  },
  {
   "cell_type": "code",
   "execution_count": 16,
   "id": "6ea8b8ab-c487-426d-bd53-236c59d8da47",
   "metadata": {},
   "outputs": [
    {
     "data": {
      "text/plain": [
       "'Initialised'"
      ]
     },
     "execution_count": 16,
     "metadata": {},
     "output_type": "execute_result"
    }
   ],
   "source": [
    "tpm2.tileprogrammingstate"
   ]
  },
  {
   "cell_type": "code",
   "execution_count": 17,
   "id": "6bc0c498-cd61-42b9-98d6-57d5eb152d46",
   "metadata": {},
   "outputs": [
    {
     "data": {
      "text/plain": [
       "True"
      ]
     },
     "execution_count": 17,
     "metadata": {},
     "output_type": "execute_result"
    }
   ],
   "source": [
    "tpm1.isprogrammed"
   ]
  },
  {
   "cell_type": "code",
   "execution_count": 18,
   "id": "67853248-4266-41a2-983a-a27c5f27a819",
   "metadata": {},
   "outputs": [
    {
     "data": {
      "text/plain": [
       "'The device is in ON state.'"
      ]
     },
     "execution_count": 18,
     "metadata": {},
     "output_type": "execute_result"
    }
   ],
   "source": [
    "tpm1.status()"
   ]
  },
  {
   "cell_type": "code",
   "execution_count": 19,
   "id": "b5e6a31d-7851-4752-812f-decd60532c1f",
   "metadata": {},
   "outputs": [
    {
     "data": {
      "text/plain": [
       "'The device is in ON state.'"
      ]
     },
     "execution_count": 19,
     "metadata": {},
     "output_type": "execute_result"
    }
   ],
   "source": [
    "tpm2.status()"
   ]
  },
  {
   "cell_type": "code",
   "execution_count": null,
   "id": "666b2d89-d676-42a3-a357-3add583d378d",
   "metadata": {},
   "outputs": [],
   "source": []
  }
 ],
 "metadata": {
  "kernelspec": {
   "display_name": "jupyTango",
   "language": "python",
   "name": "jupytango"
  },
  "language_info": {
   "codemirror_mode": {
    "name": "ipython",
    "version": 3
   },
   "file_extension": ".py",
   "mimetype": "text/x-python",
   "name": "python",
   "nbconvert_exporter": "python",
   "pygments_lexer": "ipython3",
   "version": "3.10.6"
  }
 },
 "nbformat": 4,
 "nbformat_minor": 5
}
