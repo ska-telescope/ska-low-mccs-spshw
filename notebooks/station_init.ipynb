{
 "cells": [
  {
   "cell_type": "code",
   "execution_count": 1,
   "id": "7a21f98b-b1e7-4be4-991d-7c8c98c1b06e",
   "metadata": {
    "tags": []
   },
   "outputs": [],
   "source": [
    "#\n",
    "# Test of station initialisation\n",
    "#\n",
    "import tango\n",
    "import time\n",
    "import json\n",
    "import numpy as np\n",
    "\n",
    "from ska_tango_base.commands import ResultCode\n",
    "from ska_tango_base.control_model import HealthState\n",
    "# for time conversion\n",
    "from datetime import datetime,timezone\n",
    "RFC_FORMAT = \"%Y-%m-%dT%H:%M:%S.%fZ\"\n",
    "\n",
    "# define devices\n",
    "station = tango.DeviceProxy('low-mccs/station/001')\n",
    "subrack = tango.DeviceProxy('low-mccs/subrack/0001')\n",
    "t1 = tango.DeviceProxy('low-mccs/tile/0001')\n",
    "# t2 = tango.DeviceProxy('low-mccs/tile/0002')\n",
    "# t3 = tango.DeviceProxy('low-mccs/tile/0003')\n",
    "t4 = tango.DeviceProxy('low-mccs/tile/0004')\n",
    "# t5 = tango.DeviceProxy('low-mccs/tile/0005')\n",
    "# t6 = tango.DeviceProxy('low-mccs/tile/0006')\n",
    "# t7 = tango.DeviceProxy('low-mccs/tile/0007')\n",
    "# t8 = tango.DeviceProxy('low-mccs/tile/0008')\n",
    "\n",
    "station.logginglevel=5\n",
    "devices = [station, subrack, t1, t4, ]\n"
   ]
  },
  {
   "cell_type": "code",
   "execution_count": 2,
   "id": "8325613f-87b2-4761-8957-9577e40939f7",
   "metadata": {
    "tags": []
   },
   "outputs": [],
   "source": [
    "# Put everything online\n",
    "for d in devices:\n",
    "    d.adminmode = 0\n",
    "time.sleep(0.2)\n",
    "station.standby()\n",
    "time.sleep(5)"
   ]
  },
  {
   "cell_type": "code",
   "execution_count": 3,
   "id": "7ef67c2c-b48e-4249-b300-df1253f400af",
   "metadata": {
    "tags": []
   },
   "outputs": [
    {
     "name": "stdout",
     "output_type": "stream",
     "text": [
      "The device is in STANDBY state.\n",
      "[[128   0   1   0   0   0   0]]\n"
     ]
    }
   ],
   "source": [
    "print(station.status())\n",
    "# define static attributes for initialisation\n",
    "t1.logginglevel=5\n",
    "station.SetBeamformerTable([128,0,1,0,0,0,0])\n",
    "print(station.beamformertable.reshape(-1,7))\n",
    "station.statictimedelays=list(range(32))*16\n",
    "# print(station.statictimedelays.reshape(-1,32))\n",
    "station.preaduLevels=list(range(32))*16\n",
    "# print(station.preaduLevels.reshape(-1,32))\n",
    "station.channeliserRounding=[4]*512\n",
    "station.cspRounding=[5]*384\n",
    "station.SetLmcDownload('{\"destination_ip\": \"10.0.0.98\", \"mode\": \"40g\"}')\n",
    "#station.SetLmcIntegratedDownload('{\"destination_ip\": \"10.0.0.98\", \"mode\": \"40g\"}')\n",
    "station.SetCspIngest('{\"destination_ip\": \"10.0.0.98\"}')\n",
    "time.sleep(0.1)\n",
    "t1.logginglevel=3"
   ]
  },
  {
   "cell_type": "code",
   "execution_count": 15,
   "id": "13075acc-efc0-41b4-8674-a412c15ec6f1",
   "metadata": {
    "tags": []
   },
   "outputs": [
    {
     "name": "stdout",
     "output_type": "stream",
     "text": [
      "t=2: subrack: The device is in ON state.\n",
      "t=16: state = ('NotProgrammed', 'NotProgrammed')\n",
      "t=24: state = ('Programmed', 'Programmed')\n",
      "t=44: state = ('Initialised', 'Initialised')\n",
      "t=44: Station initialized\n"
     ]
    }
   ],
   "source": [
    "# turn station on\n",
    "t1.logginglevel=5\n",
    "t4.logginglevel=5\n",
    "station.on()\n",
    "state = station.tileprogrammingstate\n",
    "tm = 0\n",
    "init = False\n",
    "for t in range (30):\n",
    "    time.sleep(2)\n",
    "    tm = tm + 2\n",
    "    print(f't={tm}: subrack: {subrack.status()}')\n",
    "    if subrack.state() == tango._tango.DevState.ON:\n",
    "        break\n",
    "for t in range(30):\n",
    "    time.sleep(2)\n",
    "    tm = tm + 2\n",
    "    s_new = station.tileprogrammingstate\n",
    "    if s_new != state:\n",
    "        print(f't={tm}: state = {s_new}')\n",
    "        state = s_new\n",
    "    if all(s == 'Initialised' for s in state):\n",
    "        init = True\n",
    "        break\n",
    "if init:\n",
    "    print(f't={tm}: Station initialized')\n",
    "else:\n",
    "    print(f't={tm}: Timeout during intialisation')\n",
    "time.sleep(3)\n",
    "t1.logginglevel=3\n",
    "t4.logginglevel=3"
   ]
  },
  {
   "cell_type": "code",
   "execution_count": 16,
   "id": "7b66d9ed-10ac-4673-b600-5b8af0cc7f95",
   "metadata": {},
   "outputs": [
    {
     "name": "stdout",
     "output_type": "stream",
     "text": [
      "Tile time: 2023-02-26T22:08:30.000000Z - Sync time: 2023-02-26T22:08:34.000000Z\n",
      "Programmed Sync time: 2106-02-07T06:28:15.000000Z\n",
      "time:2023-02-26T22:08:31.895669Z pps time:2023-02-26T22:08:31.000000Z frame time:2106-02-07T06:28:15.000000Z\n",
      "Current: 1677449311 - Start: 1677449314 difference: -3 frame time:2106-02-07T06:28:15.000000Z\n",
      "Current: 1677449312 - Start: 1677449314 difference: -2 frame time:2106-02-07T06:28:15.000000Z\n",
      "Current: 1677449313 - Start: 1677449314 difference: -1 frame time:2106-02-07T06:28:15.000000Z\n",
      "Current: 1677449314 - Start: 1677449314 difference: 0 frame time:2106-02-07T06:28:15.765573Z\n",
      "Current: 1677449315 - Start: 1677449314 difference: 1 frame time:2106-02-07T06:28:16.781361Z\n",
      "time:2023-02-26T22:08:35.975348Z pps time:2023-02-26T22:08:35.000000Z frame time:2106-02-07T06:28:16.783296Z\n",
      "t=49: state = ('Synchronised', 'Synchronised')\n"
     ]
    }
   ],
   "source": [
    "t1.logginglevel=5\n",
    "start_time = datetime.strftime(datetime.fromtimestamp(int(time.time())+4), RFC_FORMAT)\n",
    "station.StartAcquisition(json.dumps({\n",
    "  \"start_time\": start_time}))\n",
    "print(f'Tile time: {t1.fpgatime} - Sync time: {start_time}')\n",
    "print(f'Programmed Sync time: {t1.fpgareferencetime}')\n",
    "time.sleep(1)\n",
    "# check that synchronization worked\n",
    "for t in range (1):\n",
    "    tm1 = datetime.strftime(datetime.fromtimestamp(time.time()), RFC_FORMAT)\n",
    "    tm2 = t1.fpgatime\n",
    "    tm3 = t1.fpgaframetime\n",
    "    print(f'time:{tm1} pps time:{tm2} frame time:{tm3}')\n",
    "    #time.sleep(2)\n",
    "for i in range(30):\n",
    "    tm = tm + 1\n",
    "    cur_time=int(t1.readregister('fpga1.pps_manager.curr_time_read_val')[0])\n",
    "    start_time=int(t1.readregister('fpga1.pps_manager.sync_time_val')[0])\n",
    "    print(f'Current: {cur_time} - Start: {start_time} difference: {cur_time-start_time} frame time:{t1.fpgaframetime}')\n",
    "    if cur_time > start_time:\n",
    "        break\n",
    "    time.sleep(1)\n",
    "\n",
    "tm1 = datetime.strftime(datetime.fromtimestamp(time.time()), RFC_FORMAT)\n",
    "tm2 = t1.fpgatime\n",
    "tm3 = t1.fpgaframetime\n",
    "print(f'time:{tm1} pps time:{tm2} frame time:{tm3}')\n",
    "print(f't={tm}: state = {station.tileprogrammingstate}')\n",
    "t1.logginglevel=3"
   ]
  },
  {
   "cell_type": "code",
   "execution_count": 17,
   "id": "d2dcef22-8827-4dc3-9de9-9a16626a45d5",
   "metadata": {},
   "outputs": [
    {
     "name": "stdout",
     "output_type": "stream",
     "text": [
      "Configuration of beamformer 40g ports\n",
      "TPM 1: 10.0.0.152:61648 -> 10.0.0.154:4660   MAC:0x62000a000098\n",
      "       10.0.0.153:61648 -> 10.0.0.155:4660   MAC:0x62000a000099\n",
      "TPM 4: 10.0.0.154:61648 -> 10.0.0.98:4660   MAC:0x62000a00009a\n",
      "       10.0.0.155:61648 -> 10.0.0.98:4660   MAC:0x62000a00009b\n"
     ]
    }
   ],
   "source": [
    "# Show chainig of tile IPs\n",
    "core1_config = json.loads(t1.get40gcoreconfiguration(json.dumps({'core_id': 0, 'arp_table_entry': 0})))\n",
    "core2_config = json.loads(t1.get40gcoreconfiguration(json.dumps({'core_id': 1, 'arp_table_entry': 0})))\n",
    "print(f'Configuration of beamformer 40g ports')\n",
    "print(f\"TPM 1: {core1_config['source_ip']}:{core1_config['source_port']} -> \"\n",
    "      f\"{core1_config['destination_ip']}:{core1_config['destination_port']}\"\n",
    "      f\"   MAC:{hex(core1_config['source_mac'])}\")\n",
    "print(f\"       {core2_config['source_ip']}:{core2_config['source_port']} -> \"\n",
    "      f\"{core2_config['destination_ip']}:{core2_config['destination_port']}\"\n",
    "      f\"   MAC:{hex(core2_config['source_mac'])}\")\n",
    "core1_config = json.loads(t4.get40gcoreconfiguration(json.dumps({'core_id': 0, 'arp_table_entry': 0})))\n",
    "core2_config = json.loads(t4.get40gcoreconfiguration(json.dumps({'core_id': 1, 'arp_table_entry': 0})))\n",
    "print(f\"TPM 4: {core1_config['source_ip']}:{core1_config['source_port']} -> \"\n",
    "      f\"{core1_config['destination_ip']}:{core1_config['destination_port']}\"\n",
    "      f\"   MAC:{hex(core1_config['source_mac'])}\")\n",
    "print(f\"       {core2_config['source_ip']}:{core2_config['source_port']} -> \"\n",
    "      f\"{core2_config['destination_ip']}:{core2_config['destination_port']}\"\n",
    "      f\"   MAC:{hex(core2_config['source_mac'])}\")\n"
   ]
  },
  {
   "cell_type": "code",
   "execution_count": 18,
   "id": "c0b026ac-0a59-49ff-b5ea-cd06441c8f9a",
   "metadata": {},
   "outputs": [
    {
     "name": "stdout",
     "output_type": "stream",
     "text": [
      "Configuration of LMC 40G port\n",
      "TPM1: Core 1: 10.0.0.152:61648 -> 10.0.0.98:4660\n",
      "      Core 2: 10.0.0.153:61648 -> 10.0.0.98:4660\n",
      "TPM4: Core 1: 10.0.0.154:61648 -> 10.0.0.98:4660\n",
      "      Core 2: 10.0.0.155:61648 -> 10.0.0.98:4660\n"
     ]
    }
   ],
   "source": [
    "# Show LMC IPs \n",
    "core1_config = json.loads(t1.get40gcoreconfiguration(json.dumps({'core_id': 0, 'arp_table_entry': 1})))\n",
    "core2_config = json.loads(t1.get40gcoreconfiguration(json.dumps({'core_id': 1, 'arp_table_entry': 1})))\n",
    "print('Configuration of LMC 40G port')\n",
    "print(f\"TPM1: Core 1: {core1_config['source_ip']}:{core1_config['source_port']} -> \"\n",
    "      f\"{core1_config['destination_ip']}:{core1_config['destination_port']}\")\n",
    "print(f\"      Core 2: {core2_config['source_ip']}:{core2_config['source_port']} -> \"\n",
    "      f\"{core2_config['destination_ip']}:{core2_config['destination_port']}\")\n",
    "core1_config = json.loads(t4.get40gcoreconfiguration(json.dumps({'core_id': 0, 'arp_table_entry': 1})))\n",
    "core2_config = json.loads(t4.get40gcoreconfiguration(json.dumps({'core_id': 1, 'arp_table_entry': 1})))\n",
    "print(f\"TPM4: Core 1: {core1_config['source_ip']}:{core1_config['source_port']} -> \"\n",
    "      f\"{core1_config['destination_ip']}:{core1_config['destination_port']}\")\n",
    "print(f\"      Core 2: {core2_config['source_ip']}:{core2_config['source_port']} -> \"\n",
    "      f\"{core2_config['destination_ip']}:{core2_config['destination_port']}\")"
   ]
  },
  {
   "cell_type": "code",
   "execution_count": 19,
   "id": "bd61df43-4ac4-4f61-9618-6362917856b5",
   "metadata": {},
   "outputs": [
    {
     "name": "stdout",
     "output_type": "stream",
     "text": [
      "Beamformer table: [[128   0   1   0   0   0   0]]\n",
      "Static delays: [[ 0.    1.25  2.5   2.5   3.75  5.    6.25  7.5   7.5   8.75 10.   11.25\n",
      "  12.5  12.5  13.75 15.   16.25 17.5  17.5  18.75 20.   21.25 22.5  22.5\n",
      "  23.75 25.   26.25 27.5  27.5  28.75 30.   31.25]]\n",
      "Preadu levels: [[0 0 0 0 0 0 0 0 0 0 0 0 0 0 0 0 0 0 0 0 0 0 0 0 0 0 0 0 0 0 0 0]]\n",
      "Channeliser rounding: 3\n",
      "CSP rounding: 5\n",
      "ARP table: {\"0\": [0, 1], \"1\": [0, 1]}\n"
     ]
    }
   ],
   "source": [
    "print(f'Beamformer table: {t1.beamformertable.reshape(-1,7)}')\n",
    "print(f'Static delays: {t1.statictimedelays.reshape(-1,32)}')\n",
    "print(f'Preadu levels: {t1.preaduLevels.reshape(-1,32)}')\n",
    "print(f'Channeliser rounding: {t1.channeliserRounding[0]}')\n",
    "print(f'CSP rounding: {t4.cspRounding[0]}')\n",
    "print(f'ARP table: {t1.getArpTable()}')"
   ]
  },
  {
   "cell_type": "code",
   "execution_count": 23,
   "id": "e0f48db5-32f6-400c-a8ca-51c59e441523",
   "metadata": {},
   "outputs": [
    {
     "data": {
      "text/plain": [
       "[array([0], dtype=int32), ['SendDataSamples command completed OK']]"
      ]
     },
     "execution_count": 23,
     "metadata": {},
     "output_type": "execute_result"
    }
   ],
   "source": [
    "station.SendDataSamples(json.dumps({'data_type': 'raw'}))"
   ]
  },
  {
   "cell_type": "code",
   "execution_count": 24,
   "id": "89eeb19b-ffdb-4506-b198-09099d5d2eb0",
   "metadata": {},
   "outputs": [
    {
     "data": {
      "text/plain": [
       "[array([0], dtype=int32), ['SendDataSamples command completed OK']]"
      ]
     },
     "execution_count": 24,
     "metadata": {},
     "output_type": "execute_result"
    }
   ],
   "source": [
    "station.SendDataSamples(json.dumps({'data_type': 'channel'}))"
   ]
  },
  {
   "cell_type": "code",
   "execution_count": 25,
   "id": "ddfcac19-01e8-4afd-ba6d-410a5dcdcf4e",
   "metadata": {
    "tags": []
   },
   "outputs": [
    {
     "data": {
      "text/plain": [
       "[array([2], dtype=int32), ['1677450372.0711076_116821448308244_Standby']]"
      ]
     },
     "execution_count": 25,
     "metadata": {},
     "output_type": "execute_result"
    }
   ],
   "source": [
    "station.standby()"
   ]
  }
 ],
 "metadata": {
  "kernelspec": {
   "display_name": "jupyTango",
   "language": "python",
   "name": "jupytango"
  },
  "language_info": {
   "codemirror_mode": {
    "name": "ipython",
    "version": 3
   },
   "file_extension": ".py",
   "mimetype": "text/x-python",
   "name": "python",
   "nbconvert_exporter": "python",
   "pygments_lexer": "ipython3",
   "version": "3.10.6"
  }
 },
 "nbformat": 4,
 "nbformat_minor": 5
}
