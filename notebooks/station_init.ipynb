{
 "cells": [
  {
   "cell_type": "code",
   "execution_count": 1,
   "id": "7a21f98b-b1e7-4be4-991d-7c8c98c1b06e",
   "metadata": {
    "tags": []
   },
   "outputs": [],
   "source": [
    "#\n",
    "# Test of station initialisation\n",
    "#\n",
    "import tango\n",
    "import time\n",
    "import json\n",
    "import numpy as np\n",
    "\n",
    "from ska_tango_base.commands import ResultCode\n",
    "from ska_tango_base.control_model import HealthState\n",
    "# for time conversion\n",
    "from datetime import datetime,timezone\n",
    "RFC_FORMAT = \"%Y-%m-%dT%H:%M:%S.%fZ\"\n",
    "\n",
    "# define devices\n",
    "station = tango.DeviceProxy('low-mccs/station/001')\n",
    "subrack = tango.DeviceProxy('low-mccs/subrack/0001')\n",
    "t1 = tango.DeviceProxy('low-mccs/tile/0001')\n",
    "# t2 = tango.DeviceProxy('low-mccs/tile/0002')\n",
    "# t3 = tango.DeviceProxy('low-mccs/tile/0003')\n",
    "t4 = tango.DeviceProxy('low-mccs/tile/0004')\n",
    "# t5 = tango.DeviceProxy('low-mccs/tile/0005')\n",
    "# t6 = tango.DeviceProxy('low-mccs/tile/0006')\n",
    "# t7 = tango.DeviceProxy('low-mccs/tile/0007')\n",
    "# t8 = tango.DeviceProxy('low-mccs/tile/0008')\n",
    "\n",
    "station.logginglevel=5\n",
    "devices = [station, subrack, t1, t4, ]\n"
   ]
  },
  {
   "cell_type": "code",
   "execution_count": 8,
   "id": "8325613f-87b2-4761-8957-9577e40939f7",
   "metadata": {
    "tags": []
   },
   "outputs": [],
   "source": [
    "# Put everything online\n",
    "for d in devices[0:2]:\n",
    "    d.adminmode = 0\n",
    "time.sleep(0.2)\n",
    "station.standby()\n",
    "time.sleep(5)"
   ]
  },
  {
   "cell_type": "code",
   "execution_count": 9,
   "id": "c944b818-57f3-44ce-b4da-31992786e7e9",
   "metadata": {},
   "outputs": [],
   "source": [
    "t1.adminmode=0"
   ]
  },
  {
   "cell_type": "code",
   "execution_count": 10,
   "id": "b287c740-78a9-4d86-ba3b-547e5033cbd6",
   "metadata": {},
   "outputs": [],
   "source": [
    "t4.adminmode=0"
   ]
  },
  {
   "cell_type": "code",
   "execution_count": 11,
   "id": "7ef67c2c-b48e-4249-b300-df1253f400af",
   "metadata": {
    "tags": []
   },
   "outputs": [
    {
     "name": "stdout",
     "output_type": "stream",
     "text": [
      "The device is in STANDBY state.\n",
      "[[128   0   1   0   0   0   0]]\n"
     ]
    }
   ],
   "source": [
    "print(station.status())\n",
    "# define static attributes for initialisation\n",
    "t1.logginglevel=5\n",
    "station.SetBeamformerTable([128,0,1,0,0,0,0])\n",
    "print(station.beamformertable.reshape(-1,7))\n",
    "station.statictimedelays=list(range(32))*16\n",
    "# print(station.statictimedelays.reshape(-1,32))\n",
    "station.preaduLevels=list(range(32))*16\n",
    "# print(station.preaduLevels.reshape(-1,32))\n",
    "station.channeliserRounding=[4]*512\n",
    "station.cspRounding=[5]*384\n",
    "station.SetLmcDownload('{\"destination_ip\": \"10.0.0.98\", \"mode\": \"40g\"}')\n",
    "#station.SetLmcIntegratedDownload('{\"destination_ip\": \"10.0.0.98\", \"mode\": \"40g\"}')\n",
    "station.SetCspIngest('{\"destination_ip\": \"10.0.0.98\"}')\n",
    "time.sleep(0.1)\n",
    "t1.logginglevel=3"
   ]
  },
  {
   "cell_type": "code",
   "execution_count": 12,
   "id": "13075acc-efc0-41b4-8674-a412c15ec6f1",
   "metadata": {
    "tags": []
   },
   "outputs": [
    {
     "name": "stdout",
     "output_type": "stream",
     "text": [
      "t=2: subrack: The device is in ON state.\n",
      "t=10: state = ('NotProgrammed', 'Off')\n",
      "t=12: state = ('NotProgrammed', 'NotProgrammed')\n",
      "t=16: state = ('Programmed', 'Programmed')\n",
      "t=32: state = ('Initialised', 'Programmed')\n",
      "t=34: state = ('Initialised', 'Initialised')\n",
      "t=34: Station initialized\n"
     ]
    }
   ],
   "source": [
    "# turn station on\n",
    "t1.logginglevel=5\n",
    "t4.logginglevel=5\n",
    "station.on()\n",
    "state = station.tileprogrammingstate\n",
    "tm = 0\n",
    "init = False\n",
    "for t in range (30):\n",
    "    time.sleep(2)\n",
    "    tm = tm + 2\n",
    "    print(f't={tm}: subrack: {subrack.status()}')\n",
    "    if subrack.state() == tango._tango.DevState.ON:\n",
    "        break\n",
    "for t in range(30):\n",
    "    time.sleep(2)\n",
    "    tm = tm + 2\n",
    "    s_new = station.tileprogrammingstate\n",
    "    if s_new != state:\n",
    "        print(f't={tm}: state = {s_new}')\n",
    "        state = s_new\n",
    "    if all(s == 'Initialised' for s in state):\n",
    "        init = True\n",
    "        break\n",
    "if init:\n",
    "    print(f't={tm}: Station initialized')\n",
    "else:\n",
    "    print(f't={tm}: Timeout during intialisation')\n",
    "time.sleep(3)\n",
    "t1.logginglevel=3\n",
    "t4.logginglevel=3"
   ]
  },
  {
   "cell_type": "code",
   "execution_count": 30,
   "id": "7b66d9ed-10ac-4673-b600-5b8af0cc7f95",
   "metadata": {},
   "outputs": [
    {
     "name": "stdout",
     "output_type": "stream",
     "text": [
      "Tile time: 2023-02-17T20:00:51.000000Z - Sync time: 2023-02-17T20:00:54.000000Z\n",
      "Programmed Sync time: 2106-02-07T06:28:15.000000Z\n",
      "t=45: state = ('Initialised', 'Initialised')\n"
     ]
    }
   ],
   "source": [
    "t1.logginglevel=5\n",
    "start_time = datetime.strftime(datetime.fromtimestamp(int(time.time())+4), RFC_FORMAT)\n",
    "station.StartAcquisition(json.dumps({\n",
    "  \"start_time\": start_time}))\n",
    "print(f'Tile time: {t1.fpgatime} - Sync time: {start_time}')\n",
    "print(f'Programmed Sync time: {t1.fpgareferencetime}')\n",
    "time.sleep(1)\n",
    "# check that synchronization worked\n",
    "for t in range (1):\n",
    "    tm1 = datetime.strftime(datetime.fromtimestamp(time.time()), RFC_FORMAT)\n",
    "    tm2 = t1.fpgatime\n",
    "    tm3 = t1.fpgaframetime\n",
    "    print(f'time:{tm1} pps time:{tm2} frame time:{tm3}')\n",
    "    #time.sleep(2)\n",
    "for i in range(30):\n",
    "    tm = tm + 1\n",
    "    cur_time=int(t1.readregister('fpga1.pps_manager.curr_time_read_val')[0])\n",
    "    start_time=int(t1.readregister('fpga1.pps_manager.sync_time_val')[0])\n",
    "    print(f'Current: {cur_time} - Start: {start_time} difference: {cur_time-start_time} frame time:{t1.fpgaframetime}')\n",
    "    if cur_time > start_time:\n",
    "        break\n",
    "    time.sleep(1)\n",
    "\n",
    "tm1 = datetime.strftime(datetime.fromtimestamp(time.time()), RFC_FORMAT)\n",
    "tm2 = t1.fpgatime\n",
    "tm3 = t1.fpgaframetime\n",
    "print(f'time:{tm1} pps time:{tm2} frame time:{tm3}')\n",
    "print(f't={tm}: state = {station.tileprogrammingstate}')\n",
    "t1.logginglevel=3"
   ]
  },
  {
   "cell_type": "code",
   "execution_count": 31,
   "id": "b427ed34-9bc9-4fdf-9fda-75ab5f0ac48f",
   "metadata": {},
   "outputs": [
    {
     "name": "stdout",
     "output_type": "stream",
     "text": [
      "time:2023-02-17T20:00:57.368919Z pps time:2023-02-17T20:00:57.000000Z frame time:2023-02-17T20:00:57.644559Z\n",
      "Current: 1676664057 - Start: 1676664054 difference: 3 frame time:2023-02-17T20:00:57.654513Z\n",
      "time:2023-02-17T20:00:57.382155Z pps time:2023-02-17T20:00:57.000000Z frame time:2023-02-17T20:00:57.656172Z\n"
     ]
    }
   ],
   "source": [
    "# check that synchronization worked\n",
    "for t in range (1):\n",
    "    tm1 = datetime.strftime(datetime.fromtimestamp(time.time()), RFC_FORMAT)\n",
    "    tm2 = t1.fpgatime\n",
    "    tm3 = t1.fpgaframetime\n",
    "    print(f'time:{tm1} pps time:{tm2} frame time:{tm3}')\n",
    "    #time.sleep(2)\n",
    "for i in range(30):\n",
    "    cur_time=int(t1.readregister('fpga1.pps_manager.curr_time_read_val')[0])\n",
    "    start_time=int(t1.readregister('fpga1.pps_manager.sync_time_val')[0])\n",
    "    print(f'Current: {cur_time} - Start: {start_time} difference: {cur_time-start_time} frame time:{t1.fpgaframetime}')\n",
    "    if cur_time > start_time:\n",
    "        break\n",
    "    time.sleep(1)\n",
    "tm1 = datetime.strftime(datetime.fromtimestamp(time.time()), RFC_FORMAT)\n",
    "tm2 = t1.fpgatime\n",
    "tm3 = t1.fpgaframetime\n",
    "print(f'time:{tm1} pps time:{tm2} frame time:{tm3}')\n",
    "print(f'FpgaProgrammingState"
   ]
  },
  {
   "cell_type": "code",
   "execution_count": 32,
   "id": "d2dcef22-8827-4dc3-9de9-9a16626a45d5",
   "metadata": {},
   "outputs": [
    {
     "name": "stdout",
     "output_type": "stream",
     "text": [
      "Configuration of beamformer 40g ports\n",
      "TPM 1: 10.0.0.152:61648 -> 10.0.0.154:4660   MAC:0x62000a000098\n",
      "       10.0.0.153:61648 -> 10.0.0.155:4660   MAC:0x62000a000099\n",
      "TPM 2: 10.0.0.154:61648 -> 10.0.0.98:4660   MAC:0x62000a00009a\n",
      "       10.0.0.155:61648 -> 10.0.0.98:4660   MAC:0x62000a00009b\n"
     ]
    }
   ],
   "source": [
    "# Show chainig of tile IPs\n",
    "core1_config = json.loads(t1.get40gcoreconfiguration(json.dumps({'core_id': 0, 'arp_table_entry': 0})))\n",
    "core2_config = json.loads(t1.get40gcoreconfiguration(json.dumps({'core_id': 1, 'arp_table_entry': 0})))\n",
    "print(f'Configuration of beamformer 40g ports')\n",
    "print(f\"TPM 1: {core1_config['source_ip']}:{core1_config['source_port']} -> \"\n",
    "      f\"{core1_config['destination_ip']}:{core1_config['destination_port']}\"\n",
    "      f\"   MAC:{hex(core1_config['source_mac'])}\")\n",
    "print(f\"       {core2_config['source_ip']}:{core2_config['source_port']} -> \"\n",
    "      f\"{core2_config['destination_ip']}:{core2_config['destination_port']}\"\n",
    "      f\"   MAC:{hex(core2_config['source_mac'])}\")\n",
    "core1_config = json.loads(t4.get40gcoreconfiguration(json.dumps({'core_id': 0, 'arp_table_entry': 0})))\n",
    "core2_config = json.loads(t4.get40gcoreconfiguration(json.dumps({'core_id': 1, 'arp_table_entry': 0})))\n",
    "print(f\"TPM 2: {core1_config['source_ip']}:{core1_config['source_port']} -> \"\n",
    "      f\"{core1_config['destination_ip']}:{core1_config['destination_port']}\"\n",
    "      f\"   MAC:{hex(core1_config['source_mac'])}\")\n",
    "print(f\"       {core2_config['source_ip']}:{core2_config['source_port']} -> \"\n",
    "      f\"{core2_config['destination_ip']}:{core2_config['destination_port']}\"\n",
    "      f\"   MAC:{hex(core2_config['source_mac'])}\")\n"
   ]
  },
  {
   "cell_type": "code",
   "execution_count": 33,
   "id": "c0b026ac-0a59-49ff-b5ea-cd06441c8f9a",
   "metadata": {},
   "outputs": [
    {
     "name": "stdout",
     "output_type": "stream",
     "text": [
      "Configuration of LMC 40G port\n",
      "Core 1: 10.0.0.152:61648 -> 10.0.0.98:4660\n",
      "Core 2: 10.0.0.153:61648 -> 10.0.0.98:4660\n"
     ]
    }
   ],
   "source": [
    "# Show LMC IPs \n",
    "core1_config = json.loads(t1.get40gcoreconfiguration(json.dumps({'core_id': 0, 'arp_table_entry': 1})))\n",
    "core2_config = json.loads(t1.get40gcoreconfiguration(json.dumps({'core_id': 1, 'arp_table_entry': 1})))\n",
    "print('Configuration of LMC 40G port')\n",
    "print(f\"Core 1: {core1_config['source_ip']}:{core1_config['source_port']} -> \"\n",
    "      f\"{core1_config['destination_ip']}:{core1_config['destination_port']}\")\n",
    "print(f\"Core 2: {core2_config['source_ip']}:{core2_config['source_port']} -> \"\n",
    "      f\"{core2_config['destination_ip']}:{core2_config['destination_port']}\")"
   ]
  },
  {
   "cell_type": "code",
   "execution_count": 36,
   "id": "bd61df43-4ac4-4f61-9618-6362917856b5",
   "metadata": {},
   "outputs": [
    {
     "name": "stdout",
     "output_type": "stream",
     "text": [
      "Beamformer table: [[128   0   1   0   0   0   0]]\n",
      "Static delays: [[ 0.    1.25  2.5   2.5   3.75  5.    6.25  7.5   7.5   8.75 10.   11.25\n",
      "  12.5  12.5  13.75 15.   16.25 17.5  17.5  18.75 20.   21.25 22.5  22.5\n",
      "  23.75 25.   26.25 27.5  27.5  28.75 30.   31.25]]\n",
      "Preadu levels: [[0 0 0 0 0 0 0 0 0 0 0 0 0 0 0 0 0 0 0 0 0 0 0 0 0 0 0 0 0 0 0 0]]\n",
      "Channeliser rounding: 4\n",
      "CSP rounding: 5\n",
      "ARP table: {\"0\": [0, 1], \"1\": [0, 1]}\n"
     ]
    }
   ],
   "source": [
    "print(f'Beamformer table: {t1.beamformertable.reshape(-1,7)}')\n",
    "print(f'Static delays: {t1.statictimedelays.reshape(-1,32)}')\n",
    "print(f'Preadu levels: {t1.preaduLevels.reshape(-1,32)}')\n",
    "print(f'Channeliser rounding: {t1.channeliserRounding[0]}')\n",
    "print(f'CSP rounding: {t4.cspRounding[0]}')\n",
    "print(f'ARP table: {t1.getArpTable()}')"
   ]
  },
  {
   "cell_type": "code",
   "execution_count": 22,
   "id": "e0f48db5-32f6-400c-a8ca-51c59e441523",
   "metadata": {},
   "outputs": [
    {
     "data": {
      "text/plain": [
       "[array([0], dtype=int32), ['SendDataSamples command completed OK']]"
      ]
     },
     "execution_count": 22,
     "metadata": {},
     "output_type": "execute_result"
    }
   ],
   "source": [
    "station.SendDataSamples(json.dumps({'data_type': 'channel'}))"
   ]
  },
  {
   "cell_type": "code",
   "execution_count": 23,
   "id": "1e80b190-672e-428c-8e20-9df6d0e69d97",
   "metadata": {
    "tags": []
   },
   "outputs": [
    {
     "data": {
      "text/plain": [
       "[array([2], dtype=int32), ['1676663942.1713426_14952541424308_Standby']]"
      ]
     },
     "execution_count": 23,
     "metadata": {},
     "output_type": "execute_result"
    }
   ],
   "source": [
    "station.standby()"
   ]
  },
  {
   "cell_type": "code",
   "execution_count": null,
   "id": "26d28170-beee-4d67-b7e7-1dc003a2bd55",
   "metadata": {},
   "outputs": [],
   "source": [
    "tango_error"
   ]
  },
  {
   "cell_type": "code",
   "execution_count": 21,
   "id": "94ae22e5-6300-4116-8e34-2680de2e542a",
   "metadata": {},
   "outputs": [
    {
     "data": {
      "text/plain": [
       "('Initialised', 'Initialised')"
      ]
     },
     "execution_count": 21,
     "metadata": {},
     "output_type": "execute_result"
    }
   ],
   "source": [
    "station.tileprogrammingstate"
   ]
  },
  {
   "cell_type": "code",
   "execution_count": 35,
   "id": "e9a5146f-7ef1-4684-9b54-70fb190240a5",
   "metadata": {},
   "outputs": [
    {
     "data": {
      "text/plain": [
       "'{\"0\": [0, 1], \"1\": [0, 1]}'"
      ]
     },
     "execution_count": 35,
     "metadata": {},
     "output_type": "execute_result"
    }
   ],
   "source": [
    "t1.getArpTable()"
   ]
  },
  {
   "cell_type": "code",
   "execution_count": null,
   "id": "2170a13b-bd34-4aaa-9a0e-a3424065016e",
   "metadata": {},
   "outputs": [],
   "source": []
  }
 ],
 "metadata": {
  "kernelspec": {
   "display_name": "jupyTango",
   "language": "python",
   "name": "jupytango"
  },
  "language_info": {
   "codemirror_mode": {
    "name": "ipython",
    "version": 3
   },
   "file_extension": ".py",
   "mimetype": "text/x-python",
   "name": "python",
   "nbconvert_exporter": "python",
   "pygments_lexer": "ipython3",
   "version": "3.10.6"
  }
 },
 "nbformat": 4,
 "nbformat_minor": 5
}
