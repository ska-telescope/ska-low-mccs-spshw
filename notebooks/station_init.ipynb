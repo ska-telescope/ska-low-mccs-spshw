{
 "cells": [
  {
   "cell_type": "markdown",
   "id": "e8aa38df-29ed-4fb8-ae1a-1627dbe13e99",
   "metadata": {
    "tags": []
   },
   "source": [
    "<h>Test of subarray power on sequence.</h>\n",
    "\n",
    "First defines all elements in chart. Configuration uses one subarray, two subarray beams, four apertures in two station. \n",
    "This should be parametrizable"
   ]
  },
  {
   "cell_type": "code",
   "execution_count": 141,
   "id": "5cce7590-54c1-49d1-916d-8ed021e569bf",
   "metadata": {},
   "outputs": [],
   "source": [
    "import tango\n",
    "import time\n",
    "import json\n",
    "import numpy as np\n",
    "\n",
    "from ska_control_model import (\n",
    "    AdminMode,\n",
    "    CommunicationStatus,\n",
    "    HealthState,\n",
    "    PowerState,\n",
    "    ResultCode,\n",
    "    TaskStatus,\n",
    "    SimulationMode,\n",
    "    TestMode,\n",
    ")\n",
    "\n",
    "# for time conversion\n",
    "from datetime import datetime,timezone\n",
    "RFC_FORMAT = \"%Y-%m-%dT%H:%M:%S.%fZ\"\n",
    "# define devices\n",
    "controller = tango.DeviceProxy('low-mccs/control/control')\n",
    "sa1 = tango.DeviceProxy('low-mccs/subarray/01')\n",
    "sa2 = tango.DeviceProxy('low-mccs/subarray/02')\n",
    "sab1 = tango.DeviceProxy('low-mccs/subarraybeam/01')\n",
    "sab2 = tango.DeviceProxy('low-mccs/subarraybeam/02')\n",
    "st1 = tango.DeviceProxy('low-mccs/station/001')\n",
    "st2 = tango.DeviceProxy('low-mccs/station/002')\n",
    "sb1 = tango.DeviceProxy('low-mccs/beam/001')\n",
    "sb2 = tango.DeviceProxy('low-mccs/beam/002')\n",
    "sb3 = tango.DeviceProxy('low-mccs/beam/003')\n",
    "sb4 = tango.DeviceProxy('low-mccs/beam/004')\n",
    "spsst1 = tango.DeviceProxy('low-mccs/spsstation/ci-1')\n",
    "spsst2 = tango.DeviceProxy('low-mccs/spsstation/ci-2')\n",
    "sr1 = tango.DeviceProxy('low-mccs/subrack/ci-1-1')\n",
    "sr2 = tango.DeviceProxy('low-mccs/subrack/ci-2-1')\n",
    "t1 = tango.DeviceProxy('low-mccs/tile/ci-1-13')\n",
    "t2 = tango.DeviceProxy('low-mccs/tile/ci-1-17')\n",
    "t3 = tango.DeviceProxy('low-mccs/tile/ci-2-13')\n",
    "t4 = tango.DeviceProxy('low-mccs/tile/ci-2-17')\n",
    "devices = [spsst1, spsst2, sr1, sr2, t1, t2, t3, t4, st1, st2, \n",
    "           sb1, sb2, sb3, sb4, sab1, sab2, sa1, sa2,]\n",
    "hwdevices = [spsst1, spsst2, sr1, sr2, t1, t2, t3, t4]\n",
    "sps_stations = [spsst1, spsst2]"
   ]
  },
  {
   "cell_type": "markdown",
   "id": "f2b299ca-5e0d-4262-8a1e-49923c5979dd",
   "metadata": {},
   "source": [
    "Put everything online and ON. Logging level for some devices is raised to DEBUG.  "
   ]
  },
  {
   "cell_type": "code",
   "execution_count": 142,
   "id": "64cf9470-96b4-4f60-8c35-fa8f90fcbf9b",
   "metadata": {
    "tags": []
   },
   "outputs": [],
   "source": [
    "for d in devices:\n",
    "    d.adminmode = 0\n",
    "    d.logginglevel = 5\n",
    "controller.adminmode=0\n",
    "controller.logginglevel = 5\n",
    "sa1.logginglevel = 5\n",
    "sab1.logginglevel = 5\n",
    "sb1.logginglevel = 5\n"
   ]
  },
  {
   "cell_type": "markdown",
   "id": "cf704cab-1db6-4d44-8ed4-2104da8bde8c",
   "metadata": {},
   "source": [
    "Set station parameters. Site dependent"
   ]
  },
  {
   "cell_type": "code",
   "execution_count": null,
   "id": "14568f84-30b0-4bbb-9d64-03085bd3e3da",
   "metadata": {},
   "outputs": [],
   "source": [
    "for station in sps_stations:\n",
    "    station.SetBeamformerTable([128,0,1,0,0,0,0])\n",
    "    station.statictimedelays=np.zeros([512],dtype=int)\n",
    "    station.preaduLevels=list(range(32))*16\n",
    "    station.channeliserRounding=[4]*512\n",
    "    station.cspRounding=[4]*384\n",
    "    station.SetLmcDownload('{\"destination_ip\": \"10.0.0.98\", \"mode\": \"10g\"}')\n",
    "    station.SetLmcIntegratedDownload('{\"destination_ip\": \"10.0.0.98\", \"mode\": \"10g\"}')\n",
    "    station.SetCspIngest('{\"destination_ip\": \"10.0.0.98\"}')"
   ]
  },
  {
   "cell_type": "markdown",
   "id": "24630ab2-29d5-437b-ab82-e772fe44bb7d",
   "metadata": {},
   "source": [
    "Initialise all tiles. \n",
    "If all tiles are already synchronised, assume that they are properly so.\n",
    "If not: \n",
    "- power on and initialise tiles which are off\n",
    "- initialise tiles which are on\n",
    "- perform station initialisation\n",
    "- reinitialise stations which were not completely on or off (should be rare)\n",
    "- wait for initialisation to complete\n",
    "- synchronise all stations (together)"
   ]
  },
  {
   "cell_type": "code",
   "execution_count": 143,
   "id": "752f38d6-855c-480a-9110-0e5ecb60d5cf",
   "metadata": {},
   "outputs": [
    {
     "name": "stdout",
     "output_type": "stream",
     "text": [
      "MCCS system initialised\n"
     ]
    }
   ],
   "source": [
    "# Executes initialization if required. \n",
    "# If all tiles are synchronized, it is assumed they are properly so\n",
    "#\n",
    "if any(any(\n",
    "        state != 'Synchronised' for state in station.tileProgrammingState)\n",
    "        for station in sps_stations):   \n",
    "    print(\"Must turn on and reinitialise stations\")\n",
    "    reinitialize = False  # second  initialization is required if not all tiles \n",
    "                          # are initialised in first cycle\n",
    "    # Turn on tiles which are off and initialises tiles whch are off. \n",
    "    for station in sps_stations:\n",
    "        if station.state() == tango.DevState.ON:\n",
    "            all_off = False\n",
    "            station.Initialise('{}') # re-initialise if already ON\n",
    "        elif station.state() in (tango.DevState.OFF, tango.DevState.STANDBY):\n",
    "            station.on() # ON includes reinitialisation\n",
    "        else:\n",
    "            station.on() # turn on what is not already on, but must reinitialze\n",
    "            reinitialize = True\n",
    "    timeout = 60 # seconds\n",
    "    print(\"Waiting for all stations to come ON and initialise\")\n",
    "    while timeout > 0:\n",
    "        time.sleep(2)\n",
    "        if all(\n",
    "            all(\n",
    "               status in ('Initialised', 'Synchronized')\n",
    "               for status in station.tileProgrammingState)\n",
    "               for station in sps_stations):\n",
    "            break\n",
    "        timeout -= 2\n",
    "    if timeout <= 0:\n",
    "        print(\"Error: timeout in waiting for stations to initialize\")         \n",
    "    else:\n",
    "        time.sleep(2)   # to wait for station intialisation to complete \n",
    "        if reinitialize:\n",
    "            # re-initialisation required. Some stations were not ON or OFF\n",
    "            for station in sps_stations:\n",
    "                station.initialise('{}')\n",
    "                timeout = 60 # seconds\n",
    "                print(\"Waiting for all remaining unprogrammed tiles initialise\")\n",
    "                while timeout > 0:\n",
    "                    time.sleep(2)\n",
    "                    if all(all(\n",
    "                           status == 'Initialised' for status in station.tileProgrammingState)\n",
    "                           for station in sps_stations):\n",
    "                        break\n",
    "                if timeout <= 0: \n",
    "                    print(\"Error: timeout in waiting for tiles to initialize\") \n",
    "        #\n",
    "        # Synchronize all stations\n",
    "        #\n",
    "        time.sleep(2)\n",
    "        print(\"Synchronize all stations\")\n",
    "        start_time = datetime.strftime(datetime.fromtimestamp(int(time.time())+2), RFC_FORMAT)\n",
    "        for station in sps_stations:\n",
    "            station.StartAcquisition(json.dumps({\"start_time\": start_time}))\n",
    "        #\n",
    "        # check that synchronization worked\n",
    "        #\n",
    "        time.sleep(3)\n",
    "#\n",
    "# Check for successful synchronisation\n",
    "if any(\n",
    "        any(state !='Synchronised' for state in station.tileprogrammingstate) \n",
    "        for station in sps_stations):\n",
    "    print(\"stations not synchronised\")\n",
    "    for station in sps_stations:\n",
    "        print(f'{station.name()}: state = {station.tileprogrammingstate}')\n",
    "else:\n",
    "    print(\"MCCS system initialised\")"
   ]
  }
 ],
 "metadata": {
  "kernelspec": {
   "display_name": "jupyTango",
   "language": "python",
   "name": "jupytango"
  },
  "language_info": {
   "codemirror_mode": {
    "name": "ipython",
    "version": 3
   },
   "file_extension": ".py",
   "mimetype": "text/x-python",
   "name": "python",
   "nbconvert_exporter": "python",
   "pygments_lexer": "ipython3",
   "version": "3.10.6"
  }
 },
 "nbformat": 4,
 "nbformat_minor": 5
}
