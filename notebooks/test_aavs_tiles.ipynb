{
 "cells": [
  {
   "cell_type": "code",
   "execution_count": null,
   "metadata": {},
   "outputs": [],
   "source": [
    "# K8S_CHART_PARAMS=\"-f charts/umbrella-mccs/value_files/values_thinslice_aavs2.yaml\"\n",
    "import time\n",
    "import tango"
   ]
  },
  {
   "cell_type": "code",
   "execution_count": null,
   "metadata": {},
   "outputs": [],
   "source": [
    "sr1=tango.DeviceProxy('low-mccs-spshw/subrack/0001')\n",
    "sr1.adminMode=0\n",
    "sr2=tango.DeviceProxy('low-mccs-spshw/subrack/0002')\n",
    "sr2.adminMode=0\n",
    "tpm_fqdns = [f\"low-mccs-spshw/tile/{i:04d}\" for i in range(1,17)]\n",
    "tpms = {fqdn: tango.DeviceProxy(fqdn) for fqdn in tpm_fqdns}"
   ]
  },
  {
   "cell_type": "code",
   "execution_count": null,
   "metadata": {},
   "outputs": [],
   "source": [
    "sr1.On()\n",
    "sr2.On()\n",
    "time.sleep(2)"
   ]
  },
  {
   "cell_type": "code",
   "execution_count": null,
   "metadata": {},
   "outputs": [],
   "source": [
    "for tpm_index in range(1,17):\n",
    "    print(f\"Switching Online TPM {tpm_index}\")\n",
    "    tpms[f\"low-mccs-spshw/tile/{tpm_index:04d}\"].adminMode=0\n",
    "\n",
    "time.sleep(2)\n"
   ]
  },
  {
   "cell_type": "code",
   "execution_count": null,
   "metadata": {},
   "outputs": [],
   "source": [
    "\n",
    "for tpm_index in range(1,17):\n",
    "    print(f\"Turning On TPM {tpm_index}\")\n",
    "    tpms[f\"low-mccs-spshw/tile/{tpm_index:04d}\"].On()\n",
    "\n",
    "time.sleep(5)\n"
   ]
  },
  {
   "cell_type": "code",
   "execution_count": null,
   "metadata": {},
   "outputs": [],
   "source": [
    "\n",
    "for tpm_index in range(1,17):\n",
    "    tpm = tpms[f\"low-mccs-spshw/tile/{tpm_index:04d}\"]\n",
    "    print(f\"Reading boardTemp TPM {tpm_index}: {tpm.boardTemperature}\")"
   ]
  }
 ],
 "metadata": {
  "language_info": {
   "name": "python"
  },
  "orig_nbformat": 4
 },
 "nbformat": 4,
 "nbformat_minor": 2
}
