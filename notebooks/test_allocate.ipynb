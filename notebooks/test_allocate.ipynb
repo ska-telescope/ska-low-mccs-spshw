{
 "cells": [
  {
   "cell_type": "markdown",
   "id": "e8aa38df-29ed-4fb8-ae1a-1627dbe13e99",
   "metadata": {
    "tags": []
   },
   "source": [
    "<h>Test of subarray resource allocation, configuration, deconfiguration and deallocation.</h>\n",
    "\n",
    "First defines all elements in chart. Configuration uses one subarray, two subarray beams, \n",
    "four apertures in two station. \n",
    "\n",
    "Physical hardware uses old devices (e.g. APIU) and includes 4 antennas, one TPM and one subrack. This is a nonstandard configuration, does not work in reality. \n",
    "\n",
    "In the final cluster the devices should be the correct ones, i.e. PASD and SpsStation. MccsStation must be refactored to reflect this, but as we stop the configuration propagation in the MccsStation it is sufficient."
   ]
  },
  {
   "cell_type": "code",
   "execution_count": 2,
   "id": "5cce7590-54c1-49d1-916d-8ed021e569bf",
   "metadata": {},
   "outputs": [],
   "source": [
    "import tango\n",
    "import time\n",
    "import json\n",
    "import numpy as np\n",
    "\n",
    "from ska_control_model import (\n",
    "    AdminMode,\n",
    "    CommunicationStatus,\n",
    "    HealthState,\n",
    "    PowerState,\n",
    "    ResultCode,\n",
    "    TaskStatus,\n",
    "    SimulationMode,\n",
    "    TestMode,\n",
    ")\n",
    "\n",
    "# for time conversion\n",
    "from datetime import datetime,timezone\n",
    "RFC_FORMAT = \"%Y-%m-%dT%H:%M:%S.%fZ\"\n",
    "# define devices\n",
    "controller = tango.DeviceProxy('low-mccs/control/control')\n",
    "sa1 = tango.DeviceProxy('low-mccs/subarray/01')\n",
    "sa2 = tango.DeviceProxy('low-mccs/subarray/02')\n",
    "sab1 = tango.DeviceProxy('low-mccs/subarraybeam/01')\n",
    "sab2 = tango.DeviceProxy('low-mccs/subarraybeam/02')\n",
    "st1 = tango.DeviceProxy('low-mccs/station/001')\n",
    "st2 = tango.DeviceProxy('low-mccs/station/002')\n",
    "# st3 = tango.DeviceProxy('low-mccs/station/003')\n",
    "# st4 = tango.DeviceProxy('low-mccs/station/004')\n",
    "sb1 = tango.DeviceProxy('low-mccs/beam/001')\n",
    "sb2 = tango.DeviceProxy('low-mccs/beam/002')\n",
    "sb3 = tango.DeviceProxy('low-mccs/beam/003')\n",
    "sb4 = tango.DeviceProxy('low-mccs/beam/004')\n",
    "# a1 = tango.DeviceProxy('low-mccs/antenna/000001')\n",
    "# a2 = tango.DeviceProxy('low-mccs/antenna/000002')\n",
    "# a3 = tango.DeviceProxy('low-mccs/antenna/000003')\n",
    "# a4 = tango.DeviceProxy('low-mccs/antenna/000004')\n",
    "# a5 = tango.DeviceProxy('low-mccs/antenna/000005')\n",
    "# a6 = tango.DeviceProxy('low-mccs/antenna/000006')\n",
    "# a7 = tango.DeviceProxy('low-mccs/antenna/000007')\n",
    "# a8 = tango.DeviceProxy('low-mccs/antenna/000008')\n",
    "# ap1 = tango.DeviceProxy('low-mccs/apiu/001')\n",
    "spsst1 = tango.DeviceProxy('low-mccs/spsstation/ci-1')\n",
    "spsst2 = tango.DeviceProxy('low-mccs/spsstation/ci-2')\n",
    "sr1 = tango.DeviceProxy('low-mccs/subrack/ci-1-1')\n",
    "sr2 = tango.DeviceProxy('low-mccs/subrack/ci-2-1')\n",
    "t1 = tango.DeviceProxy('low-mccs/tile/ci-1-13')\n",
    "t2 = tango.DeviceProxy('low-mccs/tile/ci-1-17')\n",
    "t3 = tango.DeviceProxy('low-mccs/tile/ci-2-13')\n",
    "t4 = tango.DeviceProxy('low-mccs/tile/ci-2-17')\n",
    "devices = [spsst1, spsst2, sr1, sr2, t1, t2, t3, t4, st1, st2, sb1, sb2, sb3, sb4, sab1, sab2, sa1, sa2]\n",
    "hwdevices = [spsst1, spsst2, sr1, sr2, t1, t2, t3, t4]"
   ]
  },
  {
   "cell_type": "markdown",
   "id": "f2b299ca-5e0d-4262-8a1e-49923c5979dd",
   "metadata": {},
   "source": [
    "Put everything online and ON. Logging level for some devices is raised to DEBUG.  "
   ]
  },
  {
   "cell_type": "code",
   "execution_count": 2,
   "id": "64cf9470-96b4-4f60-8c35-fa8f90fcbf9b",
   "metadata": {
    "tags": []
   },
   "outputs": [],
   "source": [
    "for d in devices:\n",
    "    d.adminmode = 0\n",
    "    d.logginglevel = 5\n",
    "for d in hwdevices:\n",
    "    d.on() \n",
    "controller.adminmode=0\n",
    "controller.logginglevel = 5\n",
    "sa1.logginglevel = 5\n",
    "sab1.logginglevel = 5\n",
    "sb1.logginglevel = 5"
   ]
  },
  {
   "cell_type": "markdown",
   "id": "1e950242-cde2-4dd1-9812-b705964031da",
   "metadata": {},
   "source": [
    "Waiting for the system to come up"
   ]
  },
  {
   "cell_type": "code",
   "execution_count": null,
   "id": "60b48525-e9d5-48b2-9505-c5661038533f",
   "metadata": {},
   "outputs": [
    {
     "name": "stdout",
     "output_type": "stream",
     "text": [
      "low-mccs/spsstation/ci-1: The device is in ON state. health 2\n",
      "low-mccs/spsstation/ci-2: The device is in ON state. health 2\n",
      "low-mccs/subrack/ci-1-1: The device is in ON state. health 2\n",
      "low-mccs/subrack/ci-2-1: The device is in ON state. health 2\n",
      "low-mccs/tile/ci-1-13: The device is in ON state. health 2\n",
      "low-mccs/tile/ci-1-17: The device is in ON state. health 2\n",
      "low-mccs/tile/ci-2-13: The device is in ON state. health 3\n",
      "low-mccs/tile/ci-2-17: The device is in ON state. health 3\n",
      "low-mccs/station/001: The device is in ON state. health 2\n",
      "low-mccs/station/002: The device is in ON state. health 2\n",
      "low-mccs/beam/001: The device is in ON state. health 2\n",
      "low-mccs/beam/002: The device is in ON state. health 2\n",
      "low-mccs/beam/003: The device is in ON state. health 2\n",
      "low-mccs/beam/004: The device is in ON state. health 2\n",
      "low-mccs/subarraybeam/01: The device is in ON state. health 2\n",
      "low-mccs/subarraybeam/02: The device is in ON state. health 2\n",
      "low-mccs/subarray/01: The device is in ON state. health 2\n",
      "low-mccs/subarray/02: The device is in ON state. health 0\n",
      "low-mccs/control/control: The device is in ON state.\n",
      "low-mccs/spsstation/ci-1: state = ('Synchronised', 'Synchronised')\n",
      "low-mccs/spsstation/ci-2: state = ('Synchronised', 'Synchronised')\n"
     ]
    }
   ],
   "source": [
    "timeout = 20   # seconds\n",
    "while controller.state() != tango._tango.DevState.ON:\n",
    "    time.sleep(1)\n",
    "    timeout -= 1\n",
    "    if timeout == 0: \n",
    "        break\n",
    "if timeout == 0:\n",
    "    print(\"Error: timeout in waiting for controller to coming ON\")\n",
    "for d in devices:\n",
    "    print(f\"{d.name()}: {d.status()} health {HealthState(d.healthState)}\")\n",
    "print(f\"{controller.name()}: {controller.status()}\")\n",
    "\n",
    "if timeout > 0: \n",
    "    if any(state !='Synchronised') for state in station.tileprogrammingstate for station in [spsst1,spsst2]:\n",
    "        start_time = datetime.strftime(datetime.fromtimestamp(int(time.time())+3), RFC_FORMAT)\n",
    "        for station in [spsst1, spsst2]:\n",
    "            station.StartAcquisition(json.dumps({\"start_time\": start_time}))\n",
    "    #\n",
    "    # check that synchronization worked\n",
    "    #\n",
    "    time.sleep(4)\n",
    "for station in [spsst1, spsst2]:\n",
    "    print(f'{station.name()}: state = {station.tileprogrammingstate}')"
   ]
  },
  {
   "cell_type": "markdown",
   "id": "ba44997e-6df8-4539-9a3e-d90ff1d2cf8f",
   "metadata": {},
   "source": [
    "<title> Allocate and deallocate resources</title>\n",
    "\n",
    "1) Assess that the controller has no assigned resources to subarray 1, neither has the subarray\n",
    "\n",
    "2) Allocate resources to the subarray and check that these have been allocated in the controller, and assigned to the subarray.\n",
    "    Subarray is composed of two subarray beams, 32 channels and 2 apertures each. \n",
    "    Station 1 hosts the 2 apertures of beam 1 and one of beam 2. Station 2 hosts the 2nd aperture of beam 2.\n",
    "\n",
    "3) Release the resources and check they have been released. "
   ]
  },
  {
   "cell_type": "code",
   "execution_count": 5,
   "id": "c8ee0648-ede3-4460-9cb9-7f4f5b1a9126",
   "metadata": {},
   "outputs": [
    {
     "name": "stdout",
     "output_type": "stream",
     "text": [
      "Controller resources allocated to subarray 1: {}\n",
      "Subarray resources\n",
      "- Stations:       ()\n",
      "- Subarray beams: ()\n",
      "- Station beams:  ()\n",
      "- All assigned resources: {'interface': 'https://schema.skao.int/ska-low-mccs-assignedresources/1.0', 'subarray_beam_ids': [], 'station_beam_ids': [], 'station_ids': [], 'apertures': [], 'channels': [0]}\n"
     ]
    }
   ],
   "source": [
    "print(f\"Controller resources allocated to subarray 1: {controller.GetAssignedResources(1)}\")\n",
    "print(f\"Subarray resources\\n- Stations:       {sa1.stationFQDNs}\")\n",
    "print(f\"- Subarray beams: {sa1.subarraybeamfqdns}\")\n",
    "print(f\"- Station beams:  {sa1.stationbeamfqdns}\")\n",
    "print(f\"- All assigned resources: {json.loads((sa1.assignedresources))}\")"
   ]
  },
  {
   "cell_type": "code",
   "execution_count": 4,
   "id": "066c7e67-cccd-4461-b3ee-612533b92c8d",
   "metadata": {},
   "outputs": [
    {
     "data": {
      "text/plain": [
       "[array([2], dtype=int32), ['1698683688.8465571_160872017842122_Allocate']]"
      ]
     },
     "execution_count": 4,
     "metadata": {},
     "output_type": "execute_result"
    }
   ],
   "source": [
    "args = {\n",
    "    \"subarray_id\": 1, \n",
    "    \"subarray_beams\": [\n",
    "        {\n",
    "            \"subarray_beam_id\": 1, \n",
    "            \"apertures\": [\n",
    "                {\n",
    "                    \"station_id\": 1,\n",
    "                    \"aperture_id\": \"AP001.01\"\n",
    "                },\n",
    "                {\n",
    "                    \"station_id\": 1,\n",
    "                    \"aperture_id\": \"AP001.02\"\n",
    "                },\n",
    "            ], \n",
    "            \"number_of_channels\": 32\n",
    "        },\n",
    "        {\n",
    "            \"subarray_beam_id\": 2, \n",
    "            \"apertures\": [\n",
    "                {\n",
    "                    \"station_id\": 1,\n",
    "                    \"aperture_id\": \"AP001.03\"\n",
    "                },\n",
    "                {\n",
    "                    \"station_id\": 2,\n",
    "                    \"aperture_id\": \"AP002.04\"\n",
    "                },\n",
    "            ], \n",
    "            \"number_of_channels\": 32\n",
    "        },\n",
    "    ]}\n",
    "controller.Allocate(json.dumps(args))"
   ]
  },
  {
   "cell_type": "code",
   "execution_count": 5,
   "id": "9ebb64e9-411a-4c25-ae40-76f296edd62f",
   "metadata": {},
   "outputs": [
    {
     "name": "stdout",
     "output_type": "stream",
     "text": [
      "Controller resources allocated to subarray 1: {\"subarray_beams\": [\"low-mccs/subarraybeam/01\", \"low-mccs/subarraybeam/02\"], \"station_beams\": [\"low-mccs/beam/001\", \"low-mccs/beam/002\", \"low-mccs/beam/003\", \"low-mccs/beam/004\"]}\n",
      "Subarray resources\n",
      "- Stations:       ('low-mccs/station/001', 'low-mccs/station/002')\n",
      "- Subarray beams: ('low-mccs/subarraybeam/01', 'low-mccs/subarraybeam/02')\n",
      "- Station beams:  ('low-mccs/beam/001', 'low-mccs/beam/002', 'low-mccs/beam/003', 'low-mccs/beam/004')\n",
      "- All assigned resources: {'interface': 'https://schema.skao.int/ska-low-mccs-assignedresources/1.0', 'subarray_beam_ids': ['1', '2'], 'station_beam_ids': ['1', '2', '3', '4'], 'station_ids': ['1', '2'], 'apertures': ['AP001.01', 'AP001.02', 'AP001.03', 'AP002.04'], 'channels': [64]}\n"
     ]
    }
   ],
   "source": [
    "print(f\"Controller resources allocated to subarray 1: {controller.GetAssignedResources(1)}\")\n",
    "print(f\"Subarray resources\\n- Stations:       {sa1.stationFQDNs}\")\n",
    "print(f\"- Subarray beams: {sa1.subarraybeamfqdns}\")\n",
    "print(f\"- Station beams:  {sa1.stationbeamfqdns}\")\n",
    "print(f\"- All assigned resources: {json.loads((sa1.assignedresources))}\")"
   ]
  },
  {
   "cell_type": "code",
   "execution_count": 8,
   "id": "3bffd9f8-3d11-45e7-af49-aaa1c63cea21",
   "metadata": {},
   "outputs": [
    {
     "data": {
      "text/plain": [
       "[array([0], dtype=int32), ['Release command completed OK']]"
      ]
     },
     "execution_count": 8,
     "metadata": {},
     "output_type": "execute_result"
    }
   ],
   "source": [
    "controller.ReleaseAll()"
   ]
  },
  {
   "cell_type": "code",
   "execution_count": 25,
   "id": "b22fa0cf-0c73-4dac-9340-23a85d86bd38",
   "metadata": {},
   "outputs": [
    {
     "name": "stdout",
     "output_type": "stream",
     "text": [
      "Controller resources allocated to subarray 1: {}\n",
      "Subarray resources\n",
      "- Stations:       ()\n",
      "- Subarray beams: ()\n",
      "- Station beams:  ()\n",
      "- All assigned resources: {'interface': 'https://schema.skao.int/ska-low-mccs-assignedresources/1.0', 'subarray_beam_ids': [], 'station_beam_ids': [], 'station_ids': [], 'apertures': [], 'channels': [0]}\n"
     ]
    }
   ],
   "source": [
    "print(f\"Controller resources allocated to subarray 1: {controller.GetAssignedResources(1)}\")\n",
    "print(f\"Subarray resources\\n- Stations:       {sa1.stationFQDNs}\")\n",
    "print(f\"- Subarray beams: {sa1.subarraybeamfqdns}\")\n",
    "print(f\"- Station beams:  {sa1.stationbeamfqdns}\")\n",
    "print(f\"- All assigned resources: {json.loads((sa1.assignedresources))}\")"
   ]
  },
  {
   "cell_type": "markdown",
   "id": "f4d6f98e-be2e-4d56-a1fc-28c9d5870aba",
   "metadata": {},
   "source": [
    "Reallocate the same resources to subarray 1. Configure subarray 1 with multiple bands and independent pointing in each beam. Substations cannot yet be defined (there is no aperture weight database). "
   ]
  },
  {
   "cell_type": "code",
   "execution_count": 24,
   "id": "c141ccfe-2303-49e1-9fc0-eb353d65449c",
   "metadata": {},
   "outputs": [
    {
     "data": {
      "text/plain": [
       "[array([3], dtype=int32), ['Command failed']]"
      ]
     },
     "execution_count": 24,
     "metadata": {},
     "output_type": "execute_result"
    }
   ],
   "source": [
    "controller.Allocate(json.dumps(args))"
   ]
  },
  {
   "cell_type": "code",
   "execution_count": 31,
   "id": "b4620b7f-bc7f-4793-a8d2-bce63a63dca6",
   "metadata": {},
   "outputs": [
    {
     "data": {
      "text/plain": [
       "[array([2], dtype=int32), ['1698735533.6456742_122779193411418_Configure']]"
      ]
     },
     "execution_count": 31,
     "metadata": {},
     "output_type": "execute_result"
    }
   ],
   "source": [
    "sa_configuration = {\n",
    "    \"subarray_beams\": [\n",
    "        {\n",
    "            \"subarray_beam_id\": 1,\n",
    "            \"update_rate\": 5.0,\n",
    "            \"logical_bands\": [\n",
    "                {\n",
    "                    \"start_channel\": 66,\n",
    "                    \"number_of_channels\": 16\n",
    "                },\n",
    "                {\n",
    "                    \"start_channel\": 262,\n",
    "                    \"number_of_channels\": 16\n",
    "                }\n",
    "            ],\n",
    "            \"sky_coordinates\": {\n",
    "                \"reference_frame\": \"ICRS\",\n",
    "                \"timestamp\": \"2023-04-05T12:34:56.000Z\",\n",
    "                \"c1\": 123.45,\n",
    "                \"c1_rate\": 0.0,\n",
    "                \"c2\": -12.34,\n",
    "                \"c2_rate\": 0.0,\n",
    "            },\n",
    "            \"apertures\": [\n",
    "                {\"aperture_id\": \"AP001.01\"},\n",
    "                {\"aperture_id\": \"AP001.02\"},\n",
    "            ]\n",
    "        },\n",
    "        {\n",
    "            \"subarray_beam_id\": 2,\n",
    "            \"update_rate\": 10.0,\n",
    "            \"logical_bands\": [\n",
    "                {\n",
    "                    \"start_channel\": 166,\n",
    "                    \"number_of_channels\": 16\n",
    "                },\n",
    "                {\n",
    "                    \"start_channel\": 200,\n",
    "                    \"number_of_channels\": 16\n",
    "                }\n",
    "            ],\n",
    "            \"sky_coordinates\": {\n",
    "                \"reference_frame\": \"ICRS\",\n",
    "                \"timestamp\": \"2023-04-05T12:34:56.000Z\",\n",
    "                \"c1\": 234.45,\n",
    "                \"c1_rate\": 0.001,\n",
    "                \"c2\": 23.34,\n",
    "                \"c2_rate\": 0.001,\n",
    "            },\n",
    "            \"apertures\": [\n",
    "                {\"aperture_id\": \"AP001.03\"},\n",
    "                {\"aperture_id\": \"AP002.04\"},\n",
    "            ]\n",
    "        },\n",
    "    ]\n",
    "}\n",
    "sa1.Configure(json.dumps(sa_configuration))"
   ]
  },
  {
   "cell_type": "markdown",
   "id": "34e44e7b-0c42-4b90-a5e3-22fb5afdca9e",
   "metadata": {},
   "source": [
    "Check that the configuration arrived to the station beams. Check that: \n",
    "1) Each Station beam has correct aperture, station and pointing\n",
    "2) Each Station beam has built a table of beamformer channel blocks. Table entry specifies:\n",
    "    1) table entry (station channel block)\n",
    "    2) start physical channel. 0 means unused\n",
    "    3) hardware beam used by station\n",
    "    4) subarray ID\n",
    "    5) start subarray logical channel\n",
    "    6) subarray beam ID\n",
    "    7) substation ID\n",
    "    8) aperture ID\n",
    "3) Each Station has assembled the beamformer table from all subarray beams"
   ]
  },
  {
   "cell_type": "code",
   "execution_count": 32,
   "id": "2246fa46-bf95-4007-a90a-5000e9d5cd87",
   "metadata": {},
   "outputs": [
    {
     "name": "stdout",
     "output_type": "stream",
     "text": [
      "beam 1: subarray beam 1:1 ID AP001.01 assigned to station 1 (low-mccs/station/001)\n",
      "Pointing (ICRS) [123.45   0.   -12.34   0.  ] at time 2023-04-05T12:34:56.000Z - HW beam 0\n",
      "Channel table: \n",
      "[[  0  66   0   1   0   1   1 101]\n",
      " [  1  74   0   1   8   1   1 101]\n",
      " [  2 262   0   1  16   1   1 101]\n",
      " [  3 270   0   1  24   1   1 101]]\n",
      "Beam low-mccs/beam/001 is in state 4\n",
      "beam 2: subarray beam 1:1 ID AP001.02 assigned to station 1 (low-mccs/station/001)\n",
      "Pointing (ICRS) [123.45   0.   -12.34   0.  ] at time 2023-04-05T12:34:56.000Z - HW beam 1\n",
      "Channel table: \n",
      "[[  4  66   1   1   0   1   2 102]\n",
      " [  5  74   1   1   8   1   2 102]\n",
      " [  6 262   1   1  16   1   2 102]\n",
      " [  7 270   1   1  24   1   2 102]]\n",
      "Beam low-mccs/beam/002 is in state 4\n",
      "beam 3: subarray beam 1:2 ID AP001.03 assigned to station 1 (low-mccs/station/001)\n",
      "Pointing (ICRS) [2.3445e+02 1.0000e-03 2.3340e+01 1.0000e-03] at time 2023-04-05T12:34:56.000Z - HW beam 2\n",
      "Channel table: \n",
      "[[  8 166   2   1  32   2   3 103]\n",
      " [  9 174   2   1  40   2   3 103]\n",
      " [ 10 200   2   1  48   2   3 103]\n",
      " [ 11 208   2   1  56   2   3 103]]\n",
      "Beam low-mccs/beam/003 is in state 4\n",
      "beam 4: subarray beam 1:2 ID AP002.04 assigned to station 2 (low-mccs/station/002)\n",
      "Pointing (ICRS) [2.3445e+02 1.0000e-03 2.3340e+01 1.0000e-03] at time 2023-04-05T12:34:56.000Z - HW beam 0\n",
      "Channel table: \n",
      "[[  0 166   0   1  32   2   4 204]\n",
      " [  1 174   0   1  40   2   4 204]\n",
      " [  2 200   0   1  48   2   4 204]\n",
      " [  3 208   0   1  56   2   4 204]]\n",
      "Beam low-mccs/beam/004 is in state 4\n",
      "low-mccs/station/001: 96 total channels. Channel table:\n",
      "[[  0  66   0   1   0   1   1 101]\n",
      " [  1  74   0   1   8   1   1 101]\n",
      " [  2 262   0   1  16   1   1 101]\n",
      " [  3 270   0   1  24   1   1 101]\n",
      " [  4  66   1   1   0   1   2 102]\n",
      " [  5  74   1   1   8   1   2 102]\n",
      " [  6 262   1   1  16   1   2 102]\n",
      " [  7 270   1   1  24   1   2 102]\n",
      " [  8 166   2   1  32   2   3 103]\n",
      " [  9 174   2   1  40   2   3 103]\n",
      " [ 10 200   2   1  48   2   3 103]\n",
      " [ 11 208   2   1  56   2   3 103]]\n",
      "low-mccs/station/002: 32 total channels. Channel table:\n",
      "[[  0 166   0   1  32   2   4 204]\n",
      " [  1 174   0   1  40   2   4 204]\n",
      " [  2 200   0   1  48   2   4 204]\n",
      " [  3 208   0   1  56   2   4 204]]\n"
     ]
    }
   ],
   "source": [
    "for sb in [sb1, sb2, sb3, sb4]:\n",
    "    print(f\"beam {sb.beamId}: subarray beam {sb.subarrayId}:{sb.logicalBeamId} ID {sb.apertureId} assigned to station {sb.stationId} ({sb.stationFqdn})\")\n",
    "    print(f\"Pointing ({sb.pointingReferenceFrame}) {sb.desiredPointing} at time {sb.pointingTimestamp} - HW beam {sb.hardwareBeamId}\")\n",
    "    print(f\"Channel table: \\n{sb.channels}\")\n",
    "    print(f\"Beam {sb.name()} is in state {sb.obsState}\")\n",
    "for st in [st1, st2]:\n",
    "    print(f\"{st.name()}: {st.numberOfChannels} total channels. Channel table:\\n{st.beamformerTable}\") "
   ]
  },
  {
   "cell_type": "markdown",
   "id": "51bd6c84-c84b-4c73-994d-15f32f77dfde",
   "metadata": {},
   "source": [
    "1) Deconfigure and reconfigure the subarray\n",
    "2) Reconfigure an aready configured subarray\n",
    "3) Deconfigure and deallocate everything\n",
    "4) Turn off a TPM. The controller goes in Unknown state (partly ON, partly Off)"
   ]
  },
  {
   "cell_type": "code",
   "execution_count": 53,
   "id": "e389e3c4-0972-4d6e-ae8c-0979488c318c",
   "metadata": {},
   "outputs": [
    {
     "data": {
      "text/plain": [
       "[array([2], dtype=int32), ['1683145934.132142_270989487535411_End']]"
      ]
     },
     "execution_count": 53,
     "metadata": {},
     "output_type": "execute_result"
    }
   ],
   "source": [
    "sa1.End()"
   ]
  },
  {
   "cell_type": "code",
   "execution_count": 12,
   "id": "dab933cb-ca18-45a2-9af8-7df7e17a79ec",
   "metadata": {},
   "outputs": [
    {
     "name": "stdout",
     "output_type": "stream",
     "text": [
      "PyDs_PythonError: jsonschema.exceptions.ValidationError: 'AP1.1' does not match '^AP(?!0{3})\\\\d{3}\\\\.\\\\d{2}$'\n",
      "\n",
      "Failed validating 'pattern' in schema['properties']['subarray_beams']['items']['properties']['apertures']['items']['properties']['aperture_id']:\n",
      "    {'description': 'Aperture ID, of the form APXXX.YY, XXX=station '\n",
      "                    'YY=substation',\n",
      "     'pattern': '^AP(?!0{3})\\\\d{3}\\\\.\\\\d{2}$',\n",
      "     'type': 'string'}\n",
      "\n",
      "On instance['subarray_beams'][0]['apertures'][0]['aperture_id']:\n",
      "    'AP1.1'\n",
      "\n",
      "(For more detailed information type: tango_error)\n"
     ]
    }
   ],
   "source": [
    "sa_configuration = {\n",
    "    \"subarray_beams\": [\n",
    "        {\n",
    "            \"subarray_beam_id\": 1,\n",
    "            \"update_rate\": 5.0,\n",
    "            \"logical_bands\": [\n",
    "                {\n",
    "                    \"start_channel\": 266,\n",
    "                    \"number_of_channels\": 16\n",
    "                }\n",
    "            ],\n",
    "            \"sky_coordinates\": {\n",
    "                \"reference_frame\": \"ICRS\",\n",
    "                \"timestamp\": \"2023-04-05T12:34:56.000Z\",\n",
    "                \"c1\": 123.45,\n",
    "                \"c1_rate\": 0.0,\n",
    "                \"c2\": -12.34,\n",
    "                \"c2_rate\": 0.0,\n",
    "            },\n",
    "            \"apertures\": [\n",
    "                {\"aperture_id\": \"AP1.1\"},\n",
    "                {\"aperture_id\": \"AP1.2\"},\n",
    "            ]\n",
    "        },\n",
    "        {\n",
    "            \"subarray_beam_id\": 2,\n",
    "            \"update_rate\": 10.0,\n",
    "            \"logical_bands\": [\n",
    "                {\n",
    "                    \"start_channel\": 100,\n",
    "                    \"number_of_channels\": 24\n",
    "                }\n",
    "            ],\n",
    "            \"sky_coordinates\": {\n",
    "                \"reference_frame\": \"ICRS\",\n",
    "                \"timestamp\": \"2023-04-05T12:34:56.000Z\",\n",
    "                \"c1\": 234.45,\n",
    "                \"c1_rate\": 0.001,\n",
    "                \"c2\": 23.34,\n",
    "                \"c2_rate\": 0.001,\n",
    "            },\n",
    "            \"apertures\": [\n",
    "                {\"aperture_id\": \"AP1.3\"},\n",
    "                {\"aperture_id\": \"AP2.4\"},\n",
    "            ]\n",
    "        },\n",
    "    ]\n",
    "}\n",
    "sa1.Configure(json.dumps(sa_configuration))"
   ]
  },
  {
   "cell_type": "code",
   "execution_count": 41,
   "id": "e262deb5-bfcb-4255-b959-278ed70fd730",
   "metadata": {},
   "outputs": [
    {
     "name": "stdout",
     "output_type": "stream",
     "text": [
      "beam 1: subarray beam 1:1 ID AP001.01 assigned to station 1 (low-mccs/station/001)\n",
      "Pointing (ICRS) [123.45   0.   -12.34   0.  ] at time 2023-04-05T12:34:56.000Z - HW beam 0\n",
      "Channel table: \n",
      "[[  0  66   0   1   0   1   1 101]\n",
      " [  1  74   0   1   8   1   1 101]\n",
      " [  2 262   0   1  16   1   1 101]\n",
      " [  3 270   0   1  24   1   1 101]]\n",
      "Beam low-mccs/beam/001 is in state 4\n",
      "beam 2: subarray beam 1:1 ID AP001.02 assigned to station 1 (low-mccs/station/001)\n",
      "Pointing (ICRS) [123.45   0.   -12.34   0.  ] at time 2023-04-05T12:34:56.000Z - HW beam 1\n",
      "Channel table: \n",
      "[[  4  66   1   1   0   1   2 102]\n",
      " [  5  74   1   1   8   1   2 102]\n",
      " [  6 262   1   1  16   1   2 102]\n",
      " [  7 270   1   1  24   1   2 102]]\n",
      "Beam low-mccs/beam/002 is in state 4\n",
      "beam 3: subarray beam 1:2 ID AP001.03 assigned to station 1 (low-mccs/station/001)\n",
      "Pointing (ICRS) [2.3445e+02 1.0000e-03 2.3340e+01 1.0000e-03] at time 2023-04-05T12:34:56.000Z - HW beam 2\n",
      "Channel table: \n",
      "[[  8 166   2   1  32   2   3 103]\n",
      " [  9 174   2   1  40   2   3 103]\n",
      " [ 10 200   2   1  48   2   3 103]\n",
      " [ 11 208   2   1  56   2   3 103]]\n",
      "Beam low-mccs/beam/003 is in state 4\n",
      "beam 4: subarray beam 1:2 ID AP002.04 assigned to station 2 (low-mccs/station/002)\n",
      "Pointing (ICRS) [2.3445e+02 1.0000e-03 2.3340e+01 1.0000e-03] at time 2023-04-05T12:34:56.000Z - HW beam 0\n",
      "Channel table: \n",
      "[[  0 166   0   1  32   2   4 204]\n",
      " [  1 174   0   1  40   2   4 204]\n",
      " [  2 200   0   1  48   2   4 204]\n",
      " [  3 208   0   1  56   2   4 204]]\n",
      "Beam low-mccs/beam/004 is in state 4\n",
      "low-mccs/station/001: 96 total channels. Channel table:\n",
      "[[  0  66   0   1   0   1   1 101]\n",
      " [  1  74   0   1   8   1   1 101]\n",
      " [  2 262   0   1  16   1   1 101]\n",
      " [  3 270   0   1  24   1   1 101]\n",
      " [  4  66   1   1   0   1   2 102]\n",
      " [  5  74   1   1   8   1   2 102]\n",
      " [  6 262   1   1  16   1   2 102]\n",
      " [  7 270   1   1  24   1   2 102]\n",
      " [  8 166   2   1  32   2   3 103]\n",
      " [  9 174   2   1  40   2   3 103]\n",
      " [ 10 200   2   1  48   2   3 103]\n",
      " [ 11 208   2   1  56   2   3 103]]\n",
      "low-mccs/station/002: 32 total channels. Channel table:\n",
      "[[  0 166   0   1  32   2   4 204]\n",
      " [  1 174   0   1  40   2   4 204]\n",
      " [  2 200   0   1  48   2   4 204]\n",
      " [  3 208   0   1  56   2   4 204]]\n"
     ]
    }
   ],
   "source": [
    "for sb in [sb1, sb2, sb3, sb4]:\n",
    "    print(f\"beam {sb.beamId}: subarray beam {sb.subarrayId}:{sb.logicalBeamId} ID {sb.apertureId} assigned to station {sb.stationId} ({sb.stationFqdn})\")\n",
    "    print(f\"Pointing ({sb.pointingReferenceFrame}) {sb.desiredPointing} at time {sb.pointingTimestamp} - HW beam {sb.hardwareBeamId}\")\n",
    "    print(f\"Channel table: \\n{sb.channels}\")    \n",
    "    print(f\"Beam {sb.name()} is in state {sb.obsState}\")\n",
    "for st in [st1, st2]:\n",
    "    print(f\"{st.name()}: {st.numberOfChannels} total channels. Channel table:\\n{st.beamformerTable}\") "
   ]
  },
  {
   "cell_type": "code",
   "execution_count": 50,
   "id": "d0d30c41-ded8-4625-8cdb-f3e75720ef60",
   "metadata": {},
   "outputs": [
    {
     "data": {
      "text/plain": [
       "[array([2], dtype=int32), ['1698737836.743625_172993090082020_Scan']]"
      ]
     },
     "execution_count": 50,
     "metadata": {},
     "output_type": "execute_result"
    }
   ],
   "source": [
    "scan_id = 1234\n",
    "start_time = datetime.strftime(datetime.fromtimestamp(int(time.time())+2), RFC_FORMAT)\n",
    "sa1.scan(json.dumps({'scan_id': scan_id, 'start_time': start_time}))"
   ]
  },
  {
   "cell_type": "code",
   "execution_count": 13,
   "id": "8c13d0e3-6c22-4dbe-9e15-ff5d338d3122",
   "metadata": {},
   "outputs": [
    {
     "data": {
      "text/plain": [
       "[array([2], dtype=int32), ['1698684362.2930324_29537374896676_End']]"
      ]
     },
     "execution_count": 13,
     "metadata": {},
     "output_type": "execute_result"
    }
   ],
   "source": [
    "sa1.end()"
   ]
  },
  {
   "cell_type": "code",
   "execution_count": 57,
   "id": "081ff3f5-ece4-4bb7-a9ba-f6f5d87f94ea",
   "metadata": {},
   "outputs": [
    {
     "name": "stdout",
     "output_type": "stream",
     "text": [
      "beam 1: subarray beam 1:1 ID AP1.1 assigned to station 1 (low-mccs/station/001)\n",
      "Pointing (topocentric) [0. 0. 0. 0.] at time 2000-01-01T00:00:00.000Z - HW beam 0\n",
      "Channel table: \n",
      "[[  0   0   0   0   0   1   1 101]\n",
      " [  1   0   0   0   8   1   1 101]\n",
      " [  2   0   0   0  16   1   1 101]\n",
      " [  3   0   0   0  24   1   1 101]]\n",
      "Beam low-mccs/beam/001 is in state 2\n",
      "beam 2: subarray beam 1:1 ID AP1.2 assigned to station 1 (low-mccs/station/001)\n",
      "Pointing (topocentric) [0. 0. 0. 0.] at time 2000-01-01T00:00:00.000Z - HW beam 1\n",
      "Channel table: \n",
      "[[  4   0   1   0   0   1   2 102]\n",
      " [  5   0   1   0   8   1   2 102]\n",
      " [  6   0   1   0  16   1   2 102]\n",
      " [  7   0   1   0  24   1   2 102]]\n",
      "Beam low-mccs/beam/002 is in state 2\n",
      "beam 3: subarray beam 1:2 ID AP1.3 assigned to station 1 (low-mccs/station/001)\n",
      "Pointing (topocentric) [0. 0. 0. 0.] at time 2000-01-01T00:00:00.000Z - HW beam 2\n",
      "Channel table: \n",
      "[[  8   0   2   0  32   2   3 103]\n",
      " [  9   0   2   0  40   2   3 103]\n",
      " [ 10   0   2   0  48   2   3 103]\n",
      " [ 11   0   2   0  56   2   3 103]]\n",
      "Beam low-mccs/beam/003 is in state 2\n",
      "beam 4: subarray beam 1:2 ID AP2.4 assigned to station 2 (low-mccs/station/002)\n",
      "Pointing (topocentric) [0. 0. 0. 0.] at time 2000-01-01T00:00:00.000Z - HW beam 0\n",
      "Channel table: \n",
      "[[  0   0   0   0  32   2   4 204]\n",
      " [  1   0   0   0  40   2   4 204]\n",
      " [  2   0   0   0  48   2   4 204]\n",
      " [  3   0   0   0  56   2   4 204]]\n",
      "Beam low-mccs/beam/004 is in state 2\n",
      "low-mccs/station/001: 0 total channels. Channel table:\n",
      "[]\n",
      "low-mccs/station/002: 0 total channels. Channel table:\n",
      "[]\n"
     ]
    }
   ],
   "source": [
    "for sb in [sb1, sb2, sb3, sb4]:\n",
    "    print(f\"beam {sb.beamId}: subarray beam {sb.subarrayId}:{sb.logicalBeamId} ID {sb.apertureId} assigned to station {sb.stationId} ({sb.stationFqdn})\")\n",
    "    print(f\"Pointing ({sb.pointingReferenceFrame}) {sb.desiredPointing} at time {sb.pointingTimestamp} - HW beam {sb.hardwareBeamId}\")\n",
    "    print(f\"Channel table: \\n{sb.channels}\")    \n",
    "    print(f\"Beam {sb.name()} is in state {sb.obsState}\")\n",
    "for st in [st1, st2]:\n",
    "    print(f\"{st.name()}: {st.numberOfChannels} total channels. Channel table:\\n{st.beamformerTable}\") "
   ]
  },
  {
   "cell_type": "code",
   "execution_count": 58,
   "id": "c36966f4-d3d4-4d80-9433-1bf9d82ff19e",
   "metadata": {},
   "outputs": [
    {
     "data": {
      "text/plain": [
       "[array([0], dtype=int32), ['Release command completed OK']]"
      ]
     },
     "execution_count": 58,
     "metadata": {},
     "output_type": "execute_result"
    }
   ],
   "source": [
    "controller.Release('{}')"
   ]
  },
  {
   "cell_type": "code",
   "execution_count": 59,
   "id": "e9aca58e-f2c6-4256-ae8e-bf01bd209a45",
   "metadata": {},
   "outputs": [
    {
     "data": {
      "text/plain": [
       "'{\"interface\": \"https://schema.skao.int/ska-low-mccs-assignedresources/1.0\", \"subarray_beam_ids\": [], \"station_beam_ids\": [], \"station_ids\": [], \"apertures\": [], \"channels\": [0]}'"
      ]
     },
     "execution_count": 59,
     "metadata": {},
     "output_type": "execute_result"
    }
   ],
   "source": [
    "sa1.assignedresources"
   ]
  },
  {
   "cell_type": "code",
   "execution_count": 60,
   "id": "16fd0fa5-9226-474e-97f8-b699273b550e",
   "metadata": {},
   "outputs": [
    {
     "data": {
      "text/plain": [
       "tango._tango.DevState.UNKNOWN"
      ]
     },
     "execution_count": 60,
     "metadata": {},
     "output_type": "execute_result"
    }
   ],
   "source": [
    "t1.off()\n",
    "time.sleep(0.5)\n",
    "controller.State()"
   ]
  },
  {
   "cell_type": "code",
   "execution_count": 9,
   "id": "1509c174-75d2-4eb9-937f-24af922e7652",
   "metadata": {},
   "outputs": [
    {
     "data": {
      "text/plain": [
       "'{\"interface\": \"https://schema.skao.int/ska-low-mccs-assignedresources/1.0\", \"subarray_beam_ids\": [\"1\", \"2\"], \"station_beam_ids\": [\"1\", \"2\", \"3\", \"4\"], \"station_ids\": [\"1\", \"2\"], \"apertures\": [\"AP001.01\", \"AP001.02\", \"AP001.03\", \"AP002.04\"], \"channels\": [64]}'"
      ]
     },
     "execution_count": 9,
     "metadata": {},
     "output_type": "execute_result"
    }
   ],
   "source": [
    "sa1.assignedresources"
   ]
  },
  {
   "cell_type": "code",
   "execution_count": 11,
   "id": "b09979a4-9c06-4f33-9647-f8263d6c9964",
   "metadata": {},
   "outputs": [],
   "source": [
    "sc = tango.DeviceProxy('low-mccs/stationcalibrator/ci-1')"
   ]
  },
  {
   "cell_type": "code",
   "execution_count": 14,
   "id": "e8bcd8b9-b224-482b-8231-a373945c3c48",
   "metadata": {},
   "outputs": [
    {
     "data": {
      "text/plain": [
       "'The device is in UNKNOWN state.'"
      ]
     },
     "execution_count": 14,
     "metadata": {},
     "output_type": "execute_result"
    }
   ],
   "source": [
    "sc.status()"
   ]
  },
  {
   "cell_type": "code",
   "execution_count": 13,
   "id": "bee077c7-67eb-4559-a506-22ef43aa4beb",
   "metadata": {},
   "outputs": [],
   "source": [
    "sc.adminmode=0"
   ]
  },
  {
   "cell_type": "code",
   "execution_count": 33,
   "id": "f253500d-c7bc-4010-9177-2dfe7a2341ed",
   "metadata": {},
   "outputs": [
    {
     "name": "stdout",
     "output_type": "stream",
     "text": [
      "[[ 66   0   1   0   1   1 101]\n",
      " [ 74   0   1   8   1   1 101]\n",
      " [262   0   1  16   1   1 101]\n",
      " [270   0   1  24   1   1 101]\n",
      " [ 66   1   1   0   1   2 102]\n",
      " [ 74   1   1   8   1   2 102]\n",
      " [262   1   1  16   1   2 102]\n",
      " [270   1   1  24   1   2 102]\n",
      " [166   2   1  32   2   3 103]\n",
      " [174   2   1  40   2   3 103]\n",
      " [200   2   1  48   2   3 103]\n",
      " [208   2   1  56   2   3 103]\n",
      " [  0   0   0   0   0   0   0]\n",
      " [  0   0   0   0   0   0   0]\n",
      " [  0   0   0   0   0   0   0]\n",
      " [  0   0   0   0   0   0   0]\n",
      " [  0   0   0   0   0   0   0]\n",
      " [  0   0   0   0   0   0   0]\n",
      " [  0   0   0   0   0   0   0]\n",
      " [  0   0   0   0   0   0   0]\n",
      " [  0   0   0   0   0   0   0]\n",
      " [  0   0   0   0   0   0   0]\n",
      " [  0   0   0   0   0   0   0]\n",
      " [  0   0   0   0   0   0   0]\n",
      " [  0   0   0   0   0   0   0]\n",
      " [  0   0   0   0   0   0   0]\n",
      " [  0   0   0   0   0   0   0]\n",
      " [  0   0   0   0   0   0   0]\n",
      " [  0   0   0   0   0   0   0]\n",
      " [  0   0   0   0   0   0   0]\n",
      " [  0   0   0   0   0   0   0]\n",
      " [  0   0   0   0   0   0   0]\n",
      " [  0   0   0   0   0   0   0]\n",
      " [  0   0   0   0   0   0   0]\n",
      " [  0   0   0   0   0   0   0]\n",
      " [  0   0   0   0   0   0   0]\n",
      " [  0   0   0   0   0   0   0]\n",
      " [  0   0   0   0   0   0   0]\n",
      " [  0   0   0   0   0   0   0]\n",
      " [  0   0   0   0   0   0   0]\n",
      " [  0   0   0   0   0   0   0]\n",
      " [  0   0   0   0   0   0   0]\n",
      " [  0   0   0   0   0   0   0]\n",
      " [  0   0   0   0   0   0   0]\n",
      " [  0   0   0   0   0   0   0]\n",
      " [  0   0   0   0   0   0   0]\n",
      " [  0   0   0   0   0   0   0]\n",
      " [  0   0   0   0   0   0   0]]\n"
     ]
    }
   ],
   "source": [
    "print(spsst1.beamformertable.reshape(-1,7))"
   ]
  },
  {
   "cell_type": "code",
   "execution_count": 40,
   "id": "b5e78fef-08af-441a-8f8d-3ece7b26bfdf",
   "metadata": {},
   "outputs": [
    {
     "data": {
      "text/plain": [
       "array([[ 66,   0,   1,   0,   1,   1, 101],\n",
       "       [ 74,   0,   1,   8,   1,   1, 101],\n",
       "       [262,   0,   1,  16,   1,   1, 101],\n",
       "       [270,   0,   1,  24,   1,   1, 101],\n",
       "       [ 66,   1,   1,   0,   1,   2, 101],\n",
       "       [ 74,   1,   1,   8,   1,   2, 101],\n",
       "       [262,   1,   1,  16,   1,   2, 101],\n",
       "       [270,   1,   1,  24,   1,   2, 101],\n",
       "       [166,   2,   1,  32,   2,   3, 101],\n",
       "       [174,   2,   1,  40,   2,   3, 101],\n",
       "       [200,   2,   1,  48,   2,   3, 101],\n",
       "       [208,   2,   1,  56,   2,   3, 101]], dtype=int32)"
      ]
     },
     "execution_count": 40,
     "metadata": {},
     "output_type": "execute_result"
    }
   ],
   "source": [
    "t1.beamformertable.reshape(-1,7)"
   ]
  },
  {
   "cell_type": "code",
   "execution_count": null,
   "id": "1808584e-b32b-4880-a619-2412c75c95a6",
   "metadata": {},
   "outputs": [],
   "source": []
  },
  {
   "cell_type": "code",
   "execution_count": 10,
   "id": "9ec5e30d-fdec-46f5-abe4-8e635c6548c5",
   "metadata": {},
   "outputs": [
    {
     "data": {
      "text/plain": [
       "array([1, 2], dtype=int32)"
      ]
     },
     "execution_count": 10,
     "metadata": {},
     "output_type": "execute_result"
    }
   ],
   "source": [
    "sab1.stationbeamids"
   ]
  },
  {
   "cell_type": "code",
   "execution_count": 23,
   "id": "3b9c5378-0ece-456f-aea7-27d874b08eb4",
   "metadata": {},
   "outputs": [
    {
     "name": "stdout",
     "output_type": "stream",
     "text": [
      "NameError: name 'sab3' is not defined\n",
      "(For more detailed information type: python_error)\n"
     ]
    }
   ],
   "source": [
    "sab3.releaseallresources()"
   ]
  },
  {
   "cell_type": "code",
   "execution_count": 17,
   "id": "3d26a735-c8fd-4917-9de6-1d9f71cb6e20",
   "metadata": {},
   "outputs": [
    {
     "name": "stdout",
     "output_type": "stream",
     "text": [
      "\u001b[0;31m---------------------------------------------------------------------------\u001b[0m\n",
      "\u001b[0;31mAttributeError\u001b[0m                            Traceback (most recent call last)\n",
      "Cell \u001b[0;32mIn [16], line 1\u001b[0m\n",
      "\u001b[0;32m----> 1\u001b[0m \u001b[43msab1\u001b[49m\u001b[38;5;241;43m.\u001b[39;49m\u001b[43mrelease\u001b[49m\n",
      "\n",
      "File \u001b[0;32m/opt/conda/lib/python3.10/site-packages/tango/device_proxy.py:452\u001b[0m, in \u001b[0;36m__DeviceProxy__getattr\u001b[0;34m(self, name)\u001b[0m\n",
      "\u001b[1;32m    449\u001b[0m     \u001b[38;5;28;01mif\u001b[39;00m name_l \u001b[38;5;129;01min\u001b[39;00m \u001b[38;5;28mself\u001b[39m\u001b[38;5;241m.\u001b[39m__get_pipe_cache():\n",
      "\u001b[1;32m    450\u001b[0m         \u001b[38;5;28;01mreturn\u001b[39;00m \u001b[38;5;28mself\u001b[39m\u001b[38;5;241m.\u001b[39mread_pipe(name)\n",
      "\u001b[0;32m--> 452\u001b[0m     \u001b[38;5;28;01mraise\u001b[39;00m \u001b[38;5;167;01mAttributeError\u001b[39;00m(name) \u001b[38;5;28;01mfrom\u001b[39;00m \u001b[38;5;21;01mcause\u001b[39;00m\n",
      "\u001b[1;32m    453\u001b[0m \u001b[38;5;28;01mfinally\u001b[39;00m:\n",
      "\u001b[1;32m    454\u001b[0m     \u001b[38;5;28;01mdel\u001b[39;00m cause\n",
      "\n",
      "\u001b[0;31mAttributeError\u001b[0m: release\n"
     ]
    }
   ],
   "source": [
    "python_error"
   ]
  },
  {
   "cell_type": "code",
   "execution_count": 23,
   "id": "ed0941ad-841b-4ac2-b889-baaef71a43b7",
   "metadata": {},
   "outputs": [
    {
     "data": {
      "text/plain": [
       "[array([2], dtype=int32), ['1698685122.630704_263311607334922_Initialise']]"
      ]
     },
     "execution_count": 23,
     "metadata": {},
     "output_type": "execute_result"
    }
   ],
   "source": [
    "spsst1.initialise()"
   ]
  },
  {
   "cell_type": "code",
   "execution_count": 26,
   "id": "bc36b691-e4ff-4eaa-af9f-237ee1e1a7f7",
   "metadata": {},
   "outputs": [],
   "source": [
    "t1.statictimedelays = [0]*32"
   ]
  },
  {
   "cell_type": "code",
   "execution_count": 24,
   "id": "5ad2b37d-730a-463c-a226-046f0fa5e9f4",
   "metadata": {},
   "outputs": [],
   "source": [
    "t1.statictimedelays=list(range(32))"
   ]
  },
  {
   "cell_type": "code",
   "execution_count": 27,
   "id": "d8e08a95-d29c-4809-9fcd-153c54dd6a28",
   "metadata": {},
   "outputs": [
    {
     "data": {
      "text/plain": [
       "array([0., 0., 0., 0., 0., 0., 0., 0., 0., 0., 0., 0., 0., 0., 0., 0., 0.,\n",
       "       0., 0., 0., 0., 0., 0., 0., 0., 0., 0., 0., 0., 0., 0., 0.])"
      ]
     },
     "execution_count": 27,
     "metadata": {},
     "output_type": "execute_result"
    }
   ],
   "source": [
    "t1.statictimedelays"
   ]
  },
  {
   "cell_type": "code",
   "execution_count": 28,
   "id": "7d885f70-57aa-4a8e-8d5f-64e7e0980b2f",
   "metadata": {},
   "outputs": [
    {
     "data": {
      "text/plain": [
       "[array([2], dtype=int32), ['1698735374.059577_133966971971195_Initialise']]"
      ]
     },
     "execution_count": 28,
     "metadata": {},
     "output_type": "execute_result"
    }
   ],
   "source": [
    "t1.initialise()\n",
    "t2.initialise()"
   ]
  },
  {
   "cell_type": "code",
   "execution_count": 35,
   "id": "6a2d9cd3-6b26-414d-8077-cf15567c62be",
   "metadata": {},
   "outputs": [],
   "source": [
    "table = spsst1.beamformertable"
   ]
  },
  {
   "cell_type": "code",
   "execution_count": 39,
   "id": "cd38b17c-172f-4a80-a9fb-3035411f247f",
   "metadata": {},
   "outputs": [
    {
     "data": {
      "text/plain": [
       "[array([0], dtype=int32), ['SetBeamFormerTable command completed OK']]"
      ]
     },
     "execution_count": 39,
     "metadata": {},
     "output_type": "execute_result"
    }
   ],
   "source": [
    "spsst1.SetBeamformerTable(table)"
   ]
  },
  {
   "cell_type": "code",
   "execution_count": 46,
   "id": "486e4442-184e-4741-a82d-fc9ca20ef1d1",
   "metadata": {},
   "outputs": [
    {
     "data": {
      "text/plain": [
       "[array([0], dtype=int32), ['SetCspIngest command completed OK']]"
      ]
     },
     "execution_count": 46,
     "metadata": {},
     "output_type": "execute_result"
    }
   ],
   "source": [
    "spsst1.SetCspIngest(json.dumps({'destination_ip': '10.0.0.98'}))"
   ]
  },
  {
   "cell_type": "code",
   "execution_count": 47,
   "id": "bf855adc-0e97-4d26-84e9-e28ff13b9d4f",
   "metadata": {},
   "outputs": [
    {
     "data": {
      "text/plain": [
       "<obsState.READY: 4>"
      ]
     },
     "execution_count": 47,
     "metadata": {},
     "output_type": "execute_result"
    }
   ],
   "source": [
    "sa1.obsstate"
   ]
  },
  {
   "cell_type": "code",
   "execution_count": 51,
   "id": "957b7e32-d1dc-4272-b18a-fb7380f564c8",
   "metadata": {},
   "outputs": [
    {
     "data": {
      "text/plain": [
       "True"
      ]
     },
     "execution_count": 51,
     "metadata": {},
     "output_type": "execute_result"
    }
   ],
   "source": [
    "t1.isbeamformerrunning"
   ]
  },
  {
   "cell_type": "code",
   "execution_count": 62,
   "id": "83c80943-e2bc-45b0-90a0-eca9106237a2",
   "metadata": {},
   "outputs": [],
   "source": [
    "conf = json.loads(t1.get40gcoreconfiguration(json.dumps({'core_id':0})))"
   ]
  },
  {
   "cell_type": "code",
   "execution_count": 71,
   "id": "3219b335-878f-470b-b102-d6d3975181d4",
   "metadata": {},
   "outputs": [
    {
     "data": {
      "text/plain": [
       "'{\"core_id\": 0, \"arp_table_entry\": 0, \"source_mac\": 107752307294362, \"source_ip\": \"10.0.0.154\", \"source_port\": 61648, \"destination_ip\": \"10.0.0.98\", \"destination_port\": 4660}'"
      ]
     },
     "execution_count": 71,
     "metadata": {},
     "output_type": "execute_result"
    }
   ],
   "source": [
    "t2.get40gcoreconfiguration(json.dumps({'core_id':0}))"
   ]
  },
  {
   "cell_type": "code",
   "execution_count": 69,
   "id": "f206882e-5371-4eac-a6c4-0eeefe9f9c08",
   "metadata": {},
   "outputs": [
    {
     "data": {
      "text/plain": [
       "[array([0], dtype=int32), ['Configure40GCore command completed OK']]"
      ]
     },
     "execution_count": 69,
     "metadata": {},
     "output_type": "execute_result"
    }
   ],
   "source": [
    "conf[\"core_id\"] = 0\n",
    "conf[\"source_ip\"] = '10.0.0.152'\n",
    "conf[\"destination_ip\"] = '10.0.0.154'\n",
    "t1.configure40gcore(json.dumps(conf))\n",
    "conf[\"core_id\"] = 1\n",
    "conf[\"source_ip\"] = '10.0.0.152'\n",
    "conf[\"destination_ip\"] = '10.0.0.154'\n",
    "t1.configure40gcore(json.dumps(conf))"
   ]
  },
  {
   "cell_type": "code",
   "execution_count": 73,
   "id": "b8ebcc42-cac8-448a-90e6-4c54dde66190",
   "metadata": {},
   "outputs": [
    {
     "data": {
      "text/plain": [
       "True"
      ]
     },
     "execution_count": 73,
     "metadata": {},
     "output_type": "execute_result"
    }
   ],
   "source": [
    "t2.isbeamformerrunning"
   ]
  },
  {
   "cell_type": "code",
   "execution_count": 75,
   "id": "0155a1c9-315f-4659-ae3b-9138ab8b4ed0",
   "metadata": {},
   "outputs": [
    {
     "data": {
      "text/plain": [
       "[array([0], dtype=int32), ['StartBeamformer command completed OK']]"
      ]
     },
     "execution_count": 75,
     "metadata": {},
     "output_type": "execute_result"
    }
   ],
   "source": [
    "t1.startbeamformer('{}')"
   ]
  },
  {
   "cell_type": "code",
   "execution_count": 3,
   "id": "a490ddfc-c72b-48d5-9abc-97a07e05f7e0",
   "metadata": {},
   "outputs": [
    {
     "data": {
      "text/plain": [
       "[array([5], dtype=int32), ['Device is already in ON state.']]"
      ]
     },
     "execution_count": 3,
     "metadata": {},
     "output_type": "execute_result"
    }
   ],
   "source": [
    "spsst1.on()"
   ]
  },
  {
   "cell_type": "code",
   "execution_count": 9,
   "id": "9a553603-a8d1-4d0e-94e0-f3a5f7496eea",
   "metadata": {},
   "outputs": [
    {
     "data": {
      "text/plain": [
       "'The device is in UNKNOWN state.'"
      ]
     },
     "execution_count": 9,
     "metadata": {},
     "output_type": "execute_result"
    }
   ],
   "source": [
    "sr1.status()"
   ]
  },
  {
   "cell_type": "code",
   "execution_count": 5,
   "id": "d0cbc496-3c49-4ec0-9877-f8d7c267aa4b",
   "metadata": {},
   "outputs": [
    {
     "data": {
      "text/plain": [
       "[array([2], dtype=int32), ['1698759377.9843724_264759503298762_On']]"
      ]
     },
     "execution_count": 5,
     "metadata": {},
     "output_type": "execute_result"
    }
   ],
   "source": [
    "spsst2.on()"
   ]
  },
  {
   "cell_type": "code",
   "execution_count": 10,
   "id": "a4a4d95b-db81-41a9-ab0a-0c223c789e91",
   "metadata": {},
   "outputs": [
    {
     "data": {
      "text/plain": [
       "[array([2], dtype=int32), ['1698759664.6342075_114643505047742_Off']]"
      ]
     },
     "execution_count": 10,
     "metadata": {},
     "output_type": "execute_result"
    }
   ],
   "source": [
    "spsst1.on()"
   ]
  },
  {
   "cell_type": "code",
   "execution_count": 13,
   "id": "e3083e7a-b699-43ca-867b-321b2cf3dcb7",
   "metadata": {},
   "outputs": [
    {
     "data": {
      "text/plain": [
       "[array([2], dtype=int32), ['1698762968.6610122_160752091154532_Off']]"
      ]
     },
     "execution_count": 13,
     "metadata": {},
     "output_type": "execute_result"
    }
   ],
   "source": [
    "t2.off()"
   ]
  },
  {
   "cell_type": "code",
   "execution_count": null,
   "id": "66cc50a6-a23a-47cb-a008-1e3682040ecb",
   "metadata": {},
   "outputs": [],
   "source": []
  }
 ],
 "metadata": {
  "kernelspec": {
   "display_name": "jupyTango",
   "language": "python",
   "name": "jupytango"
  },
  "language_info": {
   "codemirror_mode": {
    "name": "ipython",
    "version": 3
   },
   "file_extension": ".py",
   "mimetype": "text/x-python",
   "name": "python",
   "nbconvert_exporter": "python",
   "pygments_lexer": "ipython3",
   "version": "3.10.6"
  }
 },
 "nbformat": 4,
 "nbformat_minor": 5
}
