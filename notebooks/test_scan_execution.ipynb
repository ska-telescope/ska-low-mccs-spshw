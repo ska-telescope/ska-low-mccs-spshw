{
 "cells": [
  {
   "cell_type": "code",
   "execution_count": 2,
   "id": "4f38b9df-be2c-4d92-b7b1-400c30427e45",
   "metadata": {},
   "outputs": [],
   "source": [
    "import tango\n",
    "import time\n",
    "import json\n",
    "import numpy as np\n",
    "\n",
    "from ska_control_model import (\n",
    "    AdminMode,\n",
    "    CommunicationStatus,\n",
    "    HealthState,\n",
    "    PowerState,\n",
    "    ResultCode,\n",
    "    TaskStatus,\n",
    "    SimulationMode,\n",
    "    TestMode,\n",
    ")\n",
    "\n",
    "# for time conversion\n",
    "from datetime import datetime,timezone\n",
    "RFC_FORMAT = \"%Y-%m-%dT%H:%M:%S.%fZ\"\n",
    "# define devices\n",
    "controller = tango.DeviceProxy('low-mccs/control/control')\n",
    "sa1 = tango.DeviceProxy('low-mccs/subarray/01')\n",
    "sa2 = tango.DeviceProxy('low-mccs/subarray/02')\n",
    "sab1 = tango.DeviceProxy('low-mccs/subarraybeam/01')\n",
    "sab2 = tango.DeviceProxy('low-mccs/subarraybeam/02')\n",
    "st1 = tango.DeviceProxy('low-mccs/station/001')\n",
    "st2 = tango.DeviceProxy('low-mccs/station/002')\n",
    "sb1 = tango.DeviceProxy('low-mccs/beam/001')\n",
    "sb2 = tango.DeviceProxy('low-mccs/beam/002')\n",
    "sb3 = tango.DeviceProxy('low-mccs/beam/003')\n",
    "sb4 = tango.DeviceProxy('low-mccs/beam/004')\n",
    "spsst1 = tango.DeviceProxy('low-mccs/spsstation/ci-1')\n",
    "spsst2 = tango.DeviceProxy('low-mccs/spsstation/ci-2')\n",
    "sr1 = tango.DeviceProxy('low-mccs/subrack/ci-1-1')\n",
    "sr2 = tango.DeviceProxy('low-mccs/subrack/ci-2-1')\n",
    "t1 = tango.DeviceProxy('low-mccs/tile/ci-1-13')\n",
    "t2 = tango.DeviceProxy('low-mccs/tile/ci-1-17')\n",
    "t3 = tango.DeviceProxy('low-mccs/tile/ci-2-13')\n",
    "t4 = tango.DeviceProxy('low-mccs/tile/ci-2-17')\n",
    "devices = [spsst1, spsst2, sr1, sr2, t1, t2, t3, t4, st1, st2, \n",
    "           sb1, sb2, sb3, sb4, sab1, sab2, sa1, sa2,]\n",
    "hwdevices = [spsst1, spsst2, sr1, sr2, t1, t2, t3, t4]\n",
    "sps_stations = [spsst1, spsst2]"
   ]
  },
  {
   "cell_type": "markdown",
   "id": "fa4ed75a-41ea-4cb4-b5b1-5a0a2e4b4c80",
   "metadata": {},
   "source": [
    "<title> Allocate and deallocate resources</title>\n",
    "\n",
    "1) Assess that the controller has no assigned resources to subarray 1, neither has the subarray\n",
    "\n",
    "2) Allocate resources to the subarray and check that these have been allocated in the controller, and assigned to the subarray.\n",
    "    Subarray is composed of two subarray beams, 32 channels and 2 apertures each. \n",
    "    Station 1 hosts the 2 apertures of beam 1 and one of beam 2. Station 2 hosts the 2nd aperture of beam 2."
   ]
  },
  {
   "cell_type": "code",
   "execution_count": 5,
   "id": "d7ea7051-b8a3-4b67-bc58-b829d3a6f598",
   "metadata": {},
   "outputs": [
    {
     "name": "stdout",
     "output_type": "stream",
     "text": [
      "Controller resources allocated to subarray 1: {}\n",
      "Subarray resources\n",
      "- Stations:       ()\n",
      "- Subarray beams: ()\n",
      "- Station beams:  ()\n",
      "- All assigned resources: {'interface': 'https://schema.skao.int/ska-low-mccs-assignedresources/1.0', 'subarray_beam_ids': [], 'station_beam_ids': [], 'station_ids': [], 'apertures': [], 'channels': [0]}\n"
     ]
    }
   ],
   "source": [
    "print(f\"Controller resources allocated to subarray 1: {controller.GetAssignedResources(1)}\")\n",
    "print(f\"Subarray resources\\n- Stations:       {sa1.stationFQDNs}\")\n",
    "print(f\"- Subarray beams: {sa1.subarraybeamfqdns}\")\n",
    "print(f\"- Station beams:  {sa1.stationbeamfqdns}\")\n",
    "print(f\"- All assigned resources: {json.loads((sa1.assignedresources))}\")"
   ]
  },
  {
   "cell_type": "code",
   "execution_count": 4,
   "id": "d1c5e6ea-4a6d-4459-8367-162afadfc8b1",
   "metadata": {},
   "outputs": [
    {
     "data": {
      "text/plain": [
       "[array([2], dtype=int32), ['1698683688.8465571_160872017842122_Allocate']]"
      ]
     },
     "execution_count": 4,
     "metadata": {},
     "output_type": "execute_result"
    }
   ],
   "source": [
    "args = {\n",
    "    \"subarray_id\": 1, \n",
    "    \"subarray_beams\": [\n",
    "        {\n",
    "            \"subarray_beam_id\": 1, \n",
    "            \"apertures\": [\n",
    "                {\n",
    "                    \"station_id\": 1,\n",
    "                    \"aperture_id\": \"AP001.01\"\n",
    "                },\n",
    "                {\n",
    "                    \"station_id\": 1,\n",
    "                    \"aperture_id\": \"AP001.02\"\n",
    "                },\n",
    "            ], \n",
    "            \"number_of_channels\": 32\n",
    "        },\n",
    "        {\n",
    "            \"subarray_beam_id\": 2, \n",
    "            \"apertures\": [\n",
    "                {\n",
    "                    \"station_id\": 1,\n",
    "                    \"aperture_id\": \"AP001.03\"\n",
    "                },\n",
    "                {\n",
    "                    \"station_id\": 2,\n",
    "                    \"aperture_id\": \"AP002.04\"\n",
    "                },\n",
    "            ], \n",
    "            \"number_of_channels\": 32\n",
    "        },\n",
    "    ]}\n",
    "controller.Allocate(json.dumps(args))"
   ]
  },
  {
   "cell_type": "code",
   "execution_count": 5,
   "id": "b207ad50-f9ec-4ab3-a8a2-7cec0074c285",
   "metadata": {},
   "outputs": [
    {
     "name": "stdout",
     "output_type": "stream",
     "text": [
      "Controller resources allocated to subarray 1: {\"subarray_beams\": [\"low-mccs/subarraybeam/01\", \"low-mccs/subarraybeam/02\"], \"station_beams\": [\"low-mccs/beam/001\", \"low-mccs/beam/002\", \"low-mccs/beam/003\", \"low-mccs/beam/004\"]}\n",
      "Subarray resources\n",
      "- Stations:       ('low-mccs/station/001', 'low-mccs/station/002')\n",
      "- Subarray beams: ('low-mccs/subarraybeam/01', 'low-mccs/subarraybeam/02')\n",
      "- Station beams:  ('low-mccs/beam/001', 'low-mccs/beam/002', 'low-mccs/beam/003', 'low-mccs/beam/004')\n",
      "- All assigned resources: {'interface': 'https://schema.skao.int/ska-low-mccs-assignedresources/1.0', 'subarray_beam_ids': ['1', '2'], 'station_beam_ids': ['1', '2', '3', '4'], 'station_ids': ['1', '2'], 'apertures': ['AP001.01', 'AP001.02', 'AP001.03', 'AP002.04'], 'channels': [64]}\n"
     ]
    }
   ],
   "source": [
    "print(f\"Controller resources allocated to subarray 1: {controller.GetAssignedResources(1)}\")\n",
    "print(f\"Subarray resources\\n- Stations:       {sa1.stationFQDNs}\")\n",
    "print(f\"- Subarray beams: {sa1.subarraybeamfqdns}\")\n",
    "print(f\"- Station beams:  {sa1.stationbeamfqdns}\")\n",
    "print(f\"- All assigned resources: {json.loads((sa1.assignedresources))}\")"
   ]
  },
  {
   "cell_type": "code",
   "execution_count": 31,
   "id": "06d75074-65c0-49e1-b928-9d17fe70e3e0",
   "metadata": {},
   "outputs": [
    {
     "data": {
      "text/plain": [
       "[array([2], dtype=int32), ['1698735533.6456742_122779193411418_Configure']]"
      ]
     },
     "execution_count": 31,
     "metadata": {},
     "output_type": "execute_result"
    }
   ],
   "source": [
    "sa_configuration = {\n",
    "    \"subarray_beams\": [\n",
    "        {\n",
    "            \"subarray_beam_id\": 1,\n",
    "            \"update_rate\": 5.0,\n",
    "            \"logical_bands\": [\n",
    "                {\n",
    "                    \"start_channel\": 66,\n",
    "                    \"number_of_channels\": 16\n",
    "                },\n",
    "                {\n",
    "                    \"start_channel\": 262,\n",
    "                    \"number_of_channels\": 16\n",
    "                }\n",
    "            ],\n",
    "            \"sky_coordinates\": {\n",
    "                \"reference_frame\": \"ICRS\",\n",
    "                \"timestamp\": \"2023-04-05T12:34:56.000Z\",\n",
    "                \"c1\": 123.45,\n",
    "                \"c1_rate\": 0.0,\n",
    "                \"c2\": -12.34,\n",
    "                \"c2_rate\": 0.0,\n",
    "            },\n",
    "            \"apertures\": [\n",
    "                {\"aperture_id\": \"AP001.01\"},\n",
    "                {\"aperture_id\": \"AP001.02\"},\n",
    "            ]\n",
    "        },\n",
    "        {\n",
    "            \"subarray_beam_id\": 2,\n",
    "            \"update_rate\": 10.0,\n",
    "            \"logical_bands\": [\n",
    "                {\n",
    "                    \"start_channel\": 166,\n",
    "                    \"number_of_channels\": 16\n",
    "                },\n",
    "                {\n",
    "                    \"start_channel\": 200,\n",
    "                    \"number_of_channels\": 16\n",
    "                }\n",
    "            ],\n",
    "            \"sky_coordinates\": {\n",
    "                \"reference_frame\": \"ICRS\",\n",
    "                \"timestamp\": \"2023-04-05T12:34:56.000Z\",\n",
    "                \"c1\": 234.45,\n",
    "                \"c1_rate\": 0.001,\n",
    "                \"c2\": 23.34,\n",
    "                \"c2_rate\": 0.001,\n",
    "            },\n",
    "            \"apertures\": [\n",
    "                {\"aperture_id\": \"AP001.03\"},\n",
    "                {\"aperture_id\": \"AP002.04\"},\n",
    "            ]\n",
    "        },\n",
    "    ]\n",
    "}\n",
    "sa1.Configure(json.dumps(sa_configuration))"
   ]
  },
  {
   "cell_type": "markdown",
   "id": "2f1e111e-7a95-40eb-a9a2-0cb54eb03fd3",
   "metadata": {},
   "source": [
    "Check that the configuration arrived to the station beams. Check that: \n",
    "1) Each Station beam has correct aperture, station and pointing\n",
    "2) Each Station beam has built a table of beamformer channel blocks. Table entry specifies:\n",
    "    1) table entry (station channel block)\n",
    "    2) start physical channel. 0 means unused\n",
    "    3) hardware beam used by station\n",
    "    4) subarray ID\n",
    "    5) start subarray logical channel\n",
    "    6) subarray beam ID\n",
    "    7) substation ID\n",
    "    8) aperture ID\n",
    "3) Each Station has assembled the beamformer table from all subarray beams"
   ]
  },
  {
   "cell_type": "code",
   "execution_count": 32,
   "id": "b81c964b-268b-4b69-b780-936d838938e6",
   "metadata": {},
   "outputs": [
    {
     "name": "stdout",
     "output_type": "stream",
     "text": [
      "beam 1: subarray beam 1:1 ID AP001.01 assigned to station 1 (low-mccs/station/001)\n",
      "Pointing (ICRS) [123.45   0.   -12.34   0.  ] at time 2023-04-05T12:34:56.000Z - HW beam 0\n",
      "Channel table: \n",
      "[[  0  66   0   1   0   1   1 101]\n",
      " [  1  74   0   1   8   1   1 101]\n",
      " [  2 262   0   1  16   1   1 101]\n",
      " [  3 270   0   1  24   1   1 101]]\n",
      "Beam low-mccs/beam/001 is in state 4\n",
      "beam 2: subarray beam 1:1 ID AP001.02 assigned to station 1 (low-mccs/station/001)\n",
      "Pointing (ICRS) [123.45   0.   -12.34   0.  ] at time 2023-04-05T12:34:56.000Z - HW beam 1\n",
      "Channel table: \n",
      "[[  4  66   1   1   0   1   2 102]\n",
      " [  5  74   1   1   8   1   2 102]\n",
      " [  6 262   1   1  16   1   2 102]\n",
      " [  7 270   1   1  24   1   2 102]]\n",
      "Beam low-mccs/beam/002 is in state 4\n",
      "beam 3: subarray beam 1:2 ID AP001.03 assigned to station 1 (low-mccs/station/001)\n",
      "Pointing (ICRS) [2.3445e+02 1.0000e-03 2.3340e+01 1.0000e-03] at time 2023-04-05T12:34:56.000Z - HW beam 2\n",
      "Channel table: \n",
      "[[  8 166   2   1  32   2   3 103]\n",
      " [  9 174   2   1  40   2   3 103]\n",
      " [ 10 200   2   1  48   2   3 103]\n",
      " [ 11 208   2   1  56   2   3 103]]\n",
      "Beam low-mccs/beam/003 is in state 4\n",
      "beam 4: subarray beam 1:2 ID AP002.04 assigned to station 2 (low-mccs/station/002)\n",
      "Pointing (ICRS) [2.3445e+02 1.0000e-03 2.3340e+01 1.0000e-03] at time 2023-04-05T12:34:56.000Z - HW beam 0\n",
      "Channel table: \n",
      "[[  0 166   0   1  32   2   4 204]\n",
      " [  1 174   0   1  40   2   4 204]\n",
      " [  2 200   0   1  48   2   4 204]\n",
      " [  3 208   0   1  56   2   4 204]]\n",
      "Beam low-mccs/beam/004 is in state 4\n",
      "low-mccs/station/001: 96 total channels. Channel table:\n",
      "[[  0  66   0   1   0   1   1 101]\n",
      " [  1  74   0   1   8   1   1 101]\n",
      " [  2 262   0   1  16   1   1 101]\n",
      " [  3 270   0   1  24   1   1 101]\n",
      " [  4  66   1   1   0   1   2 102]\n",
      " [  5  74   1   1   8   1   2 102]\n",
      " [  6 262   1   1  16   1   2 102]\n",
      " [  7 270   1   1  24   1   2 102]\n",
      " [  8 166   2   1  32   2   3 103]\n",
      " [  9 174   2   1  40   2   3 103]\n",
      " [ 10 200   2   1  48   2   3 103]\n",
      " [ 11 208   2   1  56   2   3 103]]\n",
      "low-mccs/station/002: 32 total channels. Channel table:\n",
      "[[  0 166   0   1  32   2   4 204]\n",
      " [  1 174   0   1  40   2   4 204]\n",
      " [  2 200   0   1  48   2   4 204]\n",
      " [  3 208   0   1  56   2   4 204]]\n"
     ]
    }
   ],
   "source": [
    "for sb in [sb1, sb2, sb3, sb4]:\n",
    "    print(f\"beam {sb.beamId}: subarray beam {sb.subarrayId}:{sb.logicalBeamId} ID {sb.apertureId} assigned to station {sb.stationId} ({sb.stationFqdn})\")\n",
    "    print(f\"Pointing ({sb.pointingReferenceFrame}) {sb.desiredPointing} at time {sb.pointingTimestamp} - HW beam {sb.hardwareBeamId}\")\n",
    "    print(f\"Channel table: \\n{sb.channels}\")\n",
    "    print(f\"Beam {sb.name()} is in state {sb.obsState}\")\n",
    "for st in [st1, st2]:\n",
    "    print(f\"{st.name()}: {st.numberOfChannels} total channels. Channel table:\\n{st.beamformerTable}\") "
   ]
  },
  {
   "cell_type": "markdown",
   "id": "12dd18d4-6817-49fd-8aae-fd9bc96f0d89",
   "metadata": {},
   "source": [
    "1) Deconfigure and reconfigure the subarray\n",
    "2) Reconfigure an aready configured subarray\n",
    "3) Deconfigure and deallocate everything\n",
    "4) Turn off a TPM. The controller goes in Unknown state (partly ON, partly Off)"
   ]
  },
  {
   "cell_type": "code",
   "execution_count": 50,
   "id": "42160126-9a05-4506-a8d3-f79e70533df4",
   "metadata": {},
   "outputs": [
    {
     "data": {
      "text/plain": [
       "[array([2], dtype=int32), ['1698737836.743625_172993090082020_Scan']]"
      ]
     },
     "execution_count": 50,
     "metadata": {},
     "output_type": "execute_result"
    }
   ],
   "source": [
    "scan_id = 1234\n",
    "start_time = datetime.strftime(datetime.fromtimestamp(int(time.time())+2), RFC_FORMAT)\n",
    "sa1.scan(json.dumps({'scan_id': scan_id, 'start_time': start_time}))"
   ]
  },
  {
   "cell_type": "code",
   "execution_count": null,
   "id": "c969fd75-9632-4cba-a414-29b2ab954a1a",
   "metadata": {},
   "outputs": [],
   "source": [
    "sa1.endscan()"
   ]
  },
  {
   "cell_type": "code",
   "execution_count": 13,
   "id": "76397371-b02d-4745-ab60-7b8c1ce05bd7",
   "metadata": {},
   "outputs": [
    {
     "data": {
      "text/plain": [
       "[array([2], dtype=int32), ['1698684362.2930324_29537374896676_End']]"
      ]
     },
     "execution_count": 13,
     "metadata": {},
     "output_type": "execute_result"
    }
   ],
   "source": [
    "sa1.end()"
   ]
  },
  {
   "cell_type": "code",
   "execution_count": 58,
   "id": "841f97e1-ff42-486a-9137-843000d3e9df",
   "metadata": {},
   "outputs": [
    {
     "data": {
      "text/plain": [
       "[array([0], dtype=int32), ['Release command completed OK']]"
      ]
     },
     "execution_count": 58,
     "metadata": {},
     "output_type": "execute_result"
    }
   ],
   "source": [
    "controller.Release('{}')"
   ]
  },
  {
   "cell_type": "code",
   "execution_count": 3,
   "id": "4422112a-28fb-435e-9422-83ba3bb4989b",
   "metadata": {},
   "outputs": [
    {
     "name": "stdout",
     "output_type": "stream",
     "text": [
      "[[128   0   1   0   0   0   0]]\n"
     ]
    }
   ],
   "source": [
    "print(spsst1.beamformertable.reshape(-1,7))"
   ]
  },
  {
   "cell_type": "code",
   "execution_count": 5,
   "id": "1173cb84-81f0-4425-b26a-a839dee5f736",
   "metadata": {},
   "outputs": [
    {
     "name": "stdout",
     "output_type": "stream",
     "text": [
      "[[128   0   1   0   0   0   0]]\n"
     ]
    }
   ],
   "source": [
    "print(t1.beamformertable.reshape(-1,7))"
   ]
  },
  {
   "cell_type": "code",
   "execution_count": null,
   "id": "12e06af1-2f7f-415a-a2a4-0fa971815d7b",
   "metadata": {},
   "outputs": [],
   "source": []
  }
 ],
 "metadata": {
  "kernelspec": {
   "display_name": "base",
   "language": "python",
   "name": "python3"
  },
  "language_info": {
   "codemirror_mode": {
    "name": "ipython",
    "version": 3
   },
   "file_extension": ".py",
   "mimetype": "text/x-python",
   "name": "python",
   "nbconvert_exporter": "python",
   "pygments_lexer": "ipython3",
   "version": "3.9.12"
  }
 },
 "nbformat": 4,
 "nbformat_minor": 5
}
