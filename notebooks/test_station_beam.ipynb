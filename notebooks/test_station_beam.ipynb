{
 "cells": [
  {
   "cell_type": "markdown",
   "id": "f016b646-cf8c-407f-bd30-bff4ad7b6d79",
   "metadata": {},
   "source": [
    "Test of station beamformer\n",
    "Sets up a station with 2 tiles (T1 nd T4, could be different) and programs it to send \n",
    "beamformed data to a server, for 8 contiguous channels.\n",
    "\n",
    "Server runs a DAQ receiver in station beam data mode, which computes total power on blocks of 262144 samples. \n",
    "\n",
    "Station beamformer is programmed and configured to generate either a tone or white noise on the selected channels\n",
    "\n",
    "Delay is inserted on each antenna to simulate a linear arrays of 32 stations which is then pointed using first a mosaic scan (individual pointings) and then a on-the-fly scan (initial pointing and delay rates).\n",
    "\n",
    "A test on decorrelation is performed by adding a positive and negative static delay on the two tiles, and correctling it using pointing delays."
   ]
  },
  {
   "cell_type": "markdown",
   "id": "69dcf005-d2d2-4d1a-9e71-e3a6f12d2df9",
   "metadata": {},
   "source": [
    "Initial setup. Define the used TANGO devices and constants. \n",
    "\n",
    "Put all devices Online. Tiles must be in Maintenance mode in order to use the test signal generator."
   ]
  },
  {
   "cell_type": "code",
   "execution_count": 1,
   "id": "49fc5983-3ae5-4adc-b9ec-74ce2658ecb2",
   "metadata": {},
   "outputs": [],
   "source": [
    "import tango\n",
    "import time\n",
    "import json\n",
    "import numpy as np\n",
    "\n",
    "from ska_tango_base.commands import ResultCode\n",
    "from ska_tango_base.control_model import (\n",
    "    AdminMode,\n",
    "    CommunicationStatus,\n",
    "    HealthState,\n",
    "    PowerState,\n",
    "    SimulationMode,\n",
    "    TestMode,\n",
    ")\n",
    "# for time conversion\n",
    "from datetime import datetime,timezone\n",
    "RFC_FORMAT = \"%Y-%m-%dT%H:%M:%S.%fZ\"\n",
    "\n",
    "# define devices\n",
    "station = tango.DeviceProxy('low-mccs/station/001')\n",
    "subrack = tango.DeviceProxy('low-mccs/subrack/0001')\n",
    "t1 = tango.DeviceProxy('low-mccs/tile/0001')\n",
    "t2 = tango.DeviceProxy('low-mccs/tile/0002')\n",
    "t3 = tango.DeviceProxy('low-mccs/tile/0003')\n",
    "t4 = tango.DeviceProxy('low-mccs/tile/0004')\n",
    "t5 = tango.DeviceProxy('low-mccs/tile/0005')\n",
    "t6 = tango.DeviceProxy('low-mccs/tile/0006')\n",
    "t7 = tango.DeviceProxy('low-mccs/tile/0007')\n",
    "t8 = tango.DeviceProxy('low-mccs/tile/0008')\n",
    "\n",
    "station.logginglevel=5\n",
    "devices = [station, subrack, t1, t2, t3, t4, t5, t6, t7, t8]\n",
    "tiles = [t1, t4]\n",
    "#\n",
    "# Put everything online\n",
    "for d in devices:\n",
    "    d.adminmode = AdminMode.ONLINE\n",
    "time.sleep(0.2)\n",
    "# \n",
    "# Tiles must be in Maintenance mode to allow test signal generator\n",
    "for t in tiles:\n",
    "    t.adminMode = AdminMode.MAINTENANCE"
   ]
  },
  {
   "cell_type": "markdown",
   "id": "526b9f63-f341-470a-b6b9-b10022fc3b75",
   "metadata": {},
   "source": [
    "Put the station in standby mode. Wait 5 seconds for the command to take effect."
   ]
  },
  {
   "cell_type": "code",
   "execution_count": 2,
   "id": "6d434e71-5472-4d7c-b5c3-6b987db4a544",
   "metadata": {},
   "outputs": [],
   "source": [
    "station.standby()\n",
    "time.sleep(5)"
   ]
  },
  {
   "cell_type": "markdown",
   "id": "5f0609cd-9398-414c-8715-cdd855509546",
   "metadata": {},
   "source": [
    "Set all the Station parameters, like destination IP addresses, channeliser and final beamformer rounding. \n",
    "\n",
    "Initialise everything by torning the station on. This powers on the tiles and initialises them. \n",
    "\n",
    "Wait until all tiles are Initialised"
   ]
  },
  {
   "cell_type": "code",
   "execution_count": 3,
   "id": "b5c3f62f-285e-46da-9f64-2fa686a9f439",
   "metadata": {},
   "outputs": [
    {
     "name": "stdout",
     "output_type": "stream",
     "text": [
      "Station: The device is in STANDBY state.\n",
      "t=2: subrack: The device is in ON state.\n",
      "t=10: state = ('NotProgrammed', 'Off')\n",
      "t=14: state = ('NotProgrammed', 'NotProgrammed')\n",
      "t=18: state = ('Programmed', 'NotProgrammed')\n",
      "t=22: state = ('Programmed', 'Programmed')\n",
      "t=38: state = ('Initialised', 'Programmed')\n",
      "t=40: state = ('Initialised', 'Initialised')\n",
      "t=40: Station initialized\n"
     ]
    }
   ],
   "source": [
    "station.SetBeamformerTable([128,0,1,0,0,0,0])\n",
    "station.statictimedelays=np.zeros([512],dtype=int)\n",
    "station.preaduLevels=list(range(32))*16\n",
    "station.channeliserRounding=[4]*512\n",
    "station.cspRounding=[4]*384\n",
    "station.SetLmcDownload('{\"destination_ip\": \"10.0.0.98\", \"mode\": \"40g\"}')\n",
    "station.SetLmcIntegratedDownload('{\"destination_ip\": \"10.0.0.98\", \"mode\": \"40g\"}')\n",
    "station.SetCspIngest('{\"destination_ip\": \"10.0.0.98\"}')\n",
    "# turn everything on\n",
    "print(f\"Station: {station.Status()}\")\n",
    "station.on()\n",
    "#\n",
    "# monitor what is happening\n",
    "#\n",
    "state = station.tileprogrammingstate\n",
    "tm = 0\n",
    "init = False\n",
    "for t in range (30):\n",
    "    time.sleep(2)\n",
    "    tm = tm + 2\n",
    "    print(f't={tm}: subrack: {subrack.status()}')\n",
    "    if subrack.state() == tango._tango.DevState.ON:\n",
    "        break\n",
    "for t in range(30):\n",
    "    time.sleep(2)\n",
    "    tm = tm + 2\n",
    "    s_new = station.tileprogrammingstate\n",
    "    if s_new != state:\n",
    "        print(f't={tm}: state = {s_new}')\n",
    "        state = s_new\n",
    "    if all(s == 'Initialised' for s in state):\n",
    "        init = True\n",
    "        break\n",
    "if init:\n",
    "    print(f't={tm}: Station initialized')\n",
    "else:\n",
    "    print(f't={tm}: Timeout during intialisation')"
   ]
  },
  {
   "cell_type": "markdown",
   "id": "e5f22bbe-990c-48a5-af29-8df81e8a6c72",
   "metadata": {},
   "source": [
    "Synchronise the station. \n",
    "Then wait for the synchronization to happen"
   ]
  },
  {
   "cell_type": "code",
   "execution_count": 4,
   "id": "38e873d3-220c-4916-911a-d4043908f233",
   "metadata": {},
   "outputs": [
    {
     "name": "stdout",
     "output_type": "stream",
     "text": [
      "Tile time: 2023-03-24T14:43:58.000000Z - Sync time: 2023-03-24T14:44:01.000000Z\n",
      "Programmed Sync time: 2106-02-07T06:28:15.000000Z\n",
      "time:2023-03-24T14:43:59.359374Z pps time:2023-03-24T14:43:59.000000Z frame time:2023-03-24T14:44:01.000000Z\n",
      "Current: 1679669039 - Start: 1679669041 difference: -2 frame time:2023-03-24T14:44:01.000000Z\n",
      "Current: 1679669040 - Start: 1679669041 difference: -1 frame time:2023-03-24T14:44:01.000000Z\n",
      "Current: 1679669041 - Start: 1679669041 difference: 0 frame time:2023-03-24T14:44:01.507064Z\n",
      "Current: 1679669042 - Start: 1679669041 difference: 1 frame time:2023-03-24T14:44:02.524234Z\n",
      "time:2023-03-24T14:44:02.416460Z pps time:2023-03-24T14:44:02.000000Z frame time:2023-03-24T14:44:02.526999Z\n",
      "t=44: state = ('Synchronised', 'Synchronised')\n"
     ]
    }
   ],
   "source": [
    "start_time = datetime.strftime(datetime.fromtimestamp(int(time.time())+3), RFC_FORMAT)\n",
    "station.StartAcquisition(json.dumps({\n",
    "  \"start_time\": start_time}))\n",
    "#\n",
    "# check that synchronization worked\n",
    "#\n",
    "print(f'Tile time: {t1.fpgatime} - Sync time: {start_time}')\n",
    "print(f'Programmed Sync time: {t1.fpgareferencetime}')\n",
    "time.sleep(1)\n",
    "for t in range (1):\n",
    "    tm1 = datetime.strftime(datetime.fromtimestamp(time.time()), RFC_FORMAT)\n",
    "    tm2 = t1.fpgatime\n",
    "    tm3 = t1.fpgaframetime\n",
    "    print(f'time:{tm1} pps time:{tm2} frame time:{tm3}')\n",
    "    #time.sleep(2)\n",
    "for i in range(30):\n",
    "    tm = tm + 1\n",
    "    cur_time=int(t1.readregister('fpga1.pps_manager.curr_time_read_val')[0])\n",
    "    start_time=int(t1.readregister('fpga1.pps_manager.sync_time_val')[0])\n",
    "    print(f'Current: {cur_time} - Start: {start_time} difference: {cur_time-start_time} frame time:{t1.fpgaframetime}')\n",
    "    if cur_time > start_time:\n",
    "        break\n",
    "    time.sleep(1)\n",
    "\n",
    "tm1 = datetime.strftime(datetime.fromtimestamp(time.time()), RFC_FORMAT)\n",
    "tm2 = t1.fpgatime\n",
    "tm3 = t1.fpgaframetime\n",
    "print(f'time:{tm1} pps time:{tm2} frame time:{tm3}')\n",
    "print(f't={tm}: state = {station.tileprogrammingstate}')"
   ]
  },
  {
   "cell_type": "markdown",
   "id": "96b38423-a09b-461f-aa8e-fdf0760cf3a8",
   "metadata": {},
   "source": [
    "Program the test generator and start the beamformer"
   ]
  },
  {
   "cell_type": "code",
   "execution_count": 5,
   "id": "bf6203eb-ceea-424f-9eb2-2400275a7441",
   "metadata": {},
   "outputs": [
    {
     "name": "stdout",
     "output_type": "stream",
     "text": [
      "low-mccs/tile/0001: 2023-03-24T14:44:10.207061Z\n",
      "low-mccs/tile/0004: 2023-03-24T14:44:10.208719Z\n",
      "Beamformer running: True\n"
     ]
    }
   ],
   "source": [
    "noise = True\n",
    "\n",
    "for t in tiles:\n",
    "    tm = t.fpgaframetime\n",
    "    print(f\"{t.name()}: {tm}\")\n",
    "start_time = datetime.strftime(datetime.fromtimestamp(time.time()+2), RFC_FORMAT)\n",
    "\n",
    "if noise:\n",
    "    json_arg=json.dumps({'noise_amplitude': 1.0, 'set_time': start_time})\n",
    "else:\n",
    "    json_arg=json.dumps({'tone_2_frequency': 100.01e6, 'tone_2_amplitude': 0.5, 'set_time': start_time})\n",
    "\n",
    "for t in tiles:\n",
    "    t.ConfigureTestGenerator(json_arg)\n",
    "station.StartBeamformer(json.dumps({\"start_time\": start_time}))\n",
    "time.sleep(2)\n",
    "print(f\"Beamformer running: {t1.isBeamformerRunning}\")"
   ]
  },
  {
   "cell_type": "markdown",
   "id": "56d6dd08-0369-4447-b979-5fea4910061c",
   "metadata": {},
   "source": [
    "Send a few packets to the DAQ"
   ]
  },
  {
   "cell_type": "code",
   "execution_count": 6,
   "id": "b39eb59f-794e-4887-817a-8b2b52bf8f6e",
   "metadata": {},
   "outputs": [
    {
     "data": {
      "text/plain": [
       "[array([0], dtype=int32), ['SendDataSamples command completed OK']]"
      ]
     },
     "execution_count": 6,
     "metadata": {},
     "output_type": "execute_result"
    }
   ],
   "source": [
    "# Send beamformed\n",
    "start_time = datetime.strftime(datetime.fromtimestamp(time.time()+0.5), RFC_FORMAT)\n",
    "station.SendDataSamples(json.dumps({'data_type': 'beam', 'start_time': start_time}))\n",
    "time.sleep(2)\n",
    "start_time = datetime.strftime(datetime.fromtimestamp(time.time()+0.5), RFC_FORMAT)\n",
    "station.SendDataSamples(json.dumps({'data_type': 'channel', 'start_time': start_time}))"
   ]
  },
  {
   "cell_type": "markdown",
   "id": "38b3f4fd-7ad5-4536-b105-4e227e9947ca",
   "metadata": {},
   "source": [
    "<b>Scan test.</b>\n",
    "\n",
    "Program static delays to a ramp of integer samples. This corresponds to physical delays in the range +/- 20 ns. Put static delays only in polarization 0, polarization 1 used as reference. \n",
    "\n",
    "Then point in steps of 1/40 ns per antenna (+/- 0.4 ns at array edge), from -8 to +32 ns "
   ]
  },
  {
   "cell_type": "code",
   "execution_count": 7,
   "id": "57e42147-d5a3-47d3-9460-497392610b26",
   "metadata": {
    "tags": []
   },
   "outputs": [
    {
     "name": "stdout",
     "output_type": "stream",
     "text": [
      "Delay offset -1.875 -0.625\n",
      "Delay offset -1.71875 -0.46875\n",
      "Delay offset -1.5625 -0.3125\n",
      "Delay offset -1.40625 -0.15625\n",
      "Delay offset -1.25 0.0\n",
      "Delay offset -1.09375 0.15625\n",
      "Delay offset -0.9375 0.3125\n",
      "Delay offset -0.78125 0.46875\n",
      "Delay offset -0.625 0.625\n",
      "Delay offset -0.46875 0.78125\n",
      "Delay offset -0.3125 0.9375\n",
      "Delay offset -0.15625 1.09375\n",
      "Delay offset 0.0 1.25\n",
      "Delay offset 0.15625 1.40625\n",
      "Delay offset 0.3125 1.5625\n",
      "Delay offset 0.46875 1.71875\n",
      "Delay offset 0.625 1.875\n",
      "Delay offset 0.78125 2.03125\n",
      "Delay offset 0.9375 2.1875\n",
      "Delay offset 1.09375 2.34375\n"
     ]
    },
    {
     "data": {
      "text/plain": [
       "[array([0], dtype=int32), ['LoadPointingDelays command completed OK']]"
      ]
     },
     "execution_count": 7,
     "metadata": {},
     "output_type": "execute_result"
    }
   ],
   "source": [
    "static_delays = np.zeros([512],dtype=float)\n",
    "d0 = 1.25\n",
    "for i in range(32):\n",
    "    delay =  (i-16)*d0\n",
    "    static_delays[2*i+0] = delay\n",
    "    static_delays[2*i+1] = 0\n",
    "station.statictimedelays = static_delays\n",
    "delays = np.zeros([513],dtype=float)\n",
    "station.LoadPointingDelays(delays)\n",
    "start_time = datetime.strftime(datetime.fromtimestamp(time.time()+0.5), RFC_FORMAT)\n",
    "station.applypointingdelays(start_time)\n",
    "time.sleep(3)\n",
    "for step in range(-20,80):\n",
    "    delays = np.zeros([513],dtype=float)\n",
    "    d1 = 1.25*step/40\n",
    "    for i in range(32):\n",
    "        delay =  (i-16)*d1\n",
    "        delays[2*i+1] = delay*1e-9\n",
    "        delays[2*i+2] = 0.0\n",
    "    delays[0] = 0\n",
    "    station.LoadPointingDelays(delays)\n",
    "    start_time = datetime.strftime(datetime.fromtimestamp(time.time()+0.5), RFC_FORMAT)\n",
    "    station.applypointingdelays(start_time)\n",
    "    time.sleep(1)\n",
    "    if step%5 == 0:\n",
    "        print(f\"Delay offset {d1-d0} {d1}\")\n",
    "\n",
    "delays = np.zeros([513],dtype=float)   \n",
    "station.LoadPointingDelays(delays)\n",
    "start_time = datetime.strftime(datetime.fromtimestamp(int(time.time())+4), RFC_FORMAT)\n",
    "station.applypointingdelays(start_time)"
   ]
  },
  {
   "cell_type": "markdown",
   "id": "9a7e1ae5-e4ba-43ff-9fb2-fb6b78da4f4e",
   "metadata": {},
   "source": [
    "Decorrelation test. Increase the delay in each tile up to 50 additional ns.\n",
    "\n",
    "Then correct with pointing delays"
   ]
  },
  {
   "cell_type": "code",
   "execution_count": 8,
   "id": "7a4569fa-fbb6-4aaf-855c-3e4a30940aea",
   "metadata": {},
   "outputs": [],
   "source": [
    "for offset in range(40):\n",
    "    static_delays=np.zeros([512],dtype=float)\n",
    "    station.statictimedelays = static_delays\n",
    "    for i in range(16):\n",
    "       static_delays[2*i] = -1.25*offset\n",
    "       static_delays[2*i+32] = 1.25*offset\n",
    "    for i in range(32):\n",
    "       static_delays[2*i] += (i-16)*1.25\n",
    "    static_delays[0] = 1.25*offset\n",
    "    static_delays[18] = 1.25*offset\n",
    "    station.statictimedelays = static_delays\n",
    "    delays = np.zeros([513],dtype=float)\n",
    "    for i in range(32):\n",
    "        delay = static_delays[2*i]*1.00e-9\n",
    "        delays[2*i+1] = delay\n",
    "        delays[2*i+2] = 0.0\n",
    "    delays[0] = 0\n",
    "    station.LoadPointingDelays(delays)\n",
    "    start_time = datetime.strftime(datetime.fromtimestamp(time.time()+0.4), RFC_FORMAT)\n",
    "    station.applypointingdelays(start_time)\n",
    "    time.sleep(2)"
   ]
  },
  {
   "cell_type": "markdown",
   "id": "94ac9658-3017-4689-9938-e13eea43168c",
   "metadata": {},
   "source": [
    "<b> Drift scan test</b>\n",
    "\n",
    "With the same delays as in the scan test, program delays and delay rates to scan across the same delay interval. <b>Test lasts approx. 1 hour. </b> Test is performed in hardware by the tile, programming returns immediately"
   ]
  },
  {
   "cell_type": "code",
   "execution_count": 9,
   "id": "8d3694f6-ecd7-48fc-9278-3ba120420ef2",
   "metadata": {},
   "outputs": [
    {
     "data": {
      "text/plain": [
       "[array([0], dtype=int32), ['LoadPointingDelays command completed OK']]"
      ]
     },
     "execution_count": 9,
     "metadata": {},
     "output_type": "execute_result"
    }
   ],
   "source": [
    "static_delays = np.zeros([512],dtype=float)\n",
    "d0 = 1.25\n",
    "for i in range(32):\n",
    "    delay =  (i-16)*d0\n",
    "    static_delays[2*i+0] = delay\n",
    "    static_delays[2*i+1] = 0\n",
    "station.statictimedelays = static_delays\n",
    "\n",
    "delays = np.zeros([513],dtype=float)\n",
    "d1 = -1.25e-9\n",
    "for i in range(32):\n",
    "    delay =  (i-16)*d1\n",
    "    delays[2*i+1] = delay\n",
    "    delays[2*i+2] = -delay/1200.0\n",
    "delays[0] = 0\n",
    "station.LoadPointingDelays(delays)\n",
    "start_time = datetime.strftime(datetime.fromtimestamp(time.time()+0.5), RFC_FORMAT)\n",
    "station.applypointingdelays(start_time)"
   ]
  },
  {
   "cell_type": "markdown",
   "id": "c3283b20-0af1-4616-b67b-a44f4f07f4ee",
   "metadata": {},
   "source": [
    "Here one should wait 1 hour for the scan to complete.\n",
    "\n",
    "Then test wrap down. Points to zenith, stops beamformer and switches off TPMs"
   ]
  },
  {
   "cell_type": "code",
   "execution_count": 10,
   "id": "f5a97e4d-1fe8-4fea-a8f4-56808e58f36f",
   "metadata": {},
   "outputs": [
    {
     "data": {
      "text/plain": [
       "[array([0], dtype=int32), ['LoadPointingDelays command completed OK']]"
      ]
     },
     "execution_count": 10,
     "metadata": {},
     "output_type": "execute_result"
    }
   ],
   "source": [
    "static_delays=np.zeros([512],dtype=float)\n",
    "station.statictimedelays = static_delays \n",
    "delays = np.zeros([513],dtype=float)\n",
    "station.LoadPointingDelays(delays)\n",
    "start_time = datetime.strftime(datetime.fromtimestamp(int(time.time())+0.5), RFC_FORMAT)\n",
    "station.applypointingdelays(start_time)"
   ]
  },
  {
   "cell_type": "code",
   "execution_count": 11,
   "id": "7d508105-dc35-4679-8b9e-e58a132f2293",
   "metadata": {},
   "outputs": [
    {
     "data": {
      "text/plain": [
       "[array([0], dtype=int32), ['StopBeamformer command completed OK']]"
      ]
     },
     "execution_count": 11,
     "metadata": {},
     "output_type": "execute_result"
    }
   ],
   "source": [
    "station.stopbeamformer()"
   ]
  },
  {
   "cell_type": "code",
   "execution_count": 28,
   "id": "91dd4fce-8030-4a65-8f70-9ab974d5077b",
   "metadata": {},
   "outputs": [
    {
     "data": {
      "text/plain": [
       "[array([2], dtype=int32), ['1679559608.8023124_251448388425952_Standby']]"
      ]
     },
     "execution_count": 28,
     "metadata": {},
     "output_type": "execute_result"
    }
   ],
   "source": [
    "station.standby()"
   ]
  },
  {
   "cell_type": "code",
   "execution_count": 30,
   "id": "dd3ad61d-9e1c-4572-a8e3-1d013e707ffe",
   "metadata": {},
   "outputs": [
    {
     "data": {
      "text/plain": [
       "'The device is in OFF state.'"
      ]
     },
     "execution_count": 30,
     "metadata": {},
     "output_type": "execute_result"
    }
   ],
   "source": [
    "t1.status()"
   ]
  },
  {
   "cell_type": "code",
   "execution_count": 31,
   "id": "03b164fa-272b-45a9-826f-0dc12083572e",
   "metadata": {},
   "outputs": [
    {
     "data": {
      "text/plain": [
       "'The device is in STANDBY state.'"
      ]
     },
     "execution_count": 31,
     "metadata": {},
     "output_type": "execute_result"
    }
   ],
   "source": [
    "station.status()"
   ]
  },
  {
   "cell_type": "code",
   "execution_count": null,
   "id": "e67c4f5e-7fc2-491d-a2dc-a607f9b14dbd",
   "metadata": {},
   "outputs": [],
   "source": []
  }
 ],
 "metadata": {
  "kernelspec": {
   "display_name": "jupyTango",
   "language": "python",
   "name": "jupytango"
  },
  "language_info": {
   "codemirror_mode": {
    "name": "ipython",
    "version": 3
   },
   "file_extension": ".py",
   "mimetype": "text/x-python",
   "name": "python",
   "nbconvert_exporter": "python",
   "pygments_lexer": "ipython3",
   "version": "3.10.6"
  }
 },
 "nbformat": 4,
 "nbformat_minor": 5
}
