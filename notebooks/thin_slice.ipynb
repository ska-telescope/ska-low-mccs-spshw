{
 "cells": [
  {
   "attachments": {},
   "cell_type": "markdown",
   "metadata": {},
   "source": [
    "Start by importing all the modules to be used"
   ]
  },
  {
   "cell_type": "code",
   "execution_count": null,
   "metadata": {},
   "outputs": [],
   "source": [
    "import tango\n",
    "import time\n",
    "import json\n",
    "import os"
   ]
  },
  {
   "attachments": {},
   "cell_type": "markdown",
   "metadata": {},
   "source": [
    "Set up device proxies for our tango devices and put them into admin mode (allowing them to be used)"
   ]
  },
  {
   "cell_type": "code",
   "execution_count": null,
   "metadata": {},
   "outputs": [],
   "source": [
    "# create device proxies and put devices in Online, not simulated mode\n",
    "sr=tango.DeviceProxy('low-mccs-spshw/subrack/0001')\n",
    "sr.adminMode=0\n",
    "\n",
    "tpm1=tango.DeviceProxy(\"low-mccs-spshw/tile/0003\")\n",
    "tpm1.adminMode = 0\n",
    "\n",
    "daq = tango.DeviceProxy(\"low-mccs/daqreceiver/001\")\n",
    "daq.adminMode = 0\n",
    "\n",
    "# turn on subrack and wait for ON status\n",
    "sr.On()\n",
    "while sr.state() != tango._tango.DevState.ON:\n",
    "    time.sleep(1)\n",
    "\n",
    "# turn on DAQ and wait for ON status\n",
    "daq.On()\n",
    "while daq.state() != tango._tango.DevState.ON:\n",
    "    time.sleep(1)\n",
    "\n",
    "# turn on TPM and wait for initialization. \n",
    "tpm1.On()\n",
    "while tpm1.tileprogrammingstate != \"Initialised\" and \\\n",
    "\ttpm1.tileprogrammingstate != \"Synchronised\":\n",
    "\ttime.sleep(1)"
   ]
  },
  {
   "attachments": {},
   "cell_type": "markdown",
   "metadata": {},
   "source": [
    "Set up the data stream on the tile and daq"
   ]
  },
  {
   "cell_type": "code",
   "execution_count": null,
   "metadata": {},
   "outputs": [],
   "source": [
    "# Start TPM acquisition and wait for ADC stream to start\n",
    "tpm1.startacquisition('{}')\n",
    "while tpm1.tileprogrammingstate != \"Synchronised\":\n",
    "\ttime.sleep(1)\n",
    "\n",
    "#configure networking between TPM and DAQ.\n",
    "dst_tpm_port = 4660\n",
    "dst_tpm_ip = \"10.0.10.210\"\n",
    "lmc_download_dict = {\"mode\": \"10g\", \"destination_ip\": dst_tpm_ip, \"destination_port\": dst_tpm_port}\n",
    "tpm1.SetLmcDownload(json.dumps(lmc_download_dict))"
   ]
  },
  {
   "attachments": {},
   "cell_type": "markdown",
   "metadata": {},
   "source": [
    "Start the daq"
   ]
  },
  {
   "cell_type": "code",
   "execution_count": null,
   "metadata": {},
   "outputs": [],
   "source": [
    "daq.Start('{\"modes_to_start\": \"DaqModes.RAW_DATA\"}')\n",
    "\n",
    "data_to_send = {\"data_type\": \"raw\"}\n",
    "tpm1.SendDataSamples(json.dumps(data_to_send))"
   ]
  },
  {
   "attachments": {},
   "cell_type": "markdown",
   "metadata": {},
   "source": [
    "Show that we can monitor health attributes from jupyter notebook"
   ]
  },
  {
   "cell_type": "code",
   "execution_count": null,
   "metadata": {},
   "outputs": [],
   "source": [
    "tgm -w 1200 low-mccs-spshw/tile/0003/voltage"
   ]
  }
 ],
 "metadata": {
  "kernelspec": {
   "display_name": "Python 3.8.10 64-bit",
   "language": "python",
   "name": "python3"
  },
  "language_info": {
   "name": "python",
   "version": "3.8.10"
  },
  "orig_nbformat": 4,
  "vscode": {
   "interpreter": {
    "hash": "916dbcbb3f70747c44a77c7bcd40155683ae19c65e1c03b4aa3499c5328201f1"
   }
  }
 },
 "nbformat": 4,
 "nbformat_minor": 2
}
