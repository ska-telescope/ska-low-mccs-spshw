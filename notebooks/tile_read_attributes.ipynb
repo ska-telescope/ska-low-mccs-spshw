{
 "cells": [
  {
   "cell_type": "markdown",
   "id": "827ebdba",
   "metadata": {},
   "source": [
    "# Tile Attributes\n",
    "\n",
    "This notebook aims to provide developers with an easy method of finding and running all attributes in the tile device. Additionally this could provide users with a list of attributes.\n",
    "\n",
    "## Start up\n",
    "\n",
    "Confirm that all devices are operational"
   ]
  },
  {
   "cell_type": "code",
   "execution_count": null,
   "id": "4fccf233",
   "metadata": {},
   "outputs": [],
   "source": [
    "import tango\n",
    "import time\n",
    "import json\n",
    "\n",
    "db = tango.Database()\n",
    "all_devices_strings = db.get_device_exported(\"*\")\n",
    "recheck = False\n",
    "for device_str in all_devices_strings:\n",
    "    device = tango.DeviceProxy(device_str)\n",
    "    if device.state() == tango.DevState.DISABLE:\n",
    "        print(f\"{device_str} is in {device.state()} state, turning it ON\")\n",
    "        device.adminMode = 0\n",
    "        recheck = True\n",
    "    else:\n",
    "        print(f\"{device_str} is in {device.state()} state\")\n",
    "\n",
    "if recheck:\n",
    "    for i in range(30):\n",
    "        print(f\"Starting devices in progress {i/0.3:.2f}%\", end=\"\")\n",
    "        time.sleep(1)\n",
    "        print(\"\\r\", end=\"\")  # put the cursor back on the same line\n",
    "    \n",
    "    for device_str in all_devices_strings:\n",
    "        device = tango.DeviceProxy(device_str)\n",
    "        print(f\"{device_str} is in {device.state()} state\")\n",
    "\n",
    "\n"
   ]
  },
  {
   "cell_type": "markdown",
   "id": "bfedea0d",
   "metadata": {},
   "source": [
    "## Listing available attributes\n",
    "\n",
    "Tango has in built functions to list all attributes.\n",
    "Here is the documentation: https://tango-controls.readthedocs.io/projects/pytango/en/latest/api/client_api/device_proxy.html\n",
    "There are other additional commands that can return more info about the attributes, like data type, min/max values, etc."
   ]
  },
  {
   "cell_type": "code",
   "execution_count": null,
   "id": "9c4c989f",
   "metadata": {},
   "outputs": [],
   "source": [
    "# Acquire a tile device proxy\n",
    "tile = tango.DeviceProxy(\"low-mccs/tile/ci-1-tpm10\")\n",
    "\n",
    "for attr in tile.get_attribute_list():\n",
    "    print(attr)"
   ]
  },
  {
   "cell_type": "markdown",
   "id": "cae441ff",
   "metadata": {},
   "source": [
    "## Call all the attributes\n",
    "\n",
    "We can then use a simple loop to read the attributes"
   ]
  },
  {
   "cell_type": "code",
   "execution_count": null,
   "id": "93341568",
   "metadata": {},
   "outputs": [],
   "source": [
    "for attr in tile.get_attribute_list():\n",
    "    try:\n",
    "        attr_info = tile.read_attribute(attr)\n",
    "        print(f\"{attr}={attr_info.value}\")\n",
    "    except:\n",
    "        print(f\"Failed to read {attr}\")"
   ]
  }
 ],
 "metadata": {
  "language_info": {
   "name": "python"
  }
 },
 "nbformat": 4,
 "nbformat_minor": 5
}
