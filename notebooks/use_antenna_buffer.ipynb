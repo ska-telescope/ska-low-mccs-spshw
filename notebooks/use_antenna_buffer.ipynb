{
 "cells": [
  {
   "cell_type": "markdown",
   "metadata": {},
   "source": [
    "# Antenna Buffer commands, guide and examples\n",
    "The antenna buffer serves the role of stopping information captured from the antennas for a short period of time. The buffer control methods are exposed through the tile device.\n",
    "\n",
    "To use the commands, first all the devices should be on:"
   ]
  },
  {
   "cell_type": "code",
   "execution_count": 6,
   "metadata": {},
   "outputs": [
    {
     "name": "stdout",
     "output_type": "stream",
     "text": [
      "dserver/DataBaseds/2 is in ON state\n",
      "dserver/TangoTest/test is in ON state\n",
      "dserver/TestDevice/test is in ON state\n",
      "sys/database/2 is in ON state\n",
      "sys/tg_test/1 is in RUNNING state\n",
      "test/device/1 is in UNKNOWN state\n"
     ]
    }
   ],
   "source": [
    "import tango\n",
    "import time\n",
    "import json\n",
    "\n",
    "db = tango.Database()\n",
    "all_devices_strings = db.get_device_exported(\"*\")\n",
    "recheck = False\n",
    "for device_str in all_devices_strings:\n",
    "    device = tango.DeviceProxy(device_str)\n",
    "    if device.state() == tango.DevState.DISABLE:\n",
    "        print(f\"{device_str} is in {device.state()} state, turning it ON\")\n",
    "        device.adminMode = 0\n",
    "        recheck = True\n",
    "    else:\n",
    "        print(f\"{device_str} is in {device.state()} state\")\n",
    "\n",
    "if recheck:\n",
    "    for i in range(30):\n",
    "        print(f\"Starting devices in progress {i/0.3:.2f}%\", end=\"\")\n",
    "        time.sleep(1)\n",
    "        print(\"\\r\", end=\"\")  # put the cursor back on the same line\n",
    "    \n",
    "    for device_str in all_devices_strings:\n",
    "        device = tango.DeviceProxy(device_str)\n",
    "        print(f\"{device_str} is in {device.state()} state\")\n"
   ]
  },
  {
   "cell_type": "markdown",
   "metadata": {},
   "source": [
    "## Setting up the antenna buffer\n",
    "\n",
    "Before recording the antenna buffer, it needs to be initiated.\n",
    "\n",
    "The set up values used are:\n",
    "\n",
    "- mode: the location where the data will be read to. Either SDN for the science data netwrok, or NSDN (non science data network). Defaults to SDN\n",
    "- ddr_start_byte_address: first address (in bytes) in the DDR to write to. Defaults to 512 MiB\n",
    "- max_ddr_byte_size: last address. If None is chosen, then it uses all the remaining space.\n",
    "\n"
   ]
  },
  {
   "cell_type": "code",
   "execution_count": 4,
   "metadata": {},
   "outputs": [
    {
     "ename": "DevFailed",
     "evalue": "DevFailed[\nDevError[\n    desc = device low-mccs/tile/ci-1-tpm10 not defined in the database !\n  origin = DataBase::ImportDevice()\n  reason = DB_DeviceNotDefined\nseverity = ERR]\n\nDevError[\n    desc = Failed to execute command_inout on device sys/database/2, command DbImportDevice\n  origin = virtual Tango::DeviceData Tango::Connection::command_inout(const string&, const Tango::DeviceData&) at (/home/conda/feedstock_root/build_artifacts/cpptango_1675413853047/work/cppapi/client/devapi_base.cpp:1338)\n  reason = API_CommandFailed\nseverity = ERR]\n\nDevError[\n    desc = Can't connect to device low-mccs/tile/ci-1-tpm10\n  origin = void Tango::DeviceProxy::real_constructor(const string&, bool) at (/home/conda/feedstock_root/build_artifacts/cpptango_1675413853047/work/cppapi/client/devapi_base.cpp:1705)\n  reason = API_DeviceNotDefined\nseverity = ERR]\n]",
     "output_type": "error",
     "traceback": [
      "\u001b[0;31m---------------------------------------------------------------------------\u001b[0m",
      "\u001b[0;31mDevFailed\u001b[0m                                 Traceback (most recent call last)",
      "Cell \u001b[0;32mIn [4], line 1\u001b[0m\n\u001b[0;32m----> 1\u001b[0m tile \u001b[38;5;241m=\u001b[39m \u001b[43mtango\u001b[49m\u001b[38;5;241;43m.\u001b[39;49m\u001b[43mDeviceProxy\u001b[49m\u001b[43m(\u001b[49m\u001b[38;5;124;43m\"\u001b[39;49m\u001b[38;5;124;43mlow-mccs/tile/ci-1-tpm10\u001b[39;49m\u001b[38;5;124;43m\"\u001b[39;49m\u001b[43m)\u001b[49m\n\u001b[1;32m      3\u001b[0m setup_values \u001b[38;5;241m=\u001b[39m {\n\u001b[1;32m      4\u001b[0m     \u001b[38;5;124m\"\u001b[39m\u001b[38;5;124mmode\u001b[39m\u001b[38;5;124m\"\u001b[39m: \u001b[38;5;124m\"\u001b[39m\u001b[38;5;124mSDN\u001b[39m\u001b[38;5;124m\"\u001b[39m,\n\u001b[1;32m      5\u001b[0m     \u001b[38;5;124m\"\u001b[39m\u001b[38;5;124mddr_start_byte_address\u001b[39m\u001b[38;5;124m\"\u001b[39m: \u001b[38;5;241m0\u001b[39m,\n\u001b[1;32m      6\u001b[0m     \u001b[38;5;124m\"\u001b[39m\u001b[38;5;124mmax_ddr_byte_size\u001b[39m\u001b[38;5;124m\"\u001b[39m: \u001b[38;5;28;01mNone\u001b[39;00m\n\u001b[1;32m      7\u001b[0m }\n\u001b[1;32m      8\u001b[0m code, message \u001b[38;5;241m=\u001b[39m tile\u001b[38;5;241m.\u001b[39mSetUpAntennaBuffer(json\u001b[38;5;241m.\u001b[39mdumps(setup_values))\n",
      "File \u001b[0;32m/opt/conda/lib/python3.10/site-packages/tango/device_proxy.py:213\u001b[0m, in \u001b[0;36m__DeviceProxy__init__\u001b[0;34m(self, *args, **kwargs)\u001b[0m\n\u001b[1;32m    209\u001b[0m bypass___setattr[\u001b[38;5;124m\"\u001b[39m\u001b[38;5;124m_executors\u001b[39m\u001b[38;5;124m\"\u001b[39m][GreenMode\u001b[38;5;241m.\u001b[39mGevent] \u001b[38;5;241m=\u001b[39m kwargs\u001b[38;5;241m.\u001b[39mpop(\u001b[38;5;124m\"\u001b[39m\u001b[38;5;124mthreadpool\u001b[39m\u001b[38;5;124m\"\u001b[39m, \u001b[38;5;28;01mNone\u001b[39;00m)\n\u001b[1;32m    210\u001b[0m bypass___setattr[\u001b[38;5;124m\"\u001b[39m\u001b[38;5;124m_executors\u001b[39m\u001b[38;5;124m\"\u001b[39m][GreenMode\u001b[38;5;241m.\u001b[39mAsyncio] \u001b[38;5;241m=\u001b[39m kwargs\u001b[38;5;241m.\u001b[39mpop(\n\u001b[1;32m    211\u001b[0m     \u001b[38;5;124m\"\u001b[39m\u001b[38;5;124masyncio_executor\u001b[39m\u001b[38;5;124m\"\u001b[39m, \u001b[38;5;28;01mNone\u001b[39;00m\n\u001b[1;32m    212\u001b[0m )\n\u001b[0;32m--> 213\u001b[0m \u001b[38;5;28;01mreturn\u001b[39;00m \u001b[43mDeviceProxy\u001b[49m\u001b[38;5;241;43m.\u001b[39;49m\u001b[43m__init_orig__\u001b[49m\u001b[43m(\u001b[49m\u001b[38;5;28;43mself\u001b[39;49m\u001b[43m,\u001b[49m\u001b[43m \u001b[49m\u001b[38;5;241;43m*\u001b[39;49m\u001b[43margs\u001b[49m\u001b[43m,\u001b[49m\u001b[43m \u001b[49m\u001b[38;5;241;43m*\u001b[39;49m\u001b[38;5;241;43m*\u001b[39;49m\u001b[43mkwargs\u001b[49m\u001b[43m)\u001b[49m\n",
      "\u001b[0;31mDevFailed\u001b[0m: DevFailed[\nDevError[\n    desc = device low-mccs/tile/ci-1-tpm10 not defined in the database !\n  origin = DataBase::ImportDevice()\n  reason = DB_DeviceNotDefined\nseverity = ERR]\n\nDevError[\n    desc = Failed to execute command_inout on device sys/database/2, command DbImportDevice\n  origin = virtual Tango::DeviceData Tango::Connection::command_inout(const string&, const Tango::DeviceData&) at (/home/conda/feedstock_root/build_artifacts/cpptango_1675413853047/work/cppapi/client/devapi_base.cpp:1338)\n  reason = API_CommandFailed\nseverity = ERR]\n\nDevError[\n    desc = Can't connect to device low-mccs/tile/ci-1-tpm10\n  origin = void Tango::DeviceProxy::real_constructor(const string&, bool) at (/home/conda/feedstock_root/build_artifacts/cpptango_1675413853047/work/cppapi/client/devapi_base.cpp:1705)\n  reason = API_DeviceNotDefined\nseverity = ERR]\n]"
     ]
    }
   ],
   "source": [
    "tile = tango.DeviceProxy(\"low-mccs/tile/ci-1-tpm10\")\n",
    "\n",
    "setup_values = {\n",
    "    \"mode\": \"SDN\",\n",
    "    \"ddr_start_byte_address\": 0,\n",
    "    \"max_ddr_byte_size\": None\n",
    "}\n",
    "code, message = tile.SetUpAntennaBuffer(json.dumps(setup_values))\n",
    "print(message)"
   ]
  },
  {
   "cell_type": "markdown",
   "metadata": {},
   "source": [
    "## Starting the antenna buffer\n",
    "\n",
    "Once the buffer is set up, the user can start writing.\n",
    "\n",
    "The write values used are:\n",
    "\n",
    "- Antennas: a list of antennas IDs to be used. There are 16 antennas and the IDs range from 0 to 15. The antennas are separated in FPGAs, of which there are 2. The first FPGA has antennas 0-7 and the second one has 8-15. Only a maximum of two antennas can be specified for each FPGA. There is no default value here, the software will return an error if the input is missing or incorrect. \n",
    "- start_time: The first timestamp to be written. If the value is -1, then it will start writing as soon as possible. Defaults to -1.\n",
    "- timestamp_capture_duration: capture duration in timestamps. Defaults to 75\n",
    "- continuous_mode: if enabled, timestamp duration is ignored. Defaults to False"
   ]
  },
  {
   "cell_type": "code",
   "execution_count": null,
   "metadata": {},
   "outputs": [
    {
     "ename": "DevFailed",
     "evalue": "DevFailed[\nDevError[\n    desc = ValueError: Antennas list is empty, please provide at least one antenna id: {}\n           \n  origin = Traceback (most recent call last):\n  File \"/usr/local/lib/python3.10/dist-packages/tango/server.py\", line 1771, in wrapped_command_method\n    return get_worker().execute(cmd_method, self, *args, **kwargs)\n  File \"/usr/local/lib/python3.10/dist-packages/tango/green.py\", line 113, in execute\n    return fn(*args, **kwargs)\n  File \"/app/src/ska_low_mccs_spshw/tile/tile_device.py\", line 5811, in StartAntennaBuffer\n    (return_code, message) = handler(argin)\n  File \"/usr/local/lib/python3.10/dist-packages/ska_tango_base/commands.py\", line 250, in __call__\n    return self.invoke(*args, **kwargs)\n  File \"/usr/local/lib/python3.10/dist-packages/ska_tango_base/commands.py\", line 317, in invoke\n    return self.do(*args, **kwargs)\n  File \"/app/src/ska_low_mccs_spshw/tile/tile_device.py\", line 5771, in do\n    raise ValueError(f\"{err}: {kwargs}\")\nValueError: Antennas list is empty, please provide at least one antenna id: {}\n\n  reason = PyDs_PythonError\nseverity = ERR]\n\nDevError[\n    desc = Cannot execute command\n  origin = virtual CORBA::Any* PyCmd::execute(Tango::DeviceImpl*, const CORBA::Any&) at (/builds/tango-controls/pytango/ext/server/command.cpp:316)\n  reason = PyDs_UnexpectedFailure\nseverity = ERR]\n\nDevError[\n    desc = Failed to execute command_inout on device low-mccs/tile/ci-1-tpm10, command StartAntennaBuffer\n  origin = virtual Tango::DeviceData Tango::Connection::command_inout(const string&, const Tango::DeviceData&) at (/home/conda/feedstock_root/build_artifacts/cpptango_1675413853047/work/cppapi/client/devapi_base.cpp:1338)\n  reason = API_CommandFailed\nseverity = ERR]\n]",
     "output_type": "error",
     "traceback": [
      "\u001b[0;31m---------------------------------------------------------------------------\u001b[0m",
      "\u001b[0;31mDevFailed\u001b[0m                                 Traceback (most recent call last)",
      "Cell \u001b[0;32mIn [3], line 7\u001b[0m\n\u001b[1;32m      1\u001b[0m start_values \u001b[38;5;241m=\u001b[39m {\n\u001b[1;32m      2\u001b[0m     \u001b[38;5;124m\"\u001b[39m\u001b[38;5;124mantennas\u001b[39m\u001b[38;5;124m\"\u001b[39m: [\u001b[38;5;241m1\u001b[39m,\u001b[38;5;241m2\u001b[39m],\n\u001b[1;32m      3\u001b[0m     \u001b[38;5;124m\"\u001b[39m\u001b[38;5;124mstart_time\u001b[39m\u001b[38;5;124m\"\u001b[39m: \u001b[38;5;241m0\u001b[39m,\n\u001b[1;32m      4\u001b[0m     \u001b[38;5;124m\"\u001b[39m\u001b[38;5;124mtimestamp_capture_duration\u001b[39m\u001b[38;5;124m\"\u001b[39m: \u001b[38;5;28;01mNone\u001b[39;00m,\n\u001b[1;32m      5\u001b[0m     \u001b[38;5;124m\"\u001b[39m\u001b[38;5;124mcontinuous_mode\u001b[39m\u001b[38;5;124m\"\u001b[39m: \u001b[38;5;28;01mTrue\u001b[39;00m,\n\u001b[1;32m      6\u001b[0m }\n\u001b[0;32m----> 7\u001b[0m code, message \u001b[38;5;241m=\u001b[39m \u001b[43mtile\u001b[49m\u001b[38;5;241;43m.\u001b[39;49m\u001b[43mStartAntennaBuffer\u001b[49m\u001b[43m(\u001b[49m\u001b[43mjson\u001b[49m\u001b[38;5;241;43m.\u001b[39;49m\u001b[43mdumps\u001b[49m\u001b[43m(\u001b[49m\u001b[43mstart_values\u001b[49m\u001b[43m)\u001b[49m\u001b[43m)\u001b[49m\n\u001b[1;32m      8\u001b[0m \u001b[38;5;28mprint\u001b[39m(message)\n",
      "File \u001b[0;32m/opt/conda/lib/python3.10/site-packages/tango/device_proxy.py:336\u001b[0m, in \u001b[0;36m__get_command_func.<locals>.f\u001b[0;34m(*args, **kwds)\u001b[0m\n\u001b[1;32m    335\u001b[0m \u001b[38;5;28;01mdef\u001b[39;00m \u001b[38;5;21mf\u001b[39m(\u001b[38;5;241m*\u001b[39margs, \u001b[38;5;241m*\u001b[39m\u001b[38;5;241m*\u001b[39mkwds):\n\u001b[0;32m--> 336\u001b[0m     \u001b[38;5;28;01mreturn\u001b[39;00m \u001b[43mdp\u001b[49m\u001b[38;5;241;43m.\u001b[39;49m\u001b[43mcommand_inout\u001b[49m\u001b[43m(\u001b[49m\u001b[43mname\u001b[49m\u001b[43m,\u001b[49m\u001b[43m \u001b[49m\u001b[38;5;241;43m*\u001b[39;49m\u001b[43margs\u001b[49m\u001b[43m,\u001b[49m\u001b[43m \u001b[49m\u001b[38;5;241;43m*\u001b[39;49m\u001b[38;5;241;43m*\u001b[39;49m\u001b[43mkwds\u001b[49m\u001b[43m)\u001b[49m\n",
      "File \u001b[0;32m/opt/conda/lib/python3.10/site-packages/tango/green.py:208\u001b[0m, in \u001b[0;36mgreen.<locals>.decorator.<locals>.greener\u001b[0;34m(obj, *args, **kwargs)\u001b[0m\n\u001b[1;32m    206\u001b[0m green_mode \u001b[38;5;241m=\u001b[39m access(\u001b[38;5;124m\"\u001b[39m\u001b[38;5;124mgreen_mode\u001b[39m\u001b[38;5;124m\"\u001b[39m, \u001b[38;5;28;01mNone\u001b[39;00m)\n\u001b[1;32m    207\u001b[0m executor \u001b[38;5;241m=\u001b[39m get_object_executor(obj, green_mode)\n\u001b[0;32m--> 208\u001b[0m \u001b[38;5;28;01mreturn\u001b[39;00m \u001b[43mexecutor\u001b[49m\u001b[38;5;241;43m.\u001b[39;49m\u001b[43mrun\u001b[49m\u001b[43m(\u001b[49m\u001b[43mfn\u001b[49m\u001b[43m,\u001b[49m\u001b[43m \u001b[49m\u001b[43margs\u001b[49m\u001b[43m,\u001b[49m\u001b[43m \u001b[49m\u001b[43mkwargs\u001b[49m\u001b[43m,\u001b[49m\u001b[43m \u001b[49m\u001b[43mwait\u001b[49m\u001b[38;5;241;43m=\u001b[39;49m\u001b[43mwait\u001b[49m\u001b[43m,\u001b[49m\u001b[43m \u001b[49m\u001b[43mtimeout\u001b[49m\u001b[38;5;241;43m=\u001b[39;49m\u001b[43mtimeout\u001b[49m\u001b[43m)\u001b[49m\n",
      "File \u001b[0;32m/opt/conda/lib/python3.10/site-packages/tango/green.py:116\u001b[0m, in \u001b[0;36mAbstractExecutor.run\u001b[0;34m(self, fn, args, kwargs, wait, timeout)\u001b[0m\n\u001b[1;32m    114\u001b[0m \u001b[38;5;66;03m# Synchronous (no delegation)\u001b[39;00m\n\u001b[1;32m    115\u001b[0m \u001b[38;5;28;01mif\u001b[39;00m \u001b[38;5;129;01mnot\u001b[39;00m \u001b[38;5;28mself\u001b[39m\u001b[38;5;241m.\u001b[39masynchronous \u001b[38;5;129;01mor\u001b[39;00m \u001b[38;5;129;01mnot\u001b[39;00m \u001b[38;5;28mself\u001b[39m\u001b[38;5;241m.\u001b[39min_executor_context():\n\u001b[0;32m--> 116\u001b[0m     \u001b[38;5;28;01mreturn\u001b[39;00m \u001b[43mfn\u001b[49m\u001b[43m(\u001b[49m\u001b[38;5;241;43m*\u001b[39;49m\u001b[43margs\u001b[49m\u001b[43m,\u001b[49m\u001b[43m \u001b[49m\u001b[38;5;241;43m*\u001b[39;49m\u001b[38;5;241;43m*\u001b[39;49m\u001b[43mkwargs\u001b[49m\u001b[43m)\u001b[49m\n\u001b[1;32m    117\u001b[0m \u001b[38;5;66;03m# Asynchronous delegation\u001b[39;00m\n\u001b[1;32m    118\u001b[0m accessor \u001b[38;5;241m=\u001b[39m \u001b[38;5;28mself\u001b[39m\u001b[38;5;241m.\u001b[39mdelegate(fn, \u001b[38;5;241m*\u001b[39margs, \u001b[38;5;241m*\u001b[39m\u001b[38;5;241m*\u001b[39mkwargs)\n",
      "File \u001b[0;32m/opt/conda/lib/python3.10/site-packages/tango/connection.py:116\u001b[0m, in \u001b[0;36m__Connection__command_inout\u001b[0;34m(self, name, *args, **kwds)\u001b[0m\n\u001b[1;32m     84\u001b[0m \u001b[38;5;28;01mdef\u001b[39;00m \u001b[38;5;21m__Connection__command_inout\u001b[39m(\u001b[38;5;28mself\u001b[39m, name, \u001b[38;5;241m*\u001b[39margs, \u001b[38;5;241m*\u001b[39m\u001b[38;5;241m*\u001b[39mkwds):\n\u001b[1;32m     85\u001b[0m     \u001b[38;5;124;03m\"\"\"\u001b[39;00m\n\u001b[1;32m     86\u001b[0m \u001b[38;5;124;03m    command_inout( self, cmd_name, cmd_param=None, green_mode=None, wait=True, timeout=None) -> any\u001b[39;00m\n\u001b[1;32m     87\u001b[0m \n\u001b[0;32m   (...)\u001b[0m\n\u001b[1;32m    114\u001b[0m \u001b[38;5;124;03m        *timeout* parameter.\u001b[39;00m\n\u001b[1;32m    115\u001b[0m \u001b[38;5;124;03m    \"\"\"\u001b[39;00m\n\u001b[0;32m--> 116\u001b[0m     r \u001b[38;5;241m=\u001b[39m \u001b[43mConnection\u001b[49m\u001b[38;5;241;43m.\u001b[39;49m\u001b[43mcommand_inout_raw\u001b[49m\u001b[43m(\u001b[49m\u001b[38;5;28;43mself\u001b[39;49m\u001b[43m,\u001b[49m\u001b[43m \u001b[49m\u001b[43mname\u001b[49m\u001b[43m,\u001b[49m\u001b[43m \u001b[49m\u001b[38;5;241;43m*\u001b[39;49m\u001b[43margs\u001b[49m\u001b[43m,\u001b[49m\u001b[43m \u001b[49m\u001b[38;5;241;43m*\u001b[39;49m\u001b[38;5;241;43m*\u001b[39;49m\u001b[43mkwds\u001b[49m\u001b[43m)\u001b[49m\n\u001b[1;32m    117\u001b[0m     \u001b[38;5;28;01mif\u001b[39;00m \u001b[38;5;28misinstance\u001b[39m(r, DeviceData):\n\u001b[1;32m    118\u001b[0m         \u001b[38;5;28;01mtry\u001b[39;00m:\n",
      "File \u001b[0;32m/opt/conda/lib/python3.10/site-packages/tango/connection.py:145\u001b[0m, in \u001b[0;36m__Connection__command_inout_raw\u001b[0;34m(self, cmd_name, cmd_param)\u001b[0m\n\u001b[1;32m    130\u001b[0m \u001b[38;5;124;03m\"\"\"\u001b[39;00m\n\u001b[1;32m    131\u001b[0m \u001b[38;5;124;03mcommand_inout_raw( self, cmd_name, cmd_param=None) -> DeviceData\u001b[39;00m\n\u001b[1;32m    132\u001b[0m \n\u001b[0;32m   (...)\u001b[0m\n\u001b[1;32m    142\u001b[0m \u001b[38;5;124;03m    Throws     : ConnectionFailed, CommunicationFailed, DeviceUnlocked, DevFailed from device\u001b[39;00m\n\u001b[1;32m    143\u001b[0m \u001b[38;5;124;03m\"\"\"\u001b[39;00m\n\u001b[1;32m    144\u001b[0m param \u001b[38;5;241m=\u001b[39m __get_command_inout_param(\u001b[38;5;28mself\u001b[39m, cmd_name, cmd_param)\n\u001b[0;32m--> 145\u001b[0m \u001b[38;5;28;01mreturn\u001b[39;00m \u001b[38;5;28;43mself\u001b[39;49m\u001b[38;5;241;43m.\u001b[39;49m\u001b[43m__command_inout\u001b[49m\u001b[43m(\u001b[49m\u001b[43mcmd_name\u001b[49m\u001b[43m,\u001b[49m\u001b[43m \u001b[49m\u001b[43mparam\u001b[49m\u001b[43m)\u001b[49m\n",
      "\u001b[0;31mDevFailed\u001b[0m: DevFailed[\nDevError[\n    desc = ValueError: Antennas list is empty, please provide at least one antenna id: {}\n           \n  origin = Traceback (most recent call last):\n  File \"/usr/local/lib/python3.10/dist-packages/tango/server.py\", line 1771, in wrapped_command_method\n    return get_worker().execute(cmd_method, self, *args, **kwargs)\n  File \"/usr/local/lib/python3.10/dist-packages/tango/green.py\", line 113, in execute\n    return fn(*args, **kwargs)\n  File \"/app/src/ska_low_mccs_spshw/tile/tile_device.py\", line 5811, in StartAntennaBuffer\n    (return_code, message) = handler(argin)\n  File \"/usr/local/lib/python3.10/dist-packages/ska_tango_base/commands.py\", line 250, in __call__\n    return self.invoke(*args, **kwargs)\n  File \"/usr/local/lib/python3.10/dist-packages/ska_tango_base/commands.py\", line 317, in invoke\n    return self.do(*args, **kwargs)\n  File \"/app/src/ska_low_mccs_spshw/tile/tile_device.py\", line 5771, in do\n    raise ValueError(f\"{err}: {kwargs}\")\nValueError: Antennas list is empty, please provide at least one antenna id: {}\n\n  reason = PyDs_PythonError\nseverity = ERR]\n\nDevError[\n    desc = Cannot execute command\n  origin = virtual CORBA::Any* PyCmd::execute(Tango::DeviceImpl*, const CORBA::Any&) at (/builds/tango-controls/pytango/ext/server/command.cpp:316)\n  reason = PyDs_UnexpectedFailure\nseverity = ERR]\n\nDevError[\n    desc = Failed to execute command_inout on device low-mccs/tile/ci-1-tpm10, command StartAntennaBuffer\n  origin = virtual Tango::DeviceData Tango::Connection::command_inout(const string&, const Tango::DeviceData&) at (/home/conda/feedstock_root/build_artifacts/cpptango_1675413853047/work/cppapi/client/devapi_base.cpp:1338)\n  reason = API_CommandFailed\nseverity = ERR]\n]"
     ]
    }
   ],
   "source": [
    "start_values = {\n",
    "    \"antennas\": [1,2],\n",
    "    \"start_time\": 0,\n",
    "    \"timestamp_capture_duration\": None,\n",
    "    \"continuous_mode\": True,\n",
    "}\n",
    "code, message = tile.StartAntennaBuffer(json.dumps(start_values))\n",
    "print(message)"
   ]
  },
  {
   "cell_type": "markdown",
   "metadata": {},
   "source": [
    "## Read the antenna buffer\n",
    "\n",
    "Reads from the antenna buffer to the DAQ reciever. Stops continous mode."
   ]
  },
  {
   "cell_type": "code",
   "execution_count": null,
   "metadata": {},
   "outputs": [
    {
     "ename": "DevFailed",
     "evalue": "DevFailed[\nDevError[\n    desc = KeyError: 'data_capture_initiated'\n           \n  origin = Traceback (most recent call last):\n  File \"/usr/local/lib/python3.10/dist-packages/tango/server.py\", line 1771, in wrapped_command_method\n    return get_worker().execute(cmd_method, self, *args, **kwargs)\n  File \"/usr/local/lib/python3.10/dist-packages/tango/green.py\", line 113, in execute\n    return fn(*args, **kwargs)\n  File \"/app/src/ska_low_mccs_spshw/tile/tile_device.py\", line 5862, in ReadAntennaBuffer\n    (return_code, message) = handler()\n  File \"/usr/local/lib/python3.10/dist-packages/ska_tango_base/commands.py\", line 250, in __call__\n    return self.invoke(*args, **kwargs)\n  File \"/usr/local/lib/python3.10/dist-packages/ska_tango_base/commands.py\", line 317, in invoke\n    return self.do(*args, **kwargs)\n  File \"/app/src/ska_low_mccs_spshw/tile/tile_device.py\", line 5844, in do\n    self._component_manager.read_antenna_buffer()\n  File \"/usr/local/lib/python3.10/dist-packages/ska_tango_base/base/base_component_manager.py\", line 92, in _wrapper\n    return func(component_manager, *args, **kwargs)\n  File \"/app/src/ska_low_mccs_spshw/tile/tile_component_manager.py\", line 1654, in read_antenna_buffer\n    self.tile.read_antenna_buffer()\n  File \"/app/src/ska_low_mccs_spshw/tile/tile_simulator.py\", line 86, in _wrapper\n    return func(self, *args, **kwargs)\n  File \"/app/src/ska_low_mccs_spshw/tile/tile_simulator.py\", line 1479, in read_antenna_buffer\n    if not self._antenna_buffer_tile_attribute[\"data_capture_initiated\"]:\nKeyError: 'data_capture_initiated'\n\n  reason = PyDs_PythonError\nseverity = ERR]\n\nDevError[\n    desc = Cannot execute command\n  origin = virtual CORBA::Any* PyCmd::execute(Tango::DeviceImpl*, const CORBA::Any&) at (/builds/tango-controls/pytango/ext/server/command.cpp:316)\n  reason = PyDs_UnexpectedFailure\nseverity = ERR]\n\nDevError[\n    desc = Failed to execute command_inout on device low-mccs/tile/ci-1-tpm10, command ReadAntennaBuffer\n  origin = virtual Tango::DeviceData Tango::Connection::command_inout(const string&, const Tango::DeviceData&) at (/home/conda/feedstock_root/build_artifacts/cpptango_1675413853047/work/cppapi/client/devapi_base.cpp:1338)\n  reason = API_CommandFailed\nseverity = ERR]\n]",
     "output_type": "error",
     "traceback": [
      "\u001b[0;31m---------------------------------------------------------------------------\u001b[0m",
      "\u001b[0;31mDevFailed\u001b[0m                                 Traceback (most recent call last)",
      "Cell \u001b[0;32mIn [7], line 1\u001b[0m\n\u001b[0;32m----> 1\u001b[0m \u001b[38;5;28mprint\u001b[39m(\u001b[43mtile\u001b[49m\u001b[38;5;241;43m.\u001b[39;49m\u001b[43mReadAntennaBuffer\u001b[49m\u001b[43m(\u001b[49m\u001b[43m)\u001b[49m)\n",
      "File \u001b[0;32m/opt/conda/lib/python3.10/site-packages/tango/device_proxy.py:336\u001b[0m, in \u001b[0;36m__get_command_func.<locals>.f\u001b[0;34m(*args, **kwds)\u001b[0m\n\u001b[1;32m    335\u001b[0m \u001b[38;5;28;01mdef\u001b[39;00m \u001b[38;5;21mf\u001b[39m(\u001b[38;5;241m*\u001b[39margs, \u001b[38;5;241m*\u001b[39m\u001b[38;5;241m*\u001b[39mkwds):\n\u001b[0;32m--> 336\u001b[0m     \u001b[38;5;28;01mreturn\u001b[39;00m \u001b[43mdp\u001b[49m\u001b[38;5;241;43m.\u001b[39;49m\u001b[43mcommand_inout\u001b[49m\u001b[43m(\u001b[49m\u001b[43mname\u001b[49m\u001b[43m,\u001b[49m\u001b[43m \u001b[49m\u001b[38;5;241;43m*\u001b[39;49m\u001b[43margs\u001b[49m\u001b[43m,\u001b[49m\u001b[43m \u001b[49m\u001b[38;5;241;43m*\u001b[39;49m\u001b[38;5;241;43m*\u001b[39;49m\u001b[43mkwds\u001b[49m\u001b[43m)\u001b[49m\n",
      "File \u001b[0;32m/opt/conda/lib/python3.10/site-packages/tango/green.py:208\u001b[0m, in \u001b[0;36mgreen.<locals>.decorator.<locals>.greener\u001b[0;34m(obj, *args, **kwargs)\u001b[0m\n\u001b[1;32m    206\u001b[0m green_mode \u001b[38;5;241m=\u001b[39m access(\u001b[38;5;124m\"\u001b[39m\u001b[38;5;124mgreen_mode\u001b[39m\u001b[38;5;124m\"\u001b[39m, \u001b[38;5;28;01mNone\u001b[39;00m)\n\u001b[1;32m    207\u001b[0m executor \u001b[38;5;241m=\u001b[39m get_object_executor(obj, green_mode)\n\u001b[0;32m--> 208\u001b[0m \u001b[38;5;28;01mreturn\u001b[39;00m \u001b[43mexecutor\u001b[49m\u001b[38;5;241;43m.\u001b[39;49m\u001b[43mrun\u001b[49m\u001b[43m(\u001b[49m\u001b[43mfn\u001b[49m\u001b[43m,\u001b[49m\u001b[43m \u001b[49m\u001b[43margs\u001b[49m\u001b[43m,\u001b[49m\u001b[43m \u001b[49m\u001b[43mkwargs\u001b[49m\u001b[43m,\u001b[49m\u001b[43m \u001b[49m\u001b[43mwait\u001b[49m\u001b[38;5;241;43m=\u001b[39;49m\u001b[43mwait\u001b[49m\u001b[43m,\u001b[49m\u001b[43m \u001b[49m\u001b[43mtimeout\u001b[49m\u001b[38;5;241;43m=\u001b[39;49m\u001b[43mtimeout\u001b[49m\u001b[43m)\u001b[49m\n",
      "File \u001b[0;32m/opt/conda/lib/python3.10/site-packages/tango/green.py:116\u001b[0m, in \u001b[0;36mAbstractExecutor.run\u001b[0;34m(self, fn, args, kwargs, wait, timeout)\u001b[0m\n\u001b[1;32m    114\u001b[0m \u001b[38;5;66;03m# Synchronous (no delegation)\u001b[39;00m\n\u001b[1;32m    115\u001b[0m \u001b[38;5;28;01mif\u001b[39;00m \u001b[38;5;129;01mnot\u001b[39;00m \u001b[38;5;28mself\u001b[39m\u001b[38;5;241m.\u001b[39masynchronous \u001b[38;5;129;01mor\u001b[39;00m \u001b[38;5;129;01mnot\u001b[39;00m \u001b[38;5;28mself\u001b[39m\u001b[38;5;241m.\u001b[39min_executor_context():\n\u001b[0;32m--> 116\u001b[0m     \u001b[38;5;28;01mreturn\u001b[39;00m \u001b[43mfn\u001b[49m\u001b[43m(\u001b[49m\u001b[38;5;241;43m*\u001b[39;49m\u001b[43margs\u001b[49m\u001b[43m,\u001b[49m\u001b[43m \u001b[49m\u001b[38;5;241;43m*\u001b[39;49m\u001b[38;5;241;43m*\u001b[39;49m\u001b[43mkwargs\u001b[49m\u001b[43m)\u001b[49m\n\u001b[1;32m    117\u001b[0m \u001b[38;5;66;03m# Asynchronous delegation\u001b[39;00m\n\u001b[1;32m    118\u001b[0m accessor \u001b[38;5;241m=\u001b[39m \u001b[38;5;28mself\u001b[39m\u001b[38;5;241m.\u001b[39mdelegate(fn, \u001b[38;5;241m*\u001b[39margs, \u001b[38;5;241m*\u001b[39m\u001b[38;5;241m*\u001b[39mkwargs)\n",
      "File \u001b[0;32m/opt/conda/lib/python3.10/site-packages/tango/connection.py:116\u001b[0m, in \u001b[0;36m__Connection__command_inout\u001b[0;34m(self, name, *args, **kwds)\u001b[0m\n\u001b[1;32m     84\u001b[0m \u001b[38;5;28;01mdef\u001b[39;00m \u001b[38;5;21m__Connection__command_inout\u001b[39m(\u001b[38;5;28mself\u001b[39m, name, \u001b[38;5;241m*\u001b[39margs, \u001b[38;5;241m*\u001b[39m\u001b[38;5;241m*\u001b[39mkwds):\n\u001b[1;32m     85\u001b[0m     \u001b[38;5;124;03m\"\"\"\u001b[39;00m\n\u001b[1;32m     86\u001b[0m \u001b[38;5;124;03m    command_inout( self, cmd_name, cmd_param=None, green_mode=None, wait=True, timeout=None) -> any\u001b[39;00m\n\u001b[1;32m     87\u001b[0m \n\u001b[0;32m   (...)\u001b[0m\n\u001b[1;32m    114\u001b[0m \u001b[38;5;124;03m        *timeout* parameter.\u001b[39;00m\n\u001b[1;32m    115\u001b[0m \u001b[38;5;124;03m    \"\"\"\u001b[39;00m\n\u001b[0;32m--> 116\u001b[0m     r \u001b[38;5;241m=\u001b[39m \u001b[43mConnection\u001b[49m\u001b[38;5;241;43m.\u001b[39;49m\u001b[43mcommand_inout_raw\u001b[49m\u001b[43m(\u001b[49m\u001b[38;5;28;43mself\u001b[39;49m\u001b[43m,\u001b[49m\u001b[43m \u001b[49m\u001b[43mname\u001b[49m\u001b[43m,\u001b[49m\u001b[43m \u001b[49m\u001b[38;5;241;43m*\u001b[39;49m\u001b[43margs\u001b[49m\u001b[43m,\u001b[49m\u001b[43m \u001b[49m\u001b[38;5;241;43m*\u001b[39;49m\u001b[38;5;241;43m*\u001b[39;49m\u001b[43mkwds\u001b[49m\u001b[43m)\u001b[49m\n\u001b[1;32m    117\u001b[0m     \u001b[38;5;28;01mif\u001b[39;00m \u001b[38;5;28misinstance\u001b[39m(r, DeviceData):\n\u001b[1;32m    118\u001b[0m         \u001b[38;5;28;01mtry\u001b[39;00m:\n",
      "File \u001b[0;32m/opt/conda/lib/python3.10/site-packages/tango/connection.py:145\u001b[0m, in \u001b[0;36m__Connection__command_inout_raw\u001b[0;34m(self, cmd_name, cmd_param)\u001b[0m\n\u001b[1;32m    130\u001b[0m \u001b[38;5;124;03m\"\"\"\u001b[39;00m\n\u001b[1;32m    131\u001b[0m \u001b[38;5;124;03mcommand_inout_raw( self, cmd_name, cmd_param=None) -> DeviceData\u001b[39;00m\n\u001b[1;32m    132\u001b[0m \n\u001b[0;32m   (...)\u001b[0m\n\u001b[1;32m    142\u001b[0m \u001b[38;5;124;03m    Throws     : ConnectionFailed, CommunicationFailed, DeviceUnlocked, DevFailed from device\u001b[39;00m\n\u001b[1;32m    143\u001b[0m \u001b[38;5;124;03m\"\"\"\u001b[39;00m\n\u001b[1;32m    144\u001b[0m param \u001b[38;5;241m=\u001b[39m __get_command_inout_param(\u001b[38;5;28mself\u001b[39m, cmd_name, cmd_param)\n\u001b[0;32m--> 145\u001b[0m \u001b[38;5;28;01mreturn\u001b[39;00m \u001b[38;5;28;43mself\u001b[39;49m\u001b[38;5;241;43m.\u001b[39;49m\u001b[43m__command_inout\u001b[49m\u001b[43m(\u001b[49m\u001b[43mcmd_name\u001b[49m\u001b[43m,\u001b[49m\u001b[43m \u001b[49m\u001b[43mparam\u001b[49m\u001b[43m)\u001b[49m\n",
      "\u001b[0;31mDevFailed\u001b[0m: DevFailed[\nDevError[\n    desc = KeyError: 'data_capture_initiated'\n           \n  origin = Traceback (most recent call last):\n  File \"/usr/local/lib/python3.10/dist-packages/tango/server.py\", line 1771, in wrapped_command_method\n    return get_worker().execute(cmd_method, self, *args, **kwargs)\n  File \"/usr/local/lib/python3.10/dist-packages/tango/green.py\", line 113, in execute\n    return fn(*args, **kwargs)\n  File \"/app/src/ska_low_mccs_spshw/tile/tile_device.py\", line 5862, in ReadAntennaBuffer\n    (return_code, message) = handler()\n  File \"/usr/local/lib/python3.10/dist-packages/ska_tango_base/commands.py\", line 250, in __call__\n    return self.invoke(*args, **kwargs)\n  File \"/usr/local/lib/python3.10/dist-packages/ska_tango_base/commands.py\", line 317, in invoke\n    return self.do(*args, **kwargs)\n  File \"/app/src/ska_low_mccs_spshw/tile/tile_device.py\", line 5844, in do\n    self._component_manager.read_antenna_buffer()\n  File \"/usr/local/lib/python3.10/dist-packages/ska_tango_base/base/base_component_manager.py\", line 92, in _wrapper\n    return func(component_manager, *args, **kwargs)\n  File \"/app/src/ska_low_mccs_spshw/tile/tile_component_manager.py\", line 1654, in read_antenna_buffer\n    self.tile.read_antenna_buffer()\n  File \"/app/src/ska_low_mccs_spshw/tile/tile_simulator.py\", line 86, in _wrapper\n    return func(self, *args, **kwargs)\n  File \"/app/src/ska_low_mccs_spshw/tile/tile_simulator.py\", line 1479, in read_antenna_buffer\n    if not self._antenna_buffer_tile_attribute[\"data_capture_initiated\"]:\nKeyError: 'data_capture_initiated'\n\n  reason = PyDs_PythonError\nseverity = ERR]\n\nDevError[\n    desc = Cannot execute command\n  origin = virtual CORBA::Any* PyCmd::execute(Tango::DeviceImpl*, const CORBA::Any&) at (/builds/tango-controls/pytango/ext/server/command.cpp:316)\n  reason = PyDs_UnexpectedFailure\nseverity = ERR]\n\nDevError[\n    desc = Failed to execute command_inout on device low-mccs/tile/ci-1-tpm10, command ReadAntennaBuffer\n  origin = virtual Tango::DeviceData Tango::Connection::command_inout(const string&, const Tango::DeviceData&) at (/home/conda/feedstock_root/build_artifacts/cpptango_1675413853047/work/cppapi/client/devapi_base.cpp:1338)\n  reason = API_CommandFailed\nseverity = ERR]\n]"
     ]
    }
   ],
   "source": [
    "code, message = tile.ReadAntennaBuffer()\n",
    "print(message)"
   ]
  },
  {
   "cell_type": "markdown",
   "metadata": {},
   "source": [
    "## Stop the antenna buffer\n",
    "\n",
    "Stops the antenna buffer"
   ]
  },
  {
   "cell_type": "code",
   "execution_count": null,
   "metadata": {},
   "outputs": [
    {
     "name": "stdout",
     "output_type": "stream",
     "text": [
      "[array([0], dtype=int32), ['StopAntennaBuffer command completed OK']]\n"
     ]
    }
   ],
   "source": [
    "start_values = {\n",
    "    \"antennas\": [1,2],\n",
    "    \"start_time\": 0,\n",
    "    \"timestamp_capture_duration\": None,\n",
    "    \"continuous_mode\": True,\n",
    "}\n",
    "code, message = tile.StartAntennaBuffer(json.dumps(start_values))\n",
    "\n",
    "code, message = tile.StopAntennaBuffer()\n",
    "print(message)"
   ]
  }
 ],
 "metadata": {
  "kernelspec": {
   "display_name": "Python 3 (ipykernel)",
   "language": "python",
   "name": "python3"
  },
  "language_info": {
   "codemirror_mode": {
    "name": "ipython",
    "version": 3
   },
   "file_extension": ".py",
   "mimetype": "text/x-python",
   "name": "python",
   "nbconvert_exporter": "python",
   "pygments_lexer": "ipython3",
   "version": "3.10.6"
  }
 },
 "nbformat": 4,
 "nbformat_minor": 2
}
