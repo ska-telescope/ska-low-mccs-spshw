{
 "cells": [
  {
   "attachments": {},
   "cell_type": "markdown",
   "metadata": {},
   "source": [
    "Start by importing all the modules to be used"
   ]
  },
  {
   "cell_type": "code",
   "execution_count": null,
   "metadata": {},
   "outputs": [],
   "source": [
    "import tango\n",
    "import time\n",
    "import json\n",
    "import os"
   ]
  },
  {
   "attachments": {},
   "cell_type": "markdown",
   "metadata": {},
   "source": [
    "Set up device proxies for our tango devices and put them into admin mode (allowing them to be used)"
   ]
  },
  {
   "cell_type": "code",
   "execution_count": null,
   "metadata": {},
   "outputs": [],
   "source": [
    "# create device proxies and put devices in Online, not simulated mode\n",
    "sr=tango.DeviceProxy('low-mccs/subrack/01')\n",
    "sr.adminMode=0\n",
    "sr.simulationMode=1\n",
    "\n",
    "tpm1=tango.DeviceProxy(\"low-mccs/tile/0001\")\n",
    "tpm1.adminMode = 0\n",
    "tpm1.simulationMode = 0\n",
    "\n",
    "daq = tango.DeviceProxy(\"low-mccs-daq/daqreceiver/001\")\n",
    "daq.adminMode = 0\n",
    "daq.simulationMode = 1\n",
    "\n",
    "# turn on subrack and wait for ON status\n",
    "sr.On()\n",
    "while sr.state() != tango._tango.DevState.ON:\n",
    "    time.sleep(1)\n",
    "\n",
    "# turn on DAQ and wait for ON status\n",
    "daq.On()\n",
    "while daq.state() != tango._tango.DevState.ON:\n",
    "    time.sleep(1)\n",
    "\n",
    "# turn on TPM and wait for initialization. \n",
    "tpm1.On()\n",
    "while tpm1.tileprogrammingstate != \"Initialised\" and \\\n",
    "\ttpm1.tileprogrammingstate != \"Synchronised\":\n",
    "\ttime.sleep(1)"
   ]
  },
  {
   "attachments": {},
   "cell_type": "markdown",
   "metadata": {},
   "source": [
    "Set up the data stream on the tile and daq"
   ]
  },
  {
   "cell_type": "code",
   "execution_count": null,
   "metadata": {},
   "outputs": [],
   "source": [
    "# Start TPM acquisition and wait for ADC stream to start\n",
    "tpm1.startacquisition('{}')\n",
    "while tpm1.tileprogrammingstate != \"Synchronised\":\n",
    "\ttime.sleep(1)\n",
    "\n",
    "#configure networking between TPM and DAQ.\n",
    "dst_tpm_port = 4660\n",
    "dst_tpm_ip = \"10.0.10.2\"\n",
    "lmc_download_dict = {\"Mode\": \"10g\", \"DspIP\": dst_tpm_ip, \"DstPort\": dst_tpm_port}\n",
    "tpm1.SetLmcDownload(json.dumps(lmc_download_dict))\n",
    "daq.Configure('{\"receiver_ports\": [dst_tpm_port], \"receiver_interface\": \"eth0\", \"receiver_ip\": dst_tpm_ip,}')\n",
    "daq.SetConsumers(\"RawData\")"
   ]
  },
  {
   "attachments": {},
   "cell_type": "markdown",
   "metadata": {},
   "source": [
    "Start the daq"
   ]
  },
  {
   "cell_type": "code",
   "execution_count": null,
   "metadata": {},
   "outputs": [],
   "source": [
    "#bug currently in the Start command\n",
    "daq.Start()\n",
    "\n",
    "data_to_send = {\"data_type\": \"raw\"}\n",
    "tpm1.SendDataSamples(json.dumps(data_to_send))"
   ]
  },
  {
   "attachments": {},
   "cell_type": "markdown",
   "metadata": {},
   "source": [
    "Prove that the daq has started writing to files "
   ]
  },
  {
   "cell_type": "code",
   "execution_count": null,
   "metadata": {},
   "outputs": [],
   "source": [
    "received_data_mode, received_data_result = daq.dataReceivedResult\n",
    "data = json.loads(received_data_result)\n",
    "file_name = data['filename']\n",
    "\n",
    "if (os.path.exists(file_name)):\n",
    "    print(\"Data is being streamed to file\")\n",
    "else:\n",
    "    print(\"Data ack has failed\")"
   ]
  },
  {
   "attachments": {},
   "cell_type": "markdown",
   "metadata": {},
   "source": [
    "Show that we can monitor health attributes from jupyter notebook"
   ]
  },
  {
   "cell_type": "code",
   "execution_count": null,
   "metadata": {},
   "outputs": [],
   "source": [
    "tgm -w 1200 low-mccs-spshw/tile/0001/voltage"
   ]
  }
 ],
 "metadata": {
  "kernelspec": {
   "display_name": "Python 3.8.10 64-bit",
   "language": "python",
   "name": "python3"
  },
  "language_info": {
   "name": "python",
   "version": "3.8.10"
  },
  "orig_nbformat": 4,
  "vscode": {
   "interpreter": {
    "hash": "916dbcbb3f70747c44a77c7bcd40155683ae19c65e1c03b4aa3499c5328201f1"
   }
  }
 },
 "nbformat": 4,
 "nbformat_minor": 2
}
